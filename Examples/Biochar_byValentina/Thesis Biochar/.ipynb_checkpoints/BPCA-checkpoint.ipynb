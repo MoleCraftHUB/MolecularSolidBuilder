{
 "cells": [
  {
   "cell_type": "markdown",
   "id": "89fc2c94",
   "metadata": {},
   "source": [
    "# Aromatic size distribution"
   ]
  },
  {
   "cell_type": "code",
   "execution_count": null,
   "id": "76c0d57a",
   "metadata": {},
   "outputs": [],
   "source": [
    "import numpy as np\n",
    "import pandas as pd\n",
    "from matplotlib import pyplot as mp\n",
    "import numpy as np\n",
    "from scipy.stats import norm\n",
    "from scipy.stats import pareto\n",
    "from scipy.integrate import simps\n",
    "import seaborn as sns\n",
    "from scipy.optimize import minimize\n",
    "from scipy.optimize import fmin_slsqp"
   ]
  },
  {
   "cell_type": "markdown",
   "id": "bd672bb3",
   "metadata": {},
   "source": [
    "### PAH BPCA yields"
   ]
  },
  {
   "cell_type": "code",
   "execution_count": null,
   "id": "ef5ef06c",
   "metadata": {},
   "outputs": [],
   "source": [
    "B2CA = np.array([1.0, 0.667, 0.0, 0.714, 0.667, 0.0, 0.5, 0.5, 0.4, 0.5, 0.0, 0.0, 0.2, 0.0, 0.0,0.0,0.0,0.0,0.0,0.0]).T\n",
    "B3CA = np.array([0.0, 0.0, 1.0, 0.0, 0.33, 0.5, 0.0, 0.0, 0.2, 0.0, 0.0, 0.80, 0.2, 0.333, 0.0, 0.0,0.0,0.08,0.0,0.0]).T\n",
    "B4CA = np.array([0.0, 0.333, 0.0, 0.286, 0.0, 0.5, 0.5, 0.5, 0.0, 0.5, 0.857, 0.0, 0.4, 0.50, 0.429, 0.316,0.250,0.080,0.2, 0.419]).T\n",
    "B5CA = np.array([0.0, 0.0, 0.0, 0.0, 0.0, 0.0, 0.0, 0.0, 0.4, 0.0, 0.0, 0.0, 0.2, 0.0, 0.286, 0.316,0.33,0.480,0.333,0.0]).T\n",
    "B6CA = np.array([0.0, 0.0, 0.0, 0.0, 0.0, 0.0, 0.0, 0.0, 0.0, 0.0, 0.143, 0.2, 0.0, 0.167, 0.286, 0.368,0.417,0.360,0.467,0.581]).T"
   ]
  },
  {
   "cell_type": "markdown",
   "id": "1a4aa384",
   "metadata": {},
   "source": [
    "### Total number of carbons per PAH"
   ]
  },
  {
   "cell_type": "code",
   "execution_count": null,
   "id": "560be7dc",
   "metadata": {},
   "outputs": [],
   "source": [
    "t = np.array([10, 13, 13, 14, 14, 16, 18, 17, 20, 17, 24, 20, 20, 22, 42, 54, 66, 70, 80, 84]).T"
   ]
  },
  {
   "cell_type": "markdown",
   "id": "b99f45de",
   "metadata": {},
   "source": [
    "### Total number of hydrogen per PAH"
   ]
  },
  {
   "cell_type": "code",
   "execution_count": null,
   "id": "1768d9cd",
   "metadata": {},
   "outputs": [],
   "source": [
    "h=np.array([8, 10, 10, 10, 10, 10, 12, 12, 12, 12, 12, 12, 12, 12, 16, 18, 20, 22, 22, 24]).T"
   ]
  },
  {
   "cell_type": "markdown",
   "id": "8cc89537",
   "metadata": {},
   "source": [
    "### Experimental BPCA yields for the biochar sample"
   ]
  },
  {
   "cell_type": "code",
   "execution_count": null,
   "id": "8ba3d0f1",
   "metadata": {},
   "outputs": [],
   "source": [
    "B2CAex = float(input(\"Enter the value for B2CA: \"))\n",
    "B3CAex = float(input(\"Enter the value for B3CA: \"))\n",
    "B4CAex = float(input(\"Enter the value for B4CA: \"))\n",
    "B5CAex = float(input(\"Enter the value for B5CA: \"))\n",
    "B6CAex = float(input(\"Enter the value for B6CA: \"))"
   ]
  },
  {
   "cell_type": "code",
   "execution_count": null,
   "id": "86245862",
   "metadata": {},
   "outputs": [],
   "source": [
    "H_C=float(input(\"Enter the value for H/C ratio molar: \"))"
   ]
  },
  {
   "cell_type": "code",
   "execution_count": null,
   "id": "70cd667f",
   "metadata": {},
   "outputs": [],
   "source": [
    "Biochar_Temp=float(input(\"Enter the temperature of pyrolysis in °C: \"))"
   ]
  },
  {
   "cell_type": "code",
   "execution_count": null,
   "id": "9595d207",
   "metadata": {},
   "outputs": [],
   "source": [
    "if Biochar_Temp == 400:\n",
    "    m = 2.6\n",
    "elif Biochar_Temp == 500:\n",
    "    m = 2\n",
    "elif Biochar_Temp == 600:\n",
    "    m = 1.6\n",
    "elif Biochar_Temp == 700:\n",
    "    m = 0.5\n",
    "else:\n",
    "    m = 0  # You may want to specify a default value in case Biochar_Temp doesn't match any of the above conditions"
   ]
  },
  {
   "cell_type": "code",
   "execution_count": null,
   "id": "3da734e2",
   "metadata": {},
   "outputs": [],
   "source": [
    "if Biochar_Temp == 400:\n",
    "    v = 0.25\n",
    "elif Biochar_Temp == 500:\n",
    "    v = 0.13\n",
    "elif Biochar_Temp == 600:\n",
    "    v = 0.06\n",
    "elif Biochar_Temp == 700:\n",
    "    v = 0.07\n",
    "else:\n",
    "    v = 0  # You may want to specify a default value in case Biochar_Temp doesn't match any of the above conditions"
   ]
  },
  {
   "cell_type": "markdown",
   "id": "d48c0c95",
   "metadata": {},
   "source": [
    "## Create a Probability Density Distribution"
   ]
  },
  {
   "attachments": {
    "00cb9b2c9b866378626bcfa45c86a6de2f2b2e40.svg": {
     "image/svg+xml": [
      "PHN2ZyB4bWxuczp4bGluaz0iaHR0cDovL3d3dy53My5vcmcvMTk5OS94bGluayIgd2lkdGg9IjI0LjQ0NmV4IiBoZWlnaHQ9IjYuNjc2ZXgiIHN0eWxlPSJ2ZXJ0aWNhbC1hbGlnbjogLTIuODM4ZXg7IiB2aWV3Qm94PSIwIC0xNjUyLjUgMTA1MjUuNCAyODc0LjQiIHJvbGU9ImltZyIgZm9jdXNhYmxlPSJmYWxzZSIgeG1sbnM9Imh0dHA6Ly93d3cudzMub3JnLzIwMDAvc3ZnIiBhcmlhLWxhYmVsbGVkYnk9Ik1hdGhKYXgtU1ZHLTEtVGl0bGUiPgo8dGl0bGUgaWQ9Ik1hdGhKYXgtU1ZHLTEtVGl0bGUiPntcZGlzcGxheXN0eWxlIGYoeCk9e1xmcmFjIHsxfXtcc2lnbWEge1xzcXJ0IHsyXHBpIH19fX1lXnste1xmcmFjIHsxfXsyfX1cbGVmdCh7XGZyYWMge3gtXG11IH17XHNpZ21hIH19XHJpZ2h0KV57Mn19fTwvdGl0bGU+CjxkZWZzIGFyaWEtaGlkZGVuPSJ0cnVlIj4KPHBhdGggc3Ryb2tlLXdpZHRoPSIxIiBpZD0iRTEtTUpNQVRISS02NiIgZD0iTTExOCAtMTYyUTEyMCAtMTYyIDEyNCAtMTY0VDEzNSAtMTY3VDE0NyAtMTY4UTE2MCAtMTY4IDE3MSAtMTU1VDE4NyAtMTI2UTE5NyAtOTkgMjIxIDI3VDI2NyAyNjdUMjg5IDM4MlYzODVIMjQyUTE5NSAzODUgMTkyIDM4N1ExODggMzkwIDE4OCAzOTdMMTk1IDQyNVExOTcgNDMwIDIwMyA0MzBUMjUwIDQzMVEyOTggNDMxIDI5OCA0MzJRMjk4IDQzNCAzMDcgNDgyVDMxOSA1NDBRMzU2IDcwNSA0NjUgNzA1UTUwMiA3MDMgNTI2IDY4M1Q1NTAgNjMwUTU1MCA1OTQgNTI5IDU3OFQ0ODcgNTYxUTQ0MyA1NjEgNDQzIDYwM1E0NDMgNjIyIDQ1NCA2MzZUNDc4IDY1N0w0ODcgNjYyUTQ3MSA2NjggNDU3IDY2OFE0NDUgNjY4IDQzNCA2NThUNDE5IDYzMFE0MTIgNjAxIDQwMyA1NTJUMzg3IDQ2OVQzODAgNDMzUTM4MCA0MzEgNDM1IDQzMVE0ODAgNDMxIDQ4NyA0MzBUNDk4IDQyNFE0OTkgNDIwIDQ5NiA0MDdUNDkxIDM5MVE0ODkgMzg2IDQ4MiAzODZUNDI4IDM4NUgzNzJMMzQ5IDI2M1EzMDEgMTUgMjgyIC00N1EyNTUgLTEzMiAyMTIgLTE3M1ExNzUgLTIwNSAxMzkgLTIwNVExMDcgLTIwNSA4MSAtMTg2VDU1IC0xMzJRNTUgLTk1IDc2IC03OFQxMTggLTYxUTE2MiAtNjEgMTYyIC0xMDNRMTYyIC0xMjIgMTUxIC0xMzZUMTI3IC0xNTdMMTE4IC0xNjJaIj48L3BhdGg+CjxwYXRoIHN0cm9rZS13aWR0aD0iMSIgaWQ9IkUxLU1KTUFJTi0yOCIgZD0iTTk0IDI1MFE5NCAzMTkgMTA0IDM4MVQxMjcgNDg4VDE2NCA1NzZUMjAyIDY0M1QyNDQgNjk1VDI3NyA3MjlUMzAyIDc1MEgzMTVIMzE5UTMzMyA3NTAgMzMzIDc0MVEzMzMgNzM4IDMxNiA3MjBUMjc1IDY2N1QyMjYgNTgxVDE4NCA0NDNUMTY3IDI1MFQxODQgNThUMjI1IC04MVQyNzQgLTE2N1QzMTYgLTIyMFQzMzMgLTI0MVEzMzMgLTI1MCAzMTggLTI1MEgzMTVIMzAyTDI3NCAtMjI2UTE4MCAtMTQxIDEzNyAtMTRUOTQgMjUwWiI+PC9wYXRoPgo8cGF0aCBzdHJva2Utd2lkdGg9IjEiIGlkPSJFMS1NSk1BVEhJLTc4IiBkPSJNNTIgMjg5UTU5IDMzMSAxMDYgMzg2VDIyMiA0NDJRMjU3IDQ0MiAyODYgNDI0VDMyOSAzNzlRMzcxIDQ0MiA0MzAgNDQyUTQ2NyA0NDIgNDk0IDQyMFQ1MjIgMzYxUTUyMiAzMzIgNTA4IDMxNFQ0ODEgMjkyVDQ1OCAyODhRNDM5IDI4OCA0MjcgMjk5VDQxNSAzMjhRNDE1IDM3NCA0NjUgMzkxUTQ1NCA0MDQgNDI1IDQwNFE0MTIgNDA0IDQwNiA0MDJRMzY4IDM4NiAzNTAgMzM2UTI5MCAxMTUgMjkwIDc4UTI5MCA1MCAzMDYgMzhUMzQxIDI2UTM3OCAyNiA0MTQgNTlUNDYzIDE0MFE0NjYgMTUwIDQ2OSAxNTFUNDg1IDE1M0g0ODlRNTA0IDE1MyA1MDQgMTQ1UTUwNCAxNDQgNTAyIDEzNFE0ODYgNzcgNDQwIDMzVDMzMyAtMTFRMjYzIC0xMSAyMjcgNTJRMTg2IC0xMCAxMzMgLTEwSDEyN1E3OCAtMTAgNTcgMTZUMzUgNzFRMzUgMTAzIDU0IDEyM1Q5OSAxNDNRMTQyIDE0MyAxNDIgMTAxUTE0MiA4MSAxMzAgNjZUMTA3IDQ2VDk0IDQxTDkxIDQwUTkxIDM5IDk3IDM2VDExMyAyOVQxMzIgMjZRMTY4IDI2IDE5NCA3MVEyMDMgODcgMjE3IDEzOVQyNDUgMjQ3VDI2MSAzMTNRMjY2IDM0MCAyNjYgMzUyUTI2NiAzODAgMjUxIDM5MlQyMTcgNDA0UTE3NyA0MDQgMTQyIDM3MlQ5MyAyOTBROTEgMjgxIDg4IDI4MFQ3MiAyNzhINThRNTIgMjg0IDUyIDI4OVoiPjwvcGF0aD4KPHBhdGggc3Ryb2tlLXdpZHRoPSIxIiBpZD0iRTEtTUpNQUlOLTI5IiBkPSJNNjAgNzQ5TDY0IDc1MFE2OSA3NTAgNzQgNzUwSDg2TDExNCA3MjZRMjA4IDY0MSAyNTEgNTE0VDI5NCAyNTBRMjk0IDE4MiAyODQgMTE5VDI2MSAxMlQyMjQgLTc2VDE4NiAtMTQzVDE0NSAtMTk0VDExMyAtMjI3VDkwIC0yNDZRODcgLTI0OSA4NiAtMjUwSDc0UTY2IC0yNTAgNjMgLTI1MFQ1OCAtMjQ3VDU1IC0yMzhRNTYgLTIzNyA2NiAtMjI1UTIyMSAtNjQgMjIxIDI1MFQ2NiA3MjVRNTYgNzM3IDU1IDczOFE1NSA3NDYgNjAgNzQ5WiI+PC9wYXRoPgo8cGF0aCBzdHJva2Utd2lkdGg9IjEiIGlkPSJFMS1NSk1BSU4tM0QiIGQ9Ik01NiAzNDdRNTYgMzYwIDcwIDM2N0g3MDdRNzIyIDM1OSA3MjIgMzQ3UTcyMiAzMzYgNzA4IDMyOEwzOTAgMzI3SDcyUTU2IDMzMiA1NiAzNDdaTTU2IDE1M1E1NiAxNjggNzIgMTczSDcwOFE3MjIgMTYzIDcyMiAxNTNRNzIyIDE0MCA3MDcgMTMzSDcwUTU2IDE0MCA1NiAxNTNaIj48L3BhdGg+CjxwYXRoIHN0cm9rZS13aWR0aD0iMSIgaWQ9IkUxLU1KTUFJTi0zMSIgZD0iTTIxMyA1NzhMMjAwIDU3M1ExODYgNTY4IDE2MCA1NjNUMTAyIDU1Nkg4M1Y2MDJIMTAyUTE0OSA2MDQgMTg5IDYxN1QyNDUgNjQxVDI3MyA2NjNRMjc1IDY2NiAyODUgNjY2UTI5NCA2NjYgMzAyIDY2MFYzNjFMMzAzIDYxUTMxMCA1NCAzMTUgNTJUMzM5IDQ4VDQwMSA0Nkg0MjdWMEg0MTZRMzk1IDMgMjU3IDNRMTIxIDMgMTAwIDBIODhWNDZIMTE0UTEzNiA0NiAxNTIgNDZUMTc3IDQ3VDE5MyA1MFQyMDEgNTJUMjA3IDU3VDIxMyA2MVY1NzhaIj48L3BhdGg+CjxwYXRoIHN0cm9rZS13aWR0aD0iMSIgaWQ9IkUxLU1KTUFUSEktM0MzIiBkPSJNMTg0IC0xMVExMTYgLTExIDc0IDM0VDMxIDE0N1EzMSAyNDcgMTA0IDMzM1QyNzQgNDMwUTI3NSA0MzEgNDE0IDQzMUg1NTJRNTUzIDQzMCA1NTUgNDI5VDU1OSA0MjdUNTYyIDQyNVQ1NjUgNDIyVDU2NyA0MjBUNTY5IDQxNlQ1NzAgNDEyVDU3MSA0MDdUNTcyIDQwMVE1NzIgMzU3IDUwNyAzNTdRNTAwIDM1NyA0OTAgMzU3VDQ3NiAzNThINDE2TDQyMSAzNDhRNDM5IDMxMCA0MzkgMjYzUTQzOSAxNTMgMzU5IDcxVDE4NCAtMTFaTTM2MSAyNzhRMzYxIDM1OCAyNzYgMzU4UTE1MiAzNTggMTE1IDE4NFExMTQgMTgwIDExNCAxNzhRMTA2IDE0MSAxMDYgMTE3UTEwNiA2NyAxMzEgNDdUMTg4IDI2UTI0MiAyNiAyODcgNzNRMzE2IDEwMyAzMzQgMTUzVDM1NiAyMzNUMzYxIDI3OFoiPjwvcGF0aD4KPHBhdGggc3Ryb2tlLXdpZHRoPSIxIiBpZD0iRTEtTUpNQUlOLTMyIiBkPSJNMTA5IDQyOVE4MiA0MjkgNjYgNDQ3VDUwIDQ5MVE1MCA1NjIgMTAzIDYxNFQyMzUgNjY2UTMyNiA2NjYgMzg3IDYxMFQ0NDkgNDY1UTQ0OSA0MjIgNDI5IDM4M1QzODEgMzE1VDMwMSAyNDFRMjY1IDIxMCAyMDEgMTQ5TDE0MiA5M0wyMTggOTJRMzc1IDkyIDM4NSA5N1EzOTIgOTkgNDA5IDE4NlYxODlINDQ5VjE4NlE0NDggMTgzIDQzNiA5NVQ0MjEgM1YwSDUwVjE5VjMxUTUwIDM4IDU2IDQ2VDg2IDgxUTExNSAxMTMgMTM2IDEzN1ExNDUgMTQ3IDE3MCAxNzRUMjA0IDIxMVQyMzMgMjQ0VDI2MSAyNzhUMjg0IDMwOFQzMDUgMzQwVDMyMCAzNjlUMzMzIDQwMVQzNDAgNDMxVDM0MyA0NjRRMzQzIDUyNyAzMDkgNTczVDIxMiA2MTlRMTc5IDYxOSAxNTQgNjAyVDExOSA1NjlUMTA5IDU1MFExMDkgNTQ5IDExNCA1NDlRMTMyIDU0OSAxNTEgNTM1VDE3MCA0ODlRMTcwIDQ2NCAxNTQgNDQ3VDEwOSA0MjlaIj48L3BhdGg+CjxwYXRoIHN0cm9rZS13aWR0aD0iMSIgaWQ9IkUxLU1KTUFUSEktM0MwIiBkPSJNMTMyIC0xMVE5OCAtMTEgOTggMjJWMzNMMTExIDYxUTE4NiAyMTkgMjIwIDMzNEwyMjggMzU4SDE5NlExNTggMzU4IDE0MiAzNTVUMTAzIDMzNlE5MiAzMjkgODEgMzE4VDYyIDI5N1Q1MyAyODVRNTEgMjg0IDM4IDI4NFExOSAyODQgMTkgMjk0UTE5IDMwMCAzOCAzMjlUOTMgMzkxVDE2NCA0MjlRMTcxIDQzMSAzODkgNDMxUTU0OSA0MzEgNTUzIDQzMFE1NzMgNDIzIDU3MyA0MDJRNTczIDM3MSA1NDEgMzYwUTUzNSAzNTggNDcyIDM1OEg0MDhMNDA1IDM0MVEzOTMgMjY5IDM5MyAyMjJRMzkzIDE3MCA0MDIgMTI5VDQyMSA2NVQ0MzEgMzdRNDMxIDIwIDQxNyA1VDM4MSAtMTBRMzcwIC0xMCAzNjMgLTdUMzQ3IDE3VDMzMSA3N1EzMzAgODYgMzMwIDEyMVEzMzAgMTcwIDMzOSAyMjZUMzU3IDMxOFQzNjcgMzU4SDI2OUwyNjggMzU0UTI2OCAzNTEgMjQ5IDI3NVQyMDYgMTE0VDE3NSAxN1ExNjQgLTExIDEzMiAtMTFaIj48L3BhdGg+CjxwYXRoIHN0cm9rZS13aWR0aD0iMSIgaWQ9IkUxLU1KTUFJTi0yMjFBIiBkPSJNOTUgMTc4UTg5IDE3OCA4MSAxODZUNzIgMjAwVDEwMyAyMzBUMTY5IDI4MFQyMDcgMzA5UTIwOSAzMTEgMjEyIDMxMUgyMTNRMjE5IDMxMSAyMjcgMjk0VDI4MSAxNzdRMzAwIDEzNCAzMTIgMTA4TDM5NyAtNzdRMzk4IC03NyA1MDEgMTM2VDcwNyA1NjVUODE0IDc4NlE4MjAgODAwIDgzNCA4MDBRODQxIDgwMCA4NDYgNzk0VDg1MyA3ODJWNzc2TDYyMCAyOTNMMzg1IC0xOTNRMzgxIC0yMDAgMzY2IC0yMDBRMzU3IC0yMDAgMzU0IC0xOTdRMzUyIC0xOTUgMjU2IDE1TDE2MCAyMjVMMTQ0IDIxNFExMjkgMjAyIDExMyAxOTBUOTUgMTc4WiI+PC9wYXRoPgo8cGF0aCBzdHJva2Utd2lkdGg9IjEiIGlkPSJFMS1NSk1BVEhJLTY1IiBkPSJNMzkgMTY4UTM5IDIyNSA1OCAyNzJUMTA3IDM1MFQxNzQgNDAyVDI0NCA0MzNUMzA3IDQ0MkgzMTBRMzU1IDQ0MiAzODggNDIwVDQyMSAzNTVRNDIxIDI2NSAzMTAgMjM3UTI2MSAyMjQgMTc2IDIyM1ExMzkgMjIzIDEzOCAyMjFRMTM4IDIxOSAxMzIgMTg2VDEyNSAxMjhRMTI1IDgxIDE0NiA1NFQyMDkgMjZUMzAyIDQ1VDM5NCAxMTFRNDAzIDEyMSA0MDYgMTIxUTQxMCAxMjEgNDE5IDExMlQ0MjkgOThUNDIwIDgyVDM5MCA1NVQzNDQgMjRUMjgxIC0xVDIwNSAtMTFRMTI2IC0xMSA4MyA0MlQzOSAxNjhaTTM3MyAzNTNRMzY3IDQwNSAzMDUgNDA1UTI3MiA0MDUgMjQ0IDM5MVQxOTkgMzU3VDE3MCAzMTZUMTU0IDI4MFQxNDkgMjYxUTE0OSAyNjAgMTY5IDI2MFEyODIgMjYwIDMyNyAyODRUMzczIDM1M1oiPjwvcGF0aD4KPHBhdGggc3Ryb2tlLXdpZHRoPSIxIiBpZD0iRTEtTUpNQUlOLTIyMTIiIGQ9Ik04NCAyMzdUODQgMjUwVDk4IDI3MEg2NzlRNjk0IDI2MiA2OTQgMjUwVDY3OSAyMzBIOThRODQgMjM3IDg0IDI1MFoiPjwvcGF0aD4KPHBhdGggc3Ryb2tlLXdpZHRoPSIxIiBpZD0iRTEtTUpNQVRISS0zQkMiIGQ9Ik01OCAtMjE2UTQ0IC0yMTYgMzQgLTIwOFQyMyAtMTg2UTIzIC0xNzYgOTYgMTE2VDE3MyA0MTRRMTg2IDQ0MiAyMTkgNDQyUTIzMSA0NDEgMjM5IDQzNVQyNDkgNDIzVDI1MSA0MTNRMjUxIDQwMSAyMjAgMjc5VDE4NyAxNDJRMTg1IDEzMSAxODUgMTA3Vjk5UTE4NSAyNiAyNTIgMjZRMjYxIDI2IDI3MCAyN1QyODcgMzFUMzAyIDM4VDMxNSA0NVQzMjcgNTVUMzM4IDY1VDM0OCA3N1QzNTYgODhUMzY1IDEwMEwzNzIgMTEwTDQwOCAyNTNRNDQ0IDM5NSA0NDggNDA0UTQ2MSA0MzEgNDkxIDQzMVE1MDQgNDMxIDUxMiA0MjRUNTIzIDQxMlQ1MjUgNDAyTDQ0OSA4NFE0NDggNzkgNDQ4IDY4UTQ0OCA0MyA0NTUgMzVUNDc2IDI2UTQ4NSAyNyA0OTYgMzVRNTE3IDU1IDUzNyAxMzFRNTQzIDE1MSA1NDcgMTUyUTU0OSAxNTMgNTU3IDE1M0g1NjFRNTgwIDE1MyA1ODAgMTQ0UTU4MCAxMzggNTc1IDExN1Q1NTUgNjNUNTIzIDEzUTUxMCAwIDQ5MSAtOFE0ODMgLTEwIDQ2NyAtMTBRNDQ2IC0xMCA0MjkgLTRUNDAyIDExVDM4NSAyOVQzNzYgNDRUMzc0IDUxTDM2OCA0NVEzNjIgMzkgMzUwIDMwVDMyNCAxMlQyODggLTRUMjQ2IC0xMVExOTkgLTExIDE1MyAxMkwxMjkgLTg1UTEwOCAtMTY3IDEwNCAtMTgwVDkyIC0yMDJRNzYgLTIxNiA1OCAtMjE2WiI+PC9wYXRoPgo8cGF0aCBzdHJva2Utd2lkdGg9IjEiIGlkPSJFMS1NSlNaMi0yOCIgZD0iTTE4MCA5NlQxODAgMjUwVDIwNSA1NDFUMjY2IDc3MFQzNTMgOTQ0VDQ0NCAxMDY5VDUyNyAxMTUwSDU1NVE1NjEgMTE0NCA1NjEgMTE0MVE1NjEgMTEzNyA1NDUgMTEyMFQ1MDQgMTA3MlQ0NDcgOTk1VDM4NiA4NzhUMzMwIDcyMVQyODggNTEzVDI3MiAyNTFRMjcyIDEzMyAyODAgNTZRMjkzIC04NyAzMjYgLTIwOVQzOTkgLTQwNVQ0NzUgLTUzMVQ1MzYgLTYwOVQ1NjEgLTY0MFE1NjEgLTY0MyA1NTUgLTY0OUg1MjdRNDgzIC02MTIgNDQzIC01NjhUMzUzIC00NDNUMjY2IC0yNzBUMjA1IC00MVoiPjwvcGF0aD4KPHBhdGggc3Ryb2tlLXdpZHRoPSIxIiBpZD0iRTEtTUpTWjItMjkiIGQ9Ik0zNSAxMTM4UTM1IDExNTAgNTEgMTE1MEg1Nkg2OVExMTMgMTExMyAxNTMgMTA2OVQyNDMgOTQ0VDMzMCA3NzFUMzkxIDU0MVQ0MTYgMjUwVDM5MSAtNDBUMzMwIC0yNzBUMjQzIC00NDNUMTUyIC01NjhUNjkgLTY0OUg1NlE0MyAtNjQ5IDM5IC02NDdUMzUgLTYzN1E2NSAtNjA3IDExMCAtNTQ4UTI4MyAtMzE2IDMxNiA1NlEzMjQgMTMzIDMyNCAyNTFRMzI0IDM2OCAzMTYgNDQ1UTI3OCA4NzcgNDggMTEyM1EzNiAxMTM3IDM1IDExMzhaIj48L3BhdGg+CjwvZGVmcz4KPGcgc3Ryb2tlPSJjdXJyZW50Q29sb3IiIGZpbGw9ImN1cnJlbnRDb2xvciIgc3Ryb2tlLXdpZHRoPSIwIiB0cmFuc2Zvcm09Im1hdHJpeCgxIDAgMCAtMSAwIDApIiBhcmlhLWhpZGRlbj0idHJ1ZSI+CiA8dXNlIHhsaW5rOmhyZWY9IiNFMS1NSk1BVEhJLTY2IiB4PSIwIiB5PSIwIj48L3VzZT4KIDx1c2UgeGxpbms6aHJlZj0iI0UxLU1KTUFJTi0yOCIgeD0iNTUwIiB5PSIwIj48L3VzZT4KIDx1c2UgeGxpbms6aHJlZj0iI0UxLU1KTUFUSEktNzgiIHg9Ijk0MCIgeT0iMCI+PC91c2U+CiA8dXNlIHhsaW5rOmhyZWY9IiNFMS1NSk1BSU4tMjkiIHg9IjE1MTIiIHk9IjAiPjwvdXNlPgogPHVzZSB4bGluazpocmVmPSIjRTEtTUpNQUlOLTNEIiB4PSIyMTc5IiB5PSIwIj48L3VzZT4KPGcgdHJhbnNmb3JtPSJ0cmFuc2xhdGUoMzIzNiwwKSI+CjxnIHRyYW5zZm9ybT0idHJhbnNsYXRlKDEyMCwwKSI+CjxyZWN0IHN0cm9rZT0ibm9uZSIgd2lkdGg9IjI2MDAiIGhlaWdodD0iNjAiIHg9IjAiIHk9IjIyMCI+PC9yZWN0PgogPHVzZSB4bGluazpocmVmPSIjRTEtTUpNQUlOLTMxIiB4PSIxMDQ5IiB5PSI2NzYiPjwvdXNlPgo8ZyB0cmFuc2Zvcm09InRyYW5zbGF0ZSg2MCwtOTE1KSI+CiA8dXNlIHhsaW5rOmhyZWY9IiNFMS1NSk1BVEhJLTNDMyIgeD0iMCIgeT0iMCI+PC91c2U+CjxnIHRyYW5zZm9ybT0idHJhbnNsYXRlKDU3MiwwKSI+CiA8dXNlIHhsaW5rOmhyZWY9IiNFMS1NSk1BSU4tMjIxQSIgeD0iMCIgeT0iMzMiPjwvdXNlPgo8cmVjdCBzdHJva2U9Im5vbmUiIHdpZHRoPSIxMDc0IiBoZWlnaHQ9IjYwIiB4PSI4MzMiIHk9Ijc3NCI+PC9yZWN0Pgo8ZyB0cmFuc2Zvcm09InRyYW5zbGF0ZSg4MzMsMCkiPgogPHVzZSB4bGluazpocmVmPSIjRTEtTUpNQUlOLTMyIiB4PSIwIiB5PSIwIj48L3VzZT4KIDx1c2UgeGxpbms6aHJlZj0iI0UxLU1KTUFUSEktM0MwIiB4PSI1MDAiIHk9IjAiPjwvdXNlPgo8L2c+CjwvZz4KPC9nPgo8L2c+CjwvZz4KPGcgdHJhbnNmb3JtPSJ0cmFuc2xhdGUoNjA3NiwwKSI+CiA8dXNlIHhsaW5rOmhyZWY9IiNFMS1NSk1BVEhJLTY1IiB4PSIwIiB5PSIwIj48L3VzZT4KPGcgdHJhbnNmb3JtPSJ0cmFuc2xhdGUoNDY2LDU2NykiPgogPHVzZSB0cmFuc2Zvcm09InNjYWxlKDAuNzA3KSIgeGxpbms6aHJlZj0iI0UxLU1KTUFJTi0yMjEyIiB4PSIwIiB5PSIwIj48L3VzZT4KPGcgdHJhbnNmb3JtPSJ0cmFuc2xhdGUoNTUwLDApIj4KPGcgdHJhbnNmb3JtPSJ0cmFuc2xhdGUoMTIwLDApIj4KPHJlY3Qgc3Ryb2tlPSJub25lIiB3aWR0aD0iNDA3IiBoZWlnaHQ9IjYwIiB4PSIwIiB5PSIxNDYiPjwvcmVjdD4KIDx1c2UgdHJhbnNmb3JtPSJzY2FsZSgwLjU3NCkiIHhsaW5rOmhyZWY9IiNFMS1NSk1BSU4tMzEiIHg9IjEwNCIgeT0iNjQ3Ij48L3VzZT4KIDx1c2UgdHJhbnNmb3JtPSJzY2FsZSgwLjU3NCkiIHhsaW5rOmhyZWY9IiNFMS1NSk1BSU4tMzIiIHg9IjEwNCIgeT0iLTY5OCI+PC91c2U+CjwvZz4KPC9nPgo8ZyB0cmFuc2Zvcm09InRyYW5zbGF0ZSgxMTk3LDApIj4KIDx1c2UgdHJhbnNmb3JtPSJzY2FsZSgwLjcwNykiIHhsaW5rOmhyZWY9IiNFMS1NSlNaMi0yOCI+PC91c2U+CjxnIHRyYW5zZm9ybT0idHJhbnNsYXRlKDQyMiwwKSI+CjxnIHRyYW5zZm9ybT0idHJhbnNsYXRlKDEyMCwwKSI+CjxyZWN0IHN0cm9rZT0ibm9uZSIgd2lkdGg9IjEyNDIiIGhlaWdodD0iNjAiIHg9IjAiIHk9IjE0NiI+PC9yZWN0Pgo8ZyB0cmFuc2Zvcm09InRyYW5zbGF0ZSg2MCw0OTUpIj4KIDx1c2UgdHJhbnNmb3JtPSJzY2FsZSgwLjU3NCkiIHhsaW5rOmhyZWY9IiNFMS1NSk1BVEhJLTc4IiB4PSIwIiB5PSIwIj48L3VzZT4KIDx1c2UgdHJhbnNmb3JtPSJzY2FsZSgwLjU3NCkiIHhsaW5rOmhyZWY9IiNFMS1NSk1BSU4tMjIxMiIgeD0iNTcyIiB5PSIwIj48L3VzZT4KIDx1c2UgdHJhbnNmb3JtPSJzY2FsZSgwLjU3NCkiIHhsaW5rOmhyZWY9IiNFMS1NSk1BVEhJLTNCQyIgeD0iMTM1MSIgeT0iMCI+PC91c2U+CjwvZz4KIDx1c2UgdHJhbnNmb3JtPSJzY2FsZSgwLjU3NCkiIHhsaW5rOmhyZWY9IiNFMS1NSk1BVEhJLTNDMyIgeD0iNzk1IiB5PSItNDYzIj48L3VzZT4KPC9nPgo8L2c+CiA8dXNlIHRyYW5zZm9ybT0ic2NhbGUoMC43MDcpIiB4bGluazpocmVmPSIjRTEtTUpTWjItMjkiIHg9IjI2OTMiIHk9Ii0xIj48L3VzZT4KIDx1c2UgdHJhbnNmb3JtPSJzY2FsZSgwLjU3NCkiIHhsaW5rOmhyZWY9IiNFMS1NSk1BSU4tMzIiIHg9IjQwNTMiIHk9IjEwNjEiPjwvdXNlPgo8L2c+CjwvZz4KPC9nPgo8L2c+Cjwvc3ZnPg=="
     ]
    }
   },
   "cell_type": "markdown",
   "id": "a205be97",
   "metadata": {},
   "source": [
    "![00cb9b2c9b866378626bcfa45c86a6de2f2b2e40.svg](attachment:00cb9b2c9b866378626bcfa45c86a6de2f2b2e40.svg)"
   ]
  },
  {
   "cell_type": "markdown",
   "id": "b63b723b",
   "metadata": {},
   "source": [
    "Obtain the average cluster size ( μ ) using equation 18 presented in this paper:\n",
    "https://pubs.acs.org/doi/10.1021/ef00014a012"
   ]
  },
  {
   "cell_type": "code",
   "execution_count": null,
   "id": "7b99c83e",
   "metadata": {},
   "outputs": [],
   "source": [
    "mu = float(input(\"Enter the average cluster size (number of carbons): \"))"
   ]
  },
  {
   "cell_type": "code",
   "execution_count": null,
   "id": "6584c45b",
   "metadata": {},
   "outputs": [],
   "source": [
    "# Normalize the variables\n",
    "carbons = t.T\n",
    "sig = np.std(carbons)\n",
    "\n",
    "carbons_centered = []\n",
    "\n",
    "for i in range(len(carbons)):\n",
    "    carbons_centeredval=(carbons[i]-mu)/sig\n",
    "    carbons_centered.append(carbons_centeredval)"
   ]
  },
  {
   "cell_type": "code",
   "execution_count": null,
   "id": "f8020b13",
   "metadata": {
    "scrolled": true
   },
   "outputs": [],
   "source": [
    "# Variables\n",
    "carbons = t.T\n",
    "\n",
    "# Probability Density Function\n",
    "pdf = norm.pdf(carbons_centered, loc = 0 , scale = 1)\n",
    "pdf = np.clip(pdf, 0, None)  # Clip PDF values to be non-negative\n",
    "\n",
    "\n",
    "# Cumulative Distribution Function\n",
    "cum=norm.cdf(carbons_centered, 0, 1)\n",
    "cum = np.clip(cum, 0, 1)  # Clip CDF values between 0 and 1\n",
    "\n",
    "# Plot the normalized Gaussian distribution\n",
    "mp.subplot(121);\n",
    "mp.plot(carbons_centered,pdf);\n",
    "mp.title('Probability Density Function');\n",
    "mp.subplot(122);\n",
    "mp.plot(carbons_centered,cum);\n",
    "mp.title('Cumulative Distribution Function');"
   ]
  },
  {
   "cell_type": "code",
   "execution_count": null,
   "id": "6f91a960",
   "metadata": {},
   "outputs": [],
   "source": [
    "# Define the parameters for the Pareto distribution (shape and scale)\n",
    "alpha = 2  # Shape parameter\n",
    "\n",
    "# Generate random data following a Pareto distribution\n",
    "data = pareto.rvs(alpha, loc=0, scale=1, size=len(carbons_centered))\n",
    "\n",
    "# Create a histogram\n",
    "mp.hist(data, bins=50, density=True, alpha=0.6, color='b')\n",
    "\n",
    "# Plot the probability density function\n",
    "pdf = pareto.pdf(carbons_centered, alpha, loc=0, scale=1)\n",
    "\n",
    "mp.plot(carbons_centered, pdf, 'r-', lw=2, label='Pareto PDF')\n",
    "\n",
    "mp.title(\"Long-Tail Distribution (Pareto)\")\n",
    "mp.xlabel(\"Value\")\n",
    "mp.ylabel(\"Probability Density\")\n",
    "mp.legend()\n",
    "mp.show()"
   ]
  },
  {
   "cell_type": "markdown",
   "id": "3a6d99c6",
   "metadata": {},
   "source": [
    "### Check the probability for each aromatic cluster in the distribution"
   ]
  },
  {
   "cell_type": "code",
   "execution_count": null,
   "id": "1edae25e",
   "metadata": {},
   "outputs": [],
   "source": [
    "# Check what number of carbons have more probability than others:\n",
    "prob_check = float(input(\"Enter the probability that you want to check: \"))\n",
    "print(\"Number of carbons: \",round(norm.ppf(prob_check, mu, sig)))"
   ]
  },
  {
   "cell_type": "code",
   "execution_count": null,
   "id": "07fe3d14",
   "metadata": {},
   "outputs": [],
   "source": [
    "probability = []\n",
    "\n",
    "for i in range(len(cum)):\n",
    "    if i==0:\n",
    "        probability_val=cum[0]\n",
    "        probability.append(probability_val)\n",
    "    else:\n",
    "        probability_val=abs(cum[i]-cum[i-1])\n",
    "        probability.append(probability_val)\n",
    "        \n",
    "totalprob=sum(probability)"
   ]
  },
  {
   "cell_type": "code",
   "execution_count": null,
   "id": "c428a9de",
   "metadata": {},
   "outputs": [],
   "source": [
    "probabilityCorrected = []\n",
    "\n",
    "for i in range(len(probability)):\n",
    "    probability_value=probability[i]/totalprob\n",
    "    probabilityCorrected.append(probability_value)\n",
    "\n",
    "newprob=sum(probabilityCorrected)\n",
    "print(round(newprob))  "
   ]
  },
  {
   "cell_type": "markdown",
   "id": "3f760c6f",
   "metadata": {},
   "source": [
    "### Define the size of the model"
   ]
  },
  {
   "cell_type": "code",
   "execution_count": null,
   "id": "16bd9899",
   "metadata": {},
   "outputs": [],
   "source": [
    "SizeModel = float(input(\"How many atoms do you want in the model?: \"))"
   ]
  },
  {
   "cell_type": "code",
   "execution_count": null,
   "id": "8e5012fe",
   "metadata": {},
   "outputs": [],
   "source": [
    "Frequency = []\n",
    "TotalCarbons = []\n",
    "\n",
    "for i in range(len(t)):  \n",
    "    Frequency_value = round(((SizeModel/m)/t[i])*probabilityCorrected[i])\n",
    "    Frequency.append(Frequency_value)\n",
    "    TotalCarbons_value=Frequency[i]*t[i]\n",
    "    TotalCarbons.append(TotalCarbons_value) \n",
    "    \n",
    "\n",
    "print(Frequency)\n",
    "print(\"Total number of Carbons in the model:\",sum(TotalCarbons))"
   ]
  },
  {
   "cell_type": "markdown",
   "id": "8b58d778",
   "metadata": {},
   "source": [
    "## Ecuations to solve"
   ]
  },
  {
   "cell_type": "code",
   "execution_count": null,
   "id": "9ca2e547",
   "metadata": {},
   "outputs": [],
   "source": [
    "# Equations to solve BPCA\n",
    "\n",
    "def calculateB2CA(Frequency):\n",
    "    B2CAval = []\n",
    "    for i in range(len(Frequency)):\n",
    "        B2CAval.append(B2CA[i] * Frequency[i])\n",
    "    return B2CAval\n",
    "\n",
    "def calculateB3CA(Frequency):\n",
    "    B3CAval = []\n",
    "    for i in range(len(Frequency)):\n",
    "        B3CAval.append(B3CA[i] * Frequency[i])\n",
    "    return B3CAval\n",
    "\n",
    "def calculateB4CA(Frequency):\n",
    "    B4CAval = []\n",
    "    for i in range(len(Frequency)):\n",
    "        B4CAval.append(B4CA[i] * Frequency[i])\n",
    "    return B4CAval\n",
    "\n",
    "def calculateB5CA(Frequency):\n",
    "    B5CAval = []\n",
    "    for i in range(len(Frequency)):\n",
    "        B5CAval.append(B5CA[i] * Frequency[i])\n",
    "    return B5CAval\n",
    "\n",
    "def calculateB6CA(Frequency):\n",
    "    B6CAval = []\n",
    "    for i in range(len(Frequency)):\n",
    "        B6CAval.append(B6CA[i] * Frequency[i])\n",
    "    return B6CAval\n",
    "\n",
    "def calculatetotalC(Frequency):\n",
    "    TotalC = []\n",
    "    for i in range(len(Frequency)):\n",
    "        TotalC.append(Frequency[i]*t[i])\n",
    "    return TotalC\n",
    "\n",
    "TotalC=calculatetotalC(Frequency)\n",
    "B2CAval=calculateB2CA(Frequency)\n",
    "B3CAval=calculateB3CA(Frequency)\n",
    "B4CAval=calculateB4CA(Frequency)\n",
    "B5CAval=calculateB5CA(Frequency)\n",
    "B6CAval=calculateB6CA(Frequency)\n",
    "\n",
    "BPCA=sum(B2CAval) + sum(B3CAval) + sum(B4CAval) + sum(B5CAval) + sum(B6CAval)\n",
    "print(\"Initial value for B2CA:\",round(sum(B2CAval)/BPCA,5))\n",
    "print(\"Initial value for B3CA:\",round(sum(B3CAval)/BPCA,5))\n",
    "print(\"Initial value for B4CA:\",round(sum(B4CAval)/BPCA,5))\n",
    "print(\"Initial value for B5CA:\",round(sum(B5CAval)/BPCA,5))\n",
    "print(\"Initial value for B6CA:\",round(sum(B6CAval)/BPCA,5))\n",
    "print(\"Total Carbon:\",round(sum(TotalC)))"
   ]
  },
  {
   "cell_type": "code",
   "execution_count": null,
   "id": "0f258eb6",
   "metadata": {},
   "outputs": [],
   "source": [
    "# Define the objective function that returns the error for BPCA\n",
    "\n",
    "def objective_function(b, t, h):\n",
    "    \n",
    "    B2CAval = calculateB2CA(b)\n",
    "    B3CAval = calculateB3CA(b)\n",
    "    B4CAval = calculateB4CA(b)\n",
    "    B5CAval = calculateB5CA(b)\n",
    "    B6CAval = calculateB6CA(b)\n",
    "    \n",
    "    BPCA = np.sum(B2CAval) + np.sum(B3CAval) + np.sum(B4CAval) + np.sum(B5CAval) + np.sum(B6CAval)\n",
    "    \n",
    "    error_B2CA = np.abs(sum(B2CAval) / BPCA - B2CAex)\n",
    "    error_B3CA = np.abs(sum(B3CAval) / BPCA - B3CAex)\n",
    "    error_B4CA = np.abs(sum(B4CAval) / BPCA - B4CAex)\n",
    "    error_B5CA = np.abs(sum(B5CAval) / BPCA - B5CAex)\n",
    "    error_B6CA = np.abs(sum(B6CAval) / BPCA - B6CAex)\n",
    " \n",
    "    # Calculate the total error to minimize\n",
    "    total_error = error_B2CA + error_B3CA + error_B6CA  + error_B5CA  \n",
    "\n",
    "    return total_error\n",
    "\n",
    "# Define constraints:  Bridgehead Carbon, Total Number of Carbons, and Cluster Size Average\n",
    "\n",
    "def bridgeheadC_constraint(b, t, h):\n",
    "\n",
    "    sum_t = np.sum(t * b)\n",
    "    sum_h = np.sum(h * b)\n",
    "    bridgeheadC = 1 - H_C\n",
    "    Ratio = (sum_t - sum_h) / sum_t\n",
    "    check = Ratio-bridgeheadC\n",
    "    index_of_mean= np.where(t == mu)[0]\n",
    "    Mean_av = ((b[index_of_mean[0]]*t[index_of_mean[0]])/sum_t)\n",
    "    \n",
    "    return [check - v, sum_t - (SizeModel/m), Mean_av-0.1014] \n",
    "\n",
    "\n",
    "# Initial guess for b (Frequency obtained from Gaussian Distribution)\n",
    "\n",
    "initial_b = Frequency\n",
    "\n",
    "t = np.array([10, 13, 13, 14, 14, 16, 18, 17, 20, 17, 24, 20, 20, 22, 42, 54, 66, 70, 80, 84]).T\n",
    "h = np.array([8, 10, 10, 10, 10, 10, 12, 12, 12, 12, 12, 12, 12, 12, 16, 18, 20, 22, 22, 24]).T\n",
    "\n",
    "result = fmin_slsqp(objective_function, initial_b, f_eqcons=bridgeheadC_constraint, bounds=[(1, 0.03*SizeModel)] * len(initial_b), disp=False, full_output=True, epsilon=1.4901161193847656e-8, args=(t, h), iter=10000, acc=1e-10)\n",
    "\n",
    "Wopt, fW, its, imode, smode = result\n",
    "\n",
    "scalars = [float(round(x)) for x in Wopt]\n",
    "\n",
    "if imode != 0:\n",
    "    print(\"Optimization failed: \" + smode)\n",
    "else:\n",
    "    print(scalars)\n",
    "print(\"Final value for the total error:\",fW)\n",
    "print(\"Number of iterations:\",its)\n",
    "%store result"
   ]
  },
  {
   "cell_type": "markdown",
   "id": "a5351650",
   "metadata": {},
   "source": [
    "## BPCA Distribution:"
   ]
  },
  {
   "cell_type": "code",
   "execution_count": null,
   "id": "a31ac585",
   "metadata": {},
   "outputs": [],
   "source": [
    "%store -r result\n",
    "values=np.round(result[0]).astype(int)"
   ]
  },
  {
   "cell_type": "code",
   "execution_count": null,
   "id": "9af5bf95",
   "metadata": {},
   "outputs": [],
   "source": []
  },
  {
   "cell_type": "code",
   "execution_count": null,
   "id": "d4aa969a",
   "metadata": {},
   "outputs": [],
   "source": []
  }
 ],
 "metadata": {
  "kernelspec": {
   "display_name": "Python 3 (ipykernel)",
   "language": "python",
   "name": "python3"
  },
  "language_info": {
   "codemirror_mode": {
    "name": "ipython",
    "version": 3
   },
   "file_extension": ".py",
   "mimetype": "text/x-python",
   "name": "python",
   "nbconvert_exporter": "python",
   "pygments_lexer": "ipython3",
   "version": "3.10.9"
  }
 },
 "nbformat": 4,
 "nbformat_minor": 5
}
