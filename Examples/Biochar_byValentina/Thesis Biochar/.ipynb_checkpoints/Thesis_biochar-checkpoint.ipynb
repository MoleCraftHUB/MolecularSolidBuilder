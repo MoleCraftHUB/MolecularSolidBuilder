{
 "cells": [
  {
   "cell_type": "markdown",
   "id": "9d388d16",
   "metadata": {},
   "source": [
    "# Code to Generate Biochar Atomistic Models"
   ]
  },
  {
   "cell_type": "markdown",
   "id": "c219b977",
   "metadata": {},
   "source": [
    "<img src=\"biochar.png\" width=\"450\" height=\"450\">\n"
   ]
  },
  {
   "cell_type": "markdown",
   "id": "f07295ee",
   "metadata": {},
   "source": [
    "## Open Pymol "
   ]
  },
  {
   "cell_type": "code",
   "execution_count": 1,
   "id": "9c8ffdaf",
   "metadata": {},
   "outputs": [],
   "source": [
    "# Import pymol\n",
    "from ipymol import viewer as pymol"
   ]
  },
  {
   "cell_type": "code",
   "execution_count": 2,
   "id": "99ca99f7",
   "metadata": {},
   "outputs": [
    {
     "name": "stderr",
     "output_type": "stream",
     "text": [
      "Feature has expired.\n",
      "Feature:       PYMOL_MAIN\n",
      "Expire date:   01-dec-2023\n",
      "License path:  /Users/valentinasierra/.pymol/license.lic:/Library/Application Support/Schrodinger/licenses:\n",
      "FlexNet Licensing error:-10,32\n"
     ]
    }
   ],
   "source": [
    "# Initiate PyMol RPC module\n",
    "import glob,os,sys,subprocess,random, math\n",
    "from pymol_rpc import pymol_jupyter_builder\n",
    "import numpy as np\n",
    "import random\n",
    "from scipy.optimize import minimize\n",
    "from sympy import symbols, Eq, solve\n",
    "import math\n",
    "\n",
    "builder = pymol_jupyter_builder()\n",
    "builder.start()"
   ]
  },
  {
   "cell_type": "code",
   "execution_count": 3,
   "id": "5d7c8100",
   "metadata": {},
   "outputs": [],
   "source": [
    "# Import cmd \n",
    "import xmlrpc.client as xmlrpclib\n",
    "cmd = xmlrpclib.ServerProxy('http://localhost:9123')"
   ]
  },
  {
   "cell_type": "markdown",
   "id": "075a91ec",
   "metadata": {},
   "source": [
    "## Input data needed"
   ]
  },
  {
   "cell_type": "code",
   "execution_count": 4,
   "id": "e9de8c46",
   "metadata": {},
   "outputs": [
    {
     "name": "stdout",
     "output_type": "stream",
     "text": [
      "Enter the temperature of pyrolysis in °C: 500\n"
     ]
    }
   ],
   "source": [
    "Biochar_Temp=float(input(\"Enter the temperature of pyrolysis in °C: \"))"
   ]
  },
  {
   "cell_type": "code",
   "execution_count": 5,
   "id": "b14d78aa",
   "metadata": {},
   "outputs": [],
   "source": [
    "# Hydroxyl groups, qualitative data from FTIR\n",
    "\n",
    "if Biochar_Temp == 400:\n",
    "    v = 0.1\n",
    "elif Biochar_Temp == 500:\n",
    "    v = 0.002\n",
    "elif Biochar_Temp == 600:\n",
    "    v = 0\n",
    "elif Biochar_Temp == 700:\n",
    "    v = 0\n",
    "else:\n",
    "    v = 0  # You may want to specify a default value in case Biochar_Temp doesn't match any of the above conditions"
   ]
  },
  {
   "cell_type": "markdown",
   "id": "06b6e8c8",
   "metadata": {},
   "source": [
    "### Ultimate analysis"
   ]
  },
  {
   "cell_type": "code",
   "execution_count": 6,
   "id": "187562e5",
   "metadata": {},
   "outputs": [
    {
     "name": "stdout",
     "output_type": "stream",
     "text": [
      "Enter the value for Carbon: 0.8141\n",
      "Enter the value for Hydrogen: 0.0350\n",
      "Enter the value for Oxygen: 0.1498\n",
      "Enter the value for Nitrogen: 0.0011\n",
      "Enter the value for Sulfur: 0\n",
      "Enter the value for Chlorine: 0\n",
      "Enter the value for H/C molar ratio: 0.512\n",
      "Enter the value for O/C molar ratio: 0.137\n",
      "Enter the value for BridgheadCarbon: 0.488\n"
     ]
    }
   ],
   "source": [
    "Carbon = float(input(\"Enter the value for Carbon: \"))\n",
    "Hydrogen = float(input(\"Enter the value for Hydrogen: \"))\n",
    "Oxygen = float(input(\"Enter the value for Oxygen: \"))\n",
    "Nitrogen = float(input(\"Enter the value for Nitrogen: \"))\n",
    "Sulfur = float(input(\"Enter the value for Sulfur: \"))\n",
    "Chlorine = float(input(\"Enter the value for Chlorine: \"))\n",
    "H_C = float(input(\"Enter the value for H/C molar ratio: \"))\n",
    "O_C = float(input(\"Enter the value for O/C molar ratio: \"))\n",
    "BridgheadCarbon=float(input(\"Enter the value for BridgheadCarbon: \"))"
   ]
  },
  {
   "cell_type": "markdown",
   "id": "dde22677",
   "metadata": {},
   "source": [
    "### 13C NMR DP-MAS quantitaive data"
   ]
  },
  {
   "cell_type": "code",
   "execution_count": 7,
   "id": "d0a892d5",
   "metadata": {},
   "outputs": [
    {
     "name": "stdout",
     "output_type": "stream",
     "text": [
      "Enter the value for Caro: 0.673\n",
      "Enter the value for Carbonyl: 0.0233\n",
      "Enter the value for Carboxyl: 0.033\n",
      "Enter the value for Ether: 0.1233\n",
      "Enter the value for Aliphatic: 0.033\n",
      "Enter the value for Defect: 0.1133\n",
      "Enter the value C-H: 0.31\n",
      "Enter the value C-(x)-H: 0.47\n",
      "Enter the value C-(2)-H: 0.23\n"
     ]
    }
   ],
   "source": [
    "# Prompt the user to enter values for different parameters\n",
    "Aromatic = float(input(\"Enter the value for Caro: \"))\n",
    "Carbonyl = float(input(\"Enter the value for Carbonyl: \"))\n",
    "Carboxyl = float(input(\"Enter the value for Carboxyl: \"))\n",
    "Ether = float(input(\"Enter the value for Ether: \"))\n",
    "Aliphatic = float(input(\"Enter the value for Aliphatic: \"))\n",
    "Defect = float(input(\"Enter the value for Defect: \"))\n",
    "C_H_=float(input(\"Enter the value C-H: \"))\n",
    "C_x_H_=float(input(\"Enter the value C-(x)-H: \"))\n",
    "C_2_H_=float(input(\"Enter the value C-(2)-H: \"))"
   ]
  },
  {
   "cell_type": "markdown",
   "id": "95976ca4",
   "metadata": {},
   "source": [
    "### Aromatic cluster size distribution, obtained from BPCA.ipynb"
   ]
  },
  {
   "cell_type": "code",
   "execution_count": 8,
   "id": "39986962",
   "metadata": {},
   "outputs": [
    {
     "name": "stdout",
     "output_type": "stream",
     "text": [
      "[ 1  1  1  1  1  1  1  1  1  1 21  2  1  1 61  1  1 20  1  1]\n"
     ]
    }
   ],
   "source": [
    "%store -r result\n",
    "values=np.round(result[0]).astype(int)\n",
    "print(values)"
   ]
  },
  {
   "cell_type": "markdown",
   "id": "29975c5f",
   "metadata": {},
   "source": [
    "## Step1: Include the aromatic clusters in PyMOL and create the grid"
   ]
  },
  {
   "cell_type": "markdown",
   "id": "5a2fced8",
   "metadata": {},
   "source": [
    "### Note: All the molecules included in the BPCA analysis should be in this script in a mol2 file "
   ]
  },
  {
   "cell_type": "code",
   "execution_count": 9,
   "id": "ebdbc5b5",
   "metadata": {},
   "outputs": [
    {
     "data": {
      "text/plain": [
       "1"
      ]
     },
     "execution_count": 9,
     "metadata": {},
     "output_type": "execute_result"
    }
   ],
   "source": [
    "#Load the necessary structures, the number of structures needs to match the number of molecules put in the previous linecmd.load(\"benzene.mol2\", \"benzene\")\n",
    "cmd.load(\"naphthalene.mol2\", \"naphthalene\")\n",
    "cmd.load(\"dibenzofuran.mol2\", \"dibenzofuran\")\n",
    "cmd.load(\"phenalene.mol2\", \"phenalene\")\n",
    "cmd.load(\"phenanthrene.mol2\", \"phenanthrene\")\n",
    "cmd.load(\"anthracene.mol2\", \"anthracene\")\n",
    "cmd.load(\"pyrene.mol2\", \"pyrene\")\n",
    "cmd.load(\"chrysene.mol2\", \"chrysene\")\n",
    "cmd.load(\"benzo_a_fluorene.mol2\", \"benzo_a_fluorene\")\n",
    "cmd.load(\"benzo_b_fluoranthene.mol2\", \"benzo_b_fluoranthene\")\n",
    "cmd.load(\"benzo_b_fluorene.mol2\", \"benzo_b_fluorene\")\n",
    "cmd.load(\"coronene.mol2\", \"coronene\")\n",
    "cmd.load(\"perylene.mol2\", \"perylene\")\n",
    "cmd.load(\"benzo_a_pyrene.mol2\", \"benzo_a_pyrene\")\n",
    "cmd.load(\"benzo_g_h_i_perylene.mol2\", \"benzo_g_h_i_perylene\")\n",
    "cmd.load(\"circumpyrene.mol2\", \"circumpyrene\")\n",
    "cmd.load(\"circumcoronene.mol2\", \"circumcoronene\")\n",
    "cmd.load(\"circumovalene.mol2\", \"circumovalene\")\n",
    "cmd.load(\"pentatriacotaene.mol2\", \"pentatriacotaene\")\n",
    "cmd.load(\"circumcircumpyrene.mol2\", \"circumcircumpyrene\")\n",
    "cmd.load(\"c84.mol2\", \"c84\")"
   ]
  },
  {
   "cell_type": "code",
   "execution_count": 10,
   "id": "60db6192",
   "metadata": {},
   "outputs": [],
   "source": [
    "# Define the PyMOL aliases\n",
    "cmd.alias(\"colour\", \"color cyan, (name c*); color red, (name o*); color white, (name h*); color blue, (name n*); color yellow, (name s); color brown, (name si)\")\n"
   ]
  },
  {
   "cell_type": "code",
   "execution_count": 11,
   "id": "dc930099",
   "metadata": {},
   "outputs": [],
   "source": [
    "# Call the PyMOL aliases\n",
    "cmd.do('colour')\n",
    "cmd.do('orient')\n",
    "# Change colors ans appereance\n",
    "cmd.do('set sphere_scale, 0.2, (all)')\n",
    "cmd.do('set_bond stick_radius, 0.14, (all), (all)')\n",
    "cmd.do('show sticks')\n",
    "cmd.do('show spheres')\n",
    "cmd.bg_color(\"white\")\n",
    "cmd.set(\"ray_shadows\", \"off\")"
   ]
  },
  {
   "cell_type": "code",
   "execution_count": 12,
   "id": "30a2773d",
   "metadata": {},
   "outputs": [
    {
     "name": "stdout",
     "output_type": "stream",
     "text": [
      "242\n"
     ]
    }
   ],
   "source": [
    "# Define the grid of the molecules\n",
    "def generate_coordinates():\n",
    "    coordinates = []\n",
    "    \n",
    "    xmin, xmax = 0, 300\n",
    "    ymin, ymax = -300, 0\n",
    "    zmin, zmax = 0, 64\n",
    "    \n",
    "    x_spacing = 30\n",
    "    y_spacing = 30\n",
    "    z_spacing = 64\n",
    "            \n",
    "    for x in range(xmin, xmax + 1, x_spacing):\n",
    "        for y in range(ymin, ymax + 1, y_spacing):\n",
    "            for z in range(zmin, zmax + 1, z_spacing):\n",
    "                rotation_angles = [random.uniform(0, 360) for _ in range(3)]\n",
    "                coordinates.append((x, y, z, rotation_angles))\n",
    "    \n",
    "    return coordinates\n",
    "\n",
    "coordinates = generate_coordinates()\n",
    "print(len(coordinates))"
   ]
  },
  {
   "cell_type": "code",
   "execution_count": 13,
   "id": "6eab5a0f",
   "metadata": {},
   "outputs": [
    {
     "name": "stdout",
     "output_type": "stream",
     "text": [
      "Number of objects: 20\n"
     ]
    }
   ],
   "source": [
    "# Count the number of objects\n",
    "object_list = cmd.get_object_list()\n",
    "num_objects = len(object_list)\n",
    "\n",
    "# Print the count\n",
    "print(\"Number of objects:\", num_objects)"
   ]
  },
  {
   "cell_type": "code",
   "execution_count": 14,
   "id": "4ea81f01",
   "metadata": {},
   "outputs": [
    {
     "name": "stdout",
     "output_type": "stream",
     "text": [
      "Number of objects: 20\n"
     ]
    },
    {
     "data": {
      "text/plain": [
       "1"
      ]
     },
     "execution_count": 14,
     "metadata": {},
     "output_type": "execute_result"
    }
   ],
   "source": [
    "# Copy and translate naphthalene\n",
    "for i in range(1, values[0]+1):\n",
    "    cmd.copy(f\"naphthalene{i}\", \"naphthalene\")\n",
    "    cmd.translate(coordinates[i-1+num_objects], f\"naphthalene{i}\")\n",
    "cmd.delete(\"naphthalene\")\n",
    "# Count the number of objects\n",
    "object_list = cmd.get_object_list()\n",
    "num_objects = len(object_list)\n",
    "\n",
    "# Print the count\n",
    "print(\"Number of objects:\", num_objects)\n",
    "cmd.reset()"
   ]
  },
  {
   "cell_type": "code",
   "execution_count": 15,
   "id": "9c898ebf",
   "metadata": {},
   "outputs": [
    {
     "name": "stdout",
     "output_type": "stream",
     "text": [
      "Number of objects: 20\n"
     ]
    },
    {
     "data": {
      "text/plain": [
       "1"
      ]
     },
     "execution_count": 15,
     "metadata": {},
     "output_type": "execute_result"
    }
   ],
   "source": [
    "# Copy and translate dibenzofuran\n",
    "for i in range(1, values[1]+1):\n",
    "    cmd.copy(f\"dibenzofuran{i}\", \"dibenzofuran\")\n",
    "    cmd.translate(coordinates[i-1+num_objects], f\"dibenzofuran{i}\")\n",
    "cmd.delete(\"dibenzofuran\")\n",
    "# Count the number of objects\n",
    "object_list = cmd.get_object_list()\n",
    "num_objects = len(object_list)\n",
    "\n",
    "# Print the count\n",
    "print(\"Number of objects:\", num_objects)\n",
    "cmd.reset()"
   ]
  },
  {
   "cell_type": "code",
   "execution_count": 16,
   "id": "ab1663bb",
   "metadata": {},
   "outputs": [
    {
     "name": "stdout",
     "output_type": "stream",
     "text": [
      "Number of objects: 20\n"
     ]
    },
    {
     "data": {
      "text/plain": [
       "1"
      ]
     },
     "execution_count": 16,
     "metadata": {},
     "output_type": "execute_result"
    }
   ],
   "source": [
    "# Copy and translate phenalene\n",
    "for i in range(1, values[2]+1):\n",
    "    cmd.copy(f\"phenalene{i}\", \"phenalene\")\n",
    "    cmd.translate(coordinates[i-1+num_objects ], f\"phenalene{i}\")\n",
    "cmd.delete(\"phenalene\")\n",
    "# Count the number of objects\n",
    "object_list = cmd.get_object_list()\n",
    "num_objects = len(object_list)\n",
    "\n",
    "# Print the count\n",
    "print(\"Number of objects:\", num_objects)\n",
    "cmd.reset()"
   ]
  },
  {
   "cell_type": "code",
   "execution_count": 17,
   "id": "2a068a2e",
   "metadata": {},
   "outputs": [
    {
     "name": "stdout",
     "output_type": "stream",
     "text": [
      "Number of objects: 20\n"
     ]
    },
    {
     "data": {
      "text/plain": [
       "1"
      ]
     },
     "execution_count": 17,
     "metadata": {},
     "output_type": "execute_result"
    }
   ],
   "source": [
    "# Copy and translate phenanthrene\n",
    "for i in range(1, values[3]+1):\n",
    "    cmd.copy(f\"phenanthrene{i}\", \"phenanthrene\")\n",
    "    cmd.translate(coordinates[i-1+num_objects], f\"phenanthrene{i}\")\n",
    "cmd.delete(\"phenanthrene\")\n",
    "# Count the number of objects\n",
    "object_list = cmd.get_object_list()\n",
    "num_objects = len(object_list)\n",
    "\n",
    "# Print the count\n",
    "print(\"Number of objects:\", num_objects)\n",
    "cmd.reset()"
   ]
  },
  {
   "cell_type": "code",
   "execution_count": 18,
   "id": "60de949b",
   "metadata": {},
   "outputs": [
    {
     "name": "stdout",
     "output_type": "stream",
     "text": [
      "Number of objects: 20\n"
     ]
    },
    {
     "data": {
      "text/plain": [
       "1"
      ]
     },
     "execution_count": 18,
     "metadata": {},
     "output_type": "execute_result"
    }
   ],
   "source": [
    "# Copy and translate anthracene\n",
    "for i in range(1, values[4]+1):\n",
    "    cmd.copy(f\"anthracene{i}\", \"anthracene\")\n",
    "    cmd.translate(coordinates[i-1+num_objects], f\"anthracene{i}\")\n",
    "cmd.delete(\"anthracene\")\n",
    "# Count the number of objects\n",
    "object_list = cmd.get_object_list()\n",
    "num_objects = len(object_list)\n",
    "\n",
    "# Print the count\n",
    "print(\"Number of objects:\", num_objects)\n",
    "cmd.reset()"
   ]
  },
  {
   "cell_type": "code",
   "execution_count": 19,
   "id": "dec20a3c",
   "metadata": {},
   "outputs": [
    {
     "name": "stdout",
     "output_type": "stream",
     "text": [
      "Number of objects: 20\n"
     ]
    },
    {
     "data": {
      "text/plain": [
       "1"
      ]
     },
     "execution_count": 19,
     "metadata": {},
     "output_type": "execute_result"
    }
   ],
   "source": [
    "# Copy and translate pyrene\n",
    "for i in range(1, values[5]+1):\n",
    "    cmd.copy(f\"pyrene{i}\", \"pyrene\")\n",
    "    cmd.translate(coordinates[i-1+num_objects], f\"pyrene{i}\")\n",
    "cmd.delete(\"pyrene\")\n",
    "# Count the number of objects\n",
    "object_list = cmd.get_object_list()\n",
    "num_objects = len(object_list)\n",
    "\n",
    "# Print the count\n",
    "print(\"Number of objects:\", num_objects)\n",
    "cmd.reset()"
   ]
  },
  {
   "cell_type": "code",
   "execution_count": 20,
   "id": "60f7a70b",
   "metadata": {},
   "outputs": [
    {
     "name": "stdout",
     "output_type": "stream",
     "text": [
      "Number of objects: 20\n"
     ]
    },
    {
     "data": {
      "text/plain": [
       "1"
      ]
     },
     "execution_count": 20,
     "metadata": {},
     "output_type": "execute_result"
    }
   ],
   "source": [
    "# Copy and translate chrysene\n",
    "for i in range(1, values[6]+1):\n",
    "    cmd.copy(f\"chrysene{i}\", \"chrysene\")\n",
    "    cmd.translate(coordinates[i-1+num_objects], f\"chrysene{i}\")\n",
    "cmd.delete(\"chrysene\")\n",
    "# Count the number of objects\n",
    "object_list = cmd.get_object_list()\n",
    "num_objects = len(object_list)\n",
    "\n",
    "# Print the count\n",
    "print(\"Number of objects:\", num_objects)\n",
    "cmd.reset()"
   ]
  },
  {
   "cell_type": "code",
   "execution_count": 21,
   "id": "d8bf1c27",
   "metadata": {},
   "outputs": [
    {
     "name": "stdout",
     "output_type": "stream",
     "text": [
      "Number of objects: 20\n"
     ]
    },
    {
     "data": {
      "text/plain": [
       "1"
      ]
     },
     "execution_count": 21,
     "metadata": {},
     "output_type": "execute_result"
    }
   ],
   "source": [
    "# Copy and translate benzo_a_fluorene\n",
    "for i in range(1, values[7]+1):\n",
    "    cmd.copy(f\"benzo_a_fluorene{i}\", \"benzo_a_fluorene\")\n",
    "    cmd.translate(coordinates[i-1+num_objects], f\"benzo_a_fluorene{i}\")\n",
    "cmd.delete(\"benzo_a_fluorene\")\n",
    "# Count the number of objects\n",
    "object_list = cmd.get_object_list()\n",
    "num_objects = len(object_list)\n",
    "\n",
    "# Print the count\n",
    "print(\"Number of objects:\", num_objects)\n",
    "cmd.reset()"
   ]
  },
  {
   "cell_type": "code",
   "execution_count": 22,
   "id": "ffa195b3",
   "metadata": {},
   "outputs": [
    {
     "name": "stdout",
     "output_type": "stream",
     "text": [
      "Number of objects: 20\n"
     ]
    },
    {
     "data": {
      "text/plain": [
       "1"
      ]
     },
     "execution_count": 22,
     "metadata": {},
     "output_type": "execute_result"
    }
   ],
   "source": [
    "# Copy and translate benzo_b_fluoranthene\n",
    "for i in range(1, values[8]+1):\n",
    "    cmd.copy(f\"benzo_b_fluoranthene{i}\", \"benzo_b_fluoranthene\")\n",
    "    cmd.translate(coordinates[i-1+num_objects], f\"benzo_b_fluoranthene{i}\")\n",
    "cmd.delete(\"benzo_b_fluoranthene\")\n",
    "# Count the number of objects\n",
    "object_list = cmd.get_object_list()\n",
    "num_objects = len(object_list)\n",
    "\n",
    "# Print the count\n",
    "print(\"Number of objects:\", num_objects)\n",
    "cmd.reset()"
   ]
  },
  {
   "cell_type": "code",
   "execution_count": 23,
   "id": "7e8d35bf",
   "metadata": {},
   "outputs": [
    {
     "name": "stdout",
     "output_type": "stream",
     "text": [
      "Number of objects: 20\n"
     ]
    },
    {
     "data": {
      "text/plain": [
       "1"
      ]
     },
     "execution_count": 23,
     "metadata": {},
     "output_type": "execute_result"
    }
   ],
   "source": [
    "# Copy and translate benzo_b_fluorene\n",
    "for i in range(1, values[9]+1):\n",
    "    cmd.copy(f\"benzo_b_fluorene{i}\", \"benzo_b_fluorene\")\n",
    "    cmd.translate(coordinates[i-1+num_objects], f\"benzo_b_fluorene{i}\")\n",
    "cmd.delete(\"benzo_b_fluorene\")\n",
    "# Count the number of objects\n",
    "object_list = cmd.get_object_list()\n",
    "num_objects = len(object_list)\n",
    "\n",
    "# Print the count\n",
    "print(\"Number of objects:\", num_objects)\n",
    "cmd.reset()"
   ]
  },
  {
   "cell_type": "code",
   "execution_count": 24,
   "id": "9357e223",
   "metadata": {},
   "outputs": [
    {
     "name": "stdout",
     "output_type": "stream",
     "text": [
      "Number of objects: 40\n"
     ]
    },
    {
     "data": {
      "text/plain": [
       "1"
      ]
     },
     "execution_count": 24,
     "metadata": {},
     "output_type": "execute_result"
    }
   ],
   "source": [
    "# Copy and translate coronene\n",
    "for i in range(1, values[10]+1):\n",
    "    cmd.copy(f\"coronene{i}\", \"coronene\")\n",
    "    cmd.translate(coordinates[i-1+num_objects], f\"coronene{i}\")\n",
    "cmd.delete(\"coronene\")\n",
    "# Count the number of objects\n",
    "object_list = cmd.get_object_list()\n",
    "num_objects = len(object_list)\n",
    "\n",
    "# Print the count\n",
    "print(\"Number of objects:\", num_objects)\n",
    "cmd.reset()"
   ]
  },
  {
   "cell_type": "code",
   "execution_count": 25,
   "id": "119b4b5f",
   "metadata": {},
   "outputs": [
    {
     "name": "stdout",
     "output_type": "stream",
     "text": [
      "Number of objects: 41\n"
     ]
    },
    {
     "data": {
      "text/plain": [
       "1"
      ]
     },
     "execution_count": 25,
     "metadata": {},
     "output_type": "execute_result"
    }
   ],
   "source": [
    "# Copy and translate perylene\n",
    "for i in range(1, values[11]+1):\n",
    "    cmd.copy(f\"perylene{i}\", \"perylene\")\n",
    "    cmd.translate(coordinates[i-1+num_objects], f\"perylene{i}\")\n",
    "cmd.delete(\"perylene\")\n",
    "# Count the number of objects\n",
    "object_list = cmd.get_object_list()\n",
    "num_objects = len(object_list)\n",
    "\n",
    "# Print the count\n",
    "print(\"Number of objects:\", num_objects)\n",
    "cmd.reset()"
   ]
  },
  {
   "cell_type": "code",
   "execution_count": 26,
   "id": "40ac2471",
   "metadata": {},
   "outputs": [
    {
     "name": "stdout",
     "output_type": "stream",
     "text": [
      "Number of objects: 41\n"
     ]
    },
    {
     "data": {
      "text/plain": [
       "1"
      ]
     },
     "execution_count": 26,
     "metadata": {},
     "output_type": "execute_result"
    }
   ],
   "source": [
    "# Copy and translate benzo_a_pyrene\n",
    "for i in range(1, values[12]+1):\n",
    "    cmd.copy(f\"benzo_a_pyrene{i}\", \"benzo_a_pyrene\")\n",
    "    cmd.translate(coordinates[i-1+num_objects], f\"benzo_a_pyrene{i}\")\n",
    "cmd.delete(\"benzo_a_pyrene\")\n",
    "# Count the number of objects\n",
    "object_list = cmd.get_object_list()\n",
    "num_objects = len(object_list)\n",
    "\n",
    "# Print the count\n",
    "print(\"Number of objects:\", num_objects)\n",
    "cmd.reset()"
   ]
  },
  {
   "cell_type": "code",
   "execution_count": 27,
   "id": "df2e8d1c",
   "metadata": {},
   "outputs": [
    {
     "name": "stdout",
     "output_type": "stream",
     "text": [
      "Number of objects: 41\n"
     ]
    },
    {
     "data": {
      "text/plain": [
       "1"
      ]
     },
     "execution_count": 27,
     "metadata": {},
     "output_type": "execute_result"
    }
   ],
   "source": [
    "# Copy and translate benzo_g_h_i_perylene\n",
    "for i in range(1, values[13]+1):\n",
    "    cmd.copy(f\"benzo_g_h_i_perylene{i}\", \"benzo_g_h_i_perylene\")\n",
    "    cmd.translate(coordinates[i-1+num_objects], f\"benzo_g_h_i_perylene{i}\")\n",
    "cmd.delete(\"benzo_g_h_i_perylene\")\n",
    "# Count the number of objects\n",
    "object_list = cmd.get_object_list()\n",
    "num_objects = len(object_list)\n",
    "\n",
    "# Print the count\n",
    "print(\"Number of objects:\", num_objects)\n",
    "cmd.reset()"
   ]
  },
  {
   "cell_type": "code",
   "execution_count": 28,
   "id": "ee607b03",
   "metadata": {},
   "outputs": [
    {
     "name": "stdout",
     "output_type": "stream",
     "text": [
      "Number of objects: 101\n"
     ]
    },
    {
     "data": {
      "text/plain": [
       "1"
      ]
     },
     "execution_count": 28,
     "metadata": {},
     "output_type": "execute_result"
    }
   ],
   "source": [
    "# Copy and translate circumpyrene\n",
    "for i in range(1, values[14]+1):\n",
    "    cmd.copy(f\"circumpyrene{i}\", \"circumpyrene\")\n",
    "    cmd.translate(coordinates[i-1+num_objects], f\"circumpyrene{i}\")\n",
    "cmd.delete(\"circumpyrene\")\n",
    "# Count the number of objects\n",
    "object_list = cmd.get_object_list()\n",
    "num_objects = len(object_list)\n",
    "\n",
    "# Print the count\n",
    "print(\"Number of objects:\", num_objects)\n",
    "cmd.reset()"
   ]
  },
  {
   "cell_type": "code",
   "execution_count": 29,
   "id": "f0d8384d",
   "metadata": {},
   "outputs": [
    {
     "name": "stdout",
     "output_type": "stream",
     "text": [
      "Number of objects: 101\n"
     ]
    },
    {
     "data": {
      "text/plain": [
       "1"
      ]
     },
     "execution_count": 29,
     "metadata": {},
     "output_type": "execute_result"
    }
   ],
   "source": [
    "# Copy and translate cirumcoronene\n",
    "for i in range(1, values[15]+1):\n",
    "    cmd.copy(f\"circumcoronene{i}\", \"circumcoronene\")\n",
    "    cmd.translate(coordinates[i-1+num_objects], f\"circumcoronene{i}\")\n",
    "cmd.delete(\"circumcoronene\")\n",
    "# Count the number of objects\n",
    "object_list = cmd.get_object_list()\n",
    "num_objects = len(object_list)\n",
    "\n",
    "# Print the count\n",
    "print(\"Number of objects:\", num_objects)\n",
    "cmd.reset()"
   ]
  },
  {
   "cell_type": "code",
   "execution_count": 30,
   "id": "3b6d366b",
   "metadata": {},
   "outputs": [
    {
     "name": "stdout",
     "output_type": "stream",
     "text": [
      "Number of objects: 101\n"
     ]
    },
    {
     "data": {
      "text/plain": [
       "1"
      ]
     },
     "execution_count": 30,
     "metadata": {},
     "output_type": "execute_result"
    }
   ],
   "source": [
    "# Copy and translate circumovalene\n",
    "for i in range(1, values[16]+1):\n",
    "    cmd.copy(f\"circumovalene{i}\", \"circumovalene\")\n",
    "    cmd.translate(coordinates[i-1+num_objects], f\"circumovalene{i}\")\n",
    "cmd.delete(\"circumovalene\")\n",
    "# Count the number of objects\n",
    "object_list = cmd.get_object_list()\n",
    "num_objects = len(object_list)\n",
    "\n",
    "# Print the count\n",
    "print(\"Number of objects:\", num_objects)\n",
    "cmd.reset()"
   ]
  },
  {
   "cell_type": "code",
   "execution_count": 31,
   "id": "6518dccb",
   "metadata": {},
   "outputs": [
    {
     "name": "stdout",
     "output_type": "stream",
     "text": [
      "Number of objects: 120\n"
     ]
    },
    {
     "data": {
      "text/plain": [
       "1"
      ]
     },
     "execution_count": 31,
     "metadata": {},
     "output_type": "execute_result"
    }
   ],
   "source": [
    "# Copy and translate pentatriacotaene\n",
    "for i in range(1, values[17]+1):\n",
    "    cmd.copy(f\"pentatriacotaene{i}\", \"pentatriacotaene\")\n",
    "    cmd.translate(coordinates[i-1+num_objects], f\"pentatriacotaene{i}\")\n",
    "cmd.delete(\"pentatriacotaene\")\n",
    "# Count the number of objects\n",
    "object_list = cmd.get_object_list()\n",
    "num_objects = len(object_list)\n",
    "\n",
    "# Print the count\n",
    "print(\"Number of objects:\", num_objects)\n",
    "cmd.reset()"
   ]
  },
  {
   "cell_type": "code",
   "execution_count": 32,
   "id": "5f55fcc9",
   "metadata": {},
   "outputs": [
    {
     "name": "stdout",
     "output_type": "stream",
     "text": [
      "Number of objects: 120\n"
     ]
    },
    {
     "data": {
      "text/plain": [
       "1"
      ]
     },
     "execution_count": 32,
     "metadata": {},
     "output_type": "execute_result"
    }
   ],
   "source": [
    "# Copy and translate circumcircumpyrene\n",
    "for i in range(1, values[18]+1):\n",
    "    cmd.copy(f\"circumcircumpyrene{i}\", \"circumcircumpyrene\")\n",
    "    cmd.translate(coordinates[i-1+num_objects], f\"circumcircumpyrene{i}\")\n",
    "cmd.delete(\"circumcircumpyrene\")\n",
    "# Count the number of objects\n",
    "object_list = cmd.get_object_list()\n",
    "num_objects = len(object_list)\n",
    "\n",
    "# Print the count\n",
    "print(\"Number of objects:\", num_objects)\n",
    "cmd.reset()"
   ]
  },
  {
   "cell_type": "code",
   "execution_count": 33,
   "id": "281ff8e8",
   "metadata": {},
   "outputs": [
    {
     "name": "stdout",
     "output_type": "stream",
     "text": [
      "Number of objects: 120\n"
     ]
    },
    {
     "data": {
      "text/plain": [
       "1"
      ]
     },
     "execution_count": 33,
     "metadata": {},
     "output_type": "execute_result"
    }
   ],
   "source": [
    "# Copy and translate c84\n",
    "for i in range(1, values[19]+1):\n",
    "    cmd.copy(f\"c84{i}\", \"c84\")\n",
    "    cmd.translate(coordinates[i-1+num_objects], f\"c84{i}\")\n",
    "cmd.delete(\"c84\")\n",
    "# Count the number of objects\n",
    "object_list = cmd.get_object_list()\n",
    "num_objects = len(object_list)\n",
    "\n",
    "# Print the count\n",
    "print(\"Number of objects:\", num_objects)\n",
    "cmd.reset()"
   ]
  },
  {
   "cell_type": "markdown",
   "id": "c49121e4",
   "metadata": {},
   "source": [
    "### Check the number of aromatic carbons"
   ]
  },
  {
   "cell_type": "code",
   "execution_count": 34,
   "id": "afc603dd",
   "metadata": {},
   "outputs": [
    {
     "name": "stdout",
     "output_type": "stream",
     "text": [
      "Element C: 4984\n",
      "Element H: 1906\n",
      "Element N: 0\n",
      "Element O: 0\n",
      "Element S: 0\n",
      "Element Cl: 0\n",
      "Element Si: 0\n"
     ]
    }
   ],
   "source": [
    "# Count the number of atoms for each element\n",
    "atom_counts = {}\n",
    "elements = [\"C\", \"H\", \"N\", \"O\", \"S\", \"Cl\", \"Si\"]\n",
    "\n",
    "for element in elements:\n",
    "    count = cmd.select(f\"elem {element}\")\n",
    "    atom_counts[element] = count\n",
    "c_aromatic = atom_counts[\"C\"]\n",
    "h_aromatic = atom_counts[\"H\"]\n",
    "# Print the atom counts\n",
    "for element, count in atom_counts.items():\n",
    "    print(f\"Element {element}: {count}\")"
   ]
  },
  {
   "cell_type": "markdown",
   "id": "a8acbf37",
   "metadata": {},
   "source": [
    "### Include non-hexagonal structures, defects, and amorphous clusters"
   ]
  },
  {
   "cell_type": "markdown",
   "id": "6ecf13cd",
   "metadata": {},
   "source": [
    "#### Include a frequency for the defects, to have the complete distribution of fragments."
   ]
  },
  {
   "cell_type": "code",
   "execution_count": 35,
   "id": "b3698a8b",
   "metadata": {},
   "outputs": [
    {
     "name": "stdout",
     "output_type": "stream",
     "text": [
      "Value: -0.008075036284470233\n",
      "[1 1 1 1 1 1 1]\n"
     ]
    }
   ],
   "source": [
    "def_list = [78, 107, 45, 44, 169, 76, 206]\n",
    "TotalAromatic = c_aromatic + h_aromatic \n",
    "\n",
    "value =[]\n",
    "\n",
    "def constraint(vector, def_list, TotalAromatic):\n",
    "    value = [(def_list[i] * vector[i]) / TotalAromatic for i in range(len(def_list))]\n",
    "    constraint_value = sum(value)\n",
    "\n",
    "    return constraint_value - Defect\n",
    "\n",
    "initial_vector = [0, 0, 0, 0, 0, 0, 0]\n",
    "\n",
    "\n",
    "# Set bounds for the variables (you can adjust these as needed)\n",
    "bounds = [(0, 1) for i in range(len(def_list))]\n",
    "\n",
    "# Use SciPy's minimize function to satisfy the constraint\n",
    "result = minimize(lambda x: 0, initial_vector, method='slsqp', constraints={'type': 'eq', 'fun': constraint, 'args': (def_list, TotalAromatic)}, bounds=bounds, tol=1e-10)\n",
    "\n",
    "vector = result.x.round().astype(int)\n",
    "\n",
    "print(\"Value:\", constraint(vector, def_list, TotalAromatic))\n",
    "print(vector)\n"
   ]
  },
  {
   "cell_type": "code",
   "execution_count": 36,
   "id": "3c966fee",
   "metadata": {},
   "outputs": [
    {
     "name": "stdout",
     "output_type": "stream",
     "text": [
      "[ 1  1  1  1  1  1  1  1  1  1 21  2  1  1 61  1  1 20  1  1  1  1  1  1\n",
      "  1  1  1]\n"
     ]
    }
   ],
   "source": [
    "values = np.append(values, vector).astype(int)\n",
    "print(values)"
   ]
  },
  {
   "cell_type": "code",
   "execution_count": 37,
   "id": "c3d8ed4f",
   "metadata": {},
   "outputs": [
    {
     "data": {
      "text/plain": [
       "1"
      ]
     },
     "execution_count": 37,
     "metadata": {},
     "output_type": "execute_result"
    }
   ],
   "source": [
    "# Upload defects\n",
    "cmd.load(\"defect3.mol2\", \"defect3\")\n",
    "cmd.load(\"defect2.mol2\", \"defect2\")\n",
    "cmd.load(\"defect4.mol2\", \"defect4\")\n",
    "cmd.load(\"defect5.mol2\", \"defect5\")\n",
    "cmd.load(\"defect6.mol2\", \"defect6\")\n",
    "cmd.load(\"defect7.mol2\", \"defect7\")\n",
    "cmd.load(\"defect8.mol2\", \"defect8\")"
   ]
  },
  {
   "cell_type": "code",
   "execution_count": 38,
   "id": "7b732418",
   "metadata": {},
   "outputs": [
    {
     "name": "stdout",
     "output_type": "stream",
     "text": [
      "Number of objects: 127\n"
     ]
    },
    {
     "data": {
      "text/plain": [
       "1"
      ]
     },
     "execution_count": 38,
     "metadata": {},
     "output_type": "execute_result"
    }
   ],
   "source": [
    "# Copy and translate defects\n",
    "for i in range(1, values[20]+1):\n",
    "    cmd.copy(f\"defect3{i}\", \"defect3\")\n",
    "    cmd.translate(coordinates[i-1+num_objects+1], f\"defect3{i}\")\n",
    "cmd.delete(\"defect3\")\n",
    "for i in range(1, values[21]+1):\n",
    "    cmd.copy(f\"defect2{i}\", \"defect2\")\n",
    "    cmd.translate(coordinates[i-1+num_objects+2], f\"defect2{i}\")\n",
    "cmd.delete(\"defect2\")\n",
    "for i in range(1, values[22]+1):   \n",
    "    cmd.copy(f\"defect4{i}\", \"defect4\")  \n",
    "    cmd.translate(coordinates[i-1+num_objects+3], f\"defect4{i}\")\n",
    "cmd.delete(\"defect4\")\n",
    "for i in range(1, values[23]+1):    \n",
    "    cmd.copy(f\"defect5{i}\", \"defect5\")\n",
    "    cmd.translate(coordinates[i-1+num_objects+4], f\"defect5{i}\")\n",
    "cmd.delete(\"defect5\")\n",
    "for i in range(1, values[24]+1):    \n",
    "    cmd.copy(f\"defect6{i}\", \"defect6\")\n",
    "    cmd.translate(coordinates[i-1+num_objects+5], f\"defect6{i}\")\n",
    "cmd.delete(\"defect6\")\n",
    "for i in range(1, values[25]+1):    \n",
    "    cmd.copy(f\"defect7{i}\", \"defect7\")\n",
    "    cmd.translate(coordinates[i-1+num_objects+6], f\"defect7{i}\")\n",
    "cmd.delete(\"defect7\")\n",
    "for i in range(1, values[26]+1):    \n",
    "    cmd.copy(f\"defect8{i}\", \"defect8\")\n",
    "    cmd.translate(coordinates[i-1+num_objects+7], f\"defect8{i}\")\n",
    "cmd.delete(\"defect8\")\n",
    "\n",
    "# Count the number of objects\n",
    "object_list = cmd.get_object_list()\n",
    "num_objects = len(object_list)\n",
    "\n",
    "# Print the count\n",
    "print(\"Number of objects:\", num_objects)\n",
    "cmd.reset()"
   ]
  },
  {
   "cell_type": "code",
   "execution_count": 39,
   "id": "4c18b4f8",
   "metadata": {},
   "outputs": [],
   "source": [
    "# Call the PyMOL aliases\n",
    "cmd.do('colour')\n",
    "cmd.do('comp')\n",
    "cmd.do('atomdata')\n",
    "cmd.do('orient')\n",
    "# Change colors ans appereance\n",
    "cmd.do('set sphere_scale, 0.2, (all)')\n",
    "cmd.do('set_bond stick_radius, 0.14, (all), (all)')\n",
    "cmd.do('show sticks')\n",
    "cmd.do('show spheres')"
   ]
  },
  {
   "cell_type": "markdown",
   "id": "3cc9f9cf",
   "metadata": {},
   "source": [
    "### Organize the structures without overlapping them; this will allow you to visualize better the changes made"
   ]
  },
  {
   "cell_type": "code",
   "execution_count": 40,
   "id": "25b7b209",
   "metadata": {},
   "outputs": [],
   "source": [
    "# Define the range of rotation angles in degrees\n",
    "min_angle = 1\n",
    "max_angle = 359.0\n",
    "\n",
    "# Define the number of divisions in each dimension of the grid\n",
    "grid_divisions = 20\n",
    "\n",
    "# Track the positions and angles of molecules\n",
    "positions = []\n",
    "angles = []\n",
    "xmin, xmax = 0, 150\n",
    "ymin, ymax = -150, 0\n",
    "zmin, zmax = 0, 64\n",
    "\n",
    "# Shuffle the object_list to randomize the order\n",
    "random.shuffle(object_list)\n",
    "\n",
    "# Calculate the grid size in each dimension\n",
    "grid_size_x = (xmax - xmin) / grid_divisions\n",
    "grid_size_y = (ymax - ymin) / grid_divisions\n",
    "grid_size_z = (zmax - zmin) / grid_divisions\n",
    "\n",
    "# Rotate each molecule in all directions randomly\n",
    "for name in object_list:\n",
    "    # Generate a new position and angle until they are unique\n",
    "    unique_position = False\n",
    "    while not unique_position:\n",
    "        # Calculate the grid indices for the position\n",
    "        grid_index_x = random.randint(0, grid_divisions - 1)\n",
    "        grid_index_y = random.randint(0, grid_divisions - 1)\n",
    "        grid_index_z = random.randint(0, grid_divisions - 1)\n",
    "\n",
    "        # Calculate the position within the grid cell\n",
    "        x = xmin + (grid_index_x + random.uniform(0, 1)) * grid_size_x\n",
    "        y = ymin + (grid_index_y + random.uniform(0, 1)) * grid_size_y\n",
    "        z = zmin + (grid_index_z + random.uniform(0, 1)) * grid_size_z\n",
    "\n",
    "        new_position = (x, y, z)\n",
    "\n",
    "        # Check if the new position conflicts with any existing positions or angles\n",
    "        if all(all(abs(new_position[i] - pos[i]) > 1e-6 for i in range(3)) for pos in positions) and new_position not in positions:\n",
    "            unique_position = True\n",
    "            positions.append(new_position)\n",
    "\n",
    "            # Calculate a new random angle\n",
    "            rotation_angle = random.randint(min_angle, max_angle)\n",
    "            new_angle = (rotation_angle, name)\n",
    "\n",
    "            angles.append(new_angle)\n",
    "\n",
    "            # Perform rotation on the object\n",
    "            for axis in ['x', 'y', 'z']:\n",
    "                rotation_command = \"rotate {0}, {1}, {2}\".format(axis, rotation_angle, name)\n",
    "                cmd.do(rotation_command)\n",
    "\n",
    "# Update the display\n",
    "cmd.refresh()\n"
   ]
  },
  {
   "cell_type": "code",
   "execution_count": 41,
   "id": "a79fb895",
   "metadata": {},
   "outputs": [
    {
     "name": "stdout",
     "output_type": "stream",
     "text": [
      "Element C: 5709\n",
      "Element H: 2942\n",
      "Element N: 0\n",
      "Element O: 0\n",
      "Element S: 0\n",
      "Element Cl: 0\n",
      "Element Si: 0\n"
     ]
    }
   ],
   "source": [
    "# Count the number of atoms for each element\n",
    "atom_counts = {}\n",
    "elements = [\"C\", \"H\", \"N\", \"O\", \"S\", \"Cl\", \"Si\"]\n",
    "\n",
    "for element in elements:\n",
    "    count = cmd.select(f\"elem {element}\")\n",
    "    atom_counts[element] = count\n",
    "c_total= atom_counts[\"C\"]\n",
    "h_total= atom_counts[\"H\"]\n",
    "# Print the atom counts\n",
    "for element, count in atom_counts.items():\n",
    "    print(f\"Element {element}: {count}\")"
   ]
  },
  {
   "cell_type": "code",
   "execution_count": 42,
   "id": "3a05a7f3",
   "metadata": {},
   "outputs": [
    {
     "name": "stdout",
     "output_type": "stream",
     "text": [
      "Defect carbon: 725\n"
     ]
    }
   ],
   "source": [
    "c_defect=c_total-c_aromatic\n",
    "print(\"Defect carbon:\", c_defect)"
   ]
  },
  {
   "cell_type": "markdown",
   "id": "48f728b4",
   "metadata": {},
   "source": [
    "## Step 2: Create the distribution to add functional groups\n"
   ]
  },
  {
   "cell_type": "markdown",
   "id": "f5e31357",
   "metadata": {},
   "source": [
    "### Add additional groups as needed"
   ]
  },
  {
   "cell_type": "code",
   "execution_count": 43,
   "id": "c338ef63",
   "metadata": {},
   "outputs": [],
   "source": [
    "# Molecule type and funtional groups to be included, information obtained from FTIR, CNMR, and XPS \n",
    "\n",
    "# These are defined by the user:             \n",
    "Furan=0           # Change : interior C \n",
    "Pyrrolic=0        # Change : interior C\n",
    "Fluorene=0        # Change : interior \n",
    "Thiophene=0       # Change : interior\n",
    "\n",
    "if Biochar_Temp == 400:\n",
    "    y = -0.15\n",
    "elif Biochar_Temp == 500:\n",
    "    y = 0\n",
    "elif Biochar_Temp == 600:\n",
    "    y = 0.03\n",
    "elif Biochar_Temp == 700:\n",
    "    y = 0.03\n",
    "else:\n",
    "    y = 0  # You may want to specify a default value in case Biochar_Temp doesn't match any of the above conditions"
   ]
  },
  {
   "cell_type": "markdown",
   "id": "8b8ca417",
   "metadata": {},
   "source": [
    "### Fix Carbon, nitrogen, oxygen, and hydrogen"
   ]
  },
  {
   "cell_type": "code",
   "execution_count": 44,
   "id": "ec9b895e",
   "metadata": {},
   "outputs": [
    {
     "name": "stdout",
     "output_type": "stream",
     "text": [
      "aro = 4123\n",
      "carb = 129\n",
      "carbox = 183\n",
      "eth = 342\n",
      "alip = 199\n",
      "defe = 682\n",
      "c_nonar = 1876\n",
      "methyl = 66\n",
      "ali_chain = 133\n",
      "aniline = 3\n",
      "pyridin = 2\n",
      "quaternaryN = 2\n",
      "Hydroxyl = 2\n",
      "MW = 88862\n",
      "Oxygen = 838\n",
      "Nitrogen = 7\n",
      "Carbon = 6023\n",
      "Hydrogen = 3272\n"
     ]
    }
   ],
   "source": [
    "# Define the variables\n",
    "c, carb, carbox, eth, alip, defe, c_nonar, methyl, ali_chain, hydro, aro, nitro_groups, aniline, pyridin, quaternaryN, MW, oxy, hydroxyl, thiol= symbols('c carb carbox eth c_nonar alip defe methyl ali_chain hydro aro nitro_groups aniline pyridin quaternaryN MW oxy hydroxyl thiol')\n",
    "# Define the equations\n",
    "equations = [\n",
    "    # Carbon\n",
    "    Eq(c_nonar, defe+alip+carb+carbox+eth*2),\n",
    "    Eq(defe,Defect*c),\n",
    "    Eq(c,(MW*Carbon)/12.011),\n",
    "    Eq(aro,c_aromatic-eth-nitro_groups-hydroxyl-alip-carbox-carb-thiol),\n",
    "    Eq(carb, Carbonyl*c*(0.92-y)),                                   # Change : aromatic H\n",
    "    Eq(carbox, Carboxyl*c*(0.92-y)),                            # Change : aromatic H\n",
    "    Eq(eth,0.5*Ether*c*(0.92-y)),                                 # Change : aromatic C-H (In NMR ether groups count two carbons per oxygen)\n",
    "    Eq(alip, Aliphatic*c),            \n",
    "    Eq(methyl,alip*1/3),                                           # Change : aromatic H\n",
    "    Eq(ali_chain,alip*2/3),                                        # Change : aromatic H\n",
    "    # Nitrogen\n",
    "    Eq(nitro_groups,(MW*Nitrogen)/14.0067),\n",
    "    Eq(aniline,nitro_groups*2/4),                                  # Change : aromatic H\n",
    "    Eq(pyridin,nitro_groups*1/4),                                  # Change : aromatic C-H\n",
    "    Eq(quaternaryN,nitro_groups*1/4),                              # Change : interior C\n",
    "    # Hydrogen\n",
    "    Eq(hydro,h_total+alip*4+nitro_groups*3/4-carb-thiol-eth),\n",
    "    # Oxygen\n",
    "    Eq(hydroxyl,((MW*Oxygen)/15.999)*v),                           # Change : aromatic H\n",
    "    Eq(oxy,hydroxyl+carbox*2+carb+eth),\n",
    "    # Sulfur\n",
    "    Eq(thiol,c*Sulfur),                                            # Change : aromatic H (SH)\n",
    "    # Molecular weight\n",
    "    Eq(MW,(aro+c_nonar)*12.011+hydro*1.00784+nitro_groups*14.0067+oxy*15.999)\n",
    "     \n",
    "]\n",
    "\n",
    "# Solve the equations\n",
    "solution = solve(equations, (c, carb, carbox, eth, alip, c_nonar ,defe, methyl, ali_chain, hydro, aro, nitro_groups, aniline,pyridin, quaternaryN, MW, oxy, hydroxyl, thiol))\n",
    "\n",
    "# Print the solutions\n",
    "print(\"aro =\", round(solution[aro]))\n",
    "print(\"carb =\", round(solution[carb]))\n",
    "print(\"carbox =\", round(solution[carbox]))\n",
    "print(\"eth =\", round(solution[eth]))\n",
    "print(\"alip =\", round(solution[alip]))\n",
    "print(\"defe =\", round(solution[defe]))\n",
    "print(\"c_nonar =\", round(solution[c_nonar]))\n",
    "print(\"methyl =\", round(solution[methyl]))\n",
    "print(\"ali_chain =\", round(solution[ali_chain]))\n",
    "print(\"aniline =\", round(solution[aniline]))\n",
    "print(\"pyridin =\", round(solution[pyridin]))\n",
    "print(\"quaternaryN =\", math.ceil(solution[quaternaryN]))\n",
    "print(\"Hydroxyl =\", round(solution[hydroxyl]))\n",
    "print(\"MW =\", round(solution[MW]))\n",
    "print(\"Oxygen =\", round(solution[oxy]))\n",
    "print(\"Nitrogen =\", math.ceil(solution[nitro_groups]))\n",
    "print(\"Carbon =\", round(solution[c]))\n",
    "print(\"Hydrogen =\", round(solution[hydro]))\n"
   ]
  },
  {
   "cell_type": "markdown",
   "id": "2133c94b",
   "metadata": {},
   "source": [
    "### Define cross-links by fixing H/C ratio"
   ]
  },
  {
   "cell_type": "code",
   "execution_count": 45,
   "id": "2c23a508",
   "metadata": {},
   "outputs": [
    {
     "name": "stdout",
     "output_type": "stream",
     "text": [
      "Hydrogen needed: 3084\n",
      "Error: 0.006\n"
     ]
    }
   ],
   "source": [
    "def calculate_Err_H_C(i):\n",
    "    mw = solution[c] * 12.011 + i * 1.00784 + ((solution[aniline] +solution[pyridin] +solution[quaternaryN])* 14.0067) + solution[oxy] * 15.999\n",
    "    CarbonMoles = (solution[c] * 12.011)/mw\n",
    "    HydrogenMoles = (i * 1.00784)/mw\n",
    "    H_C_mod = (HydrogenMoles*12.011)/(CarbonMoles*1.00784)\n",
    "    Err_H_C = (abs(H_C_mod - H_C) / H_C) * 100\n",
    "    return Err_H_C\n",
    "\n",
    "# Iterate over possible values of i and find the minimum Err_H_C\n",
    "min_error = np.inf\n",
    "best_i = None\n",
    "for i in range(10000):  # Adjust the range as needed based on how many carbons do you have in the simulation\n",
    "    error = calculate_Err_H_C(i)\n",
    "    if error < min_error:\n",
    "        min_error = error\n",
    "        best_i = i\n",
    "\n",
    "print(\"Hydrogen needed:\", best_i)\n",
    "print(\"Error:\", round(min_error,3))"
   ]
  },
  {
   "cell_type": "code",
   "execution_count": 46,
   "id": "3957c89e",
   "metadata": {},
   "outputs": [
    {
     "name": "stdout",
     "output_type": "stream",
     "text": [
      "Hydrogen to remove: 188\n",
      "crosslinks: 94\n"
     ]
    }
   ],
   "source": [
    "Hydrogen_to_remove=round(solution[hydro])-best_i\n",
    "print(\"Hydrogen to remove:\", Hydrogen_to_remove)\n",
    "crosslinks=round(Hydrogen_to_remove/2)\n",
    "print(\"crosslinks:\", crosslinks)\n",
    "newhydro=solution[hydro]-Hydrogen_to_remove\n",
    "newMW=solution[c]* 12.011 + newhydro * 1.00784 + (solution[nitro_groups])* 14.0067 + (solution[oxy]) * 15.999"
   ]
  },
  {
   "cell_type": "markdown",
   "id": "20443c8d",
   "metadata": {},
   "source": [
    "### Create \"holes\" within the structure and correct the excess of carbon defects"
   ]
  },
  {
   "cell_type": "code",
   "execution_count": 47,
   "id": "dca39165",
   "metadata": {},
   "outputs": [
    {
     "name": "stdout",
     "output_type": "stream",
     "text": [
      "Carbon to remove: 43\n"
     ]
    }
   ],
   "source": [
    "Internal_C_to_remove=(c_defect-solution[defe])\n",
    "print(\"Carbon to remove:\",round(Internal_C_to_remove))\n",
    "newMW=(solution[c]-Internal_C_to_remove)* 12.011 + newhydro * 1.00784 + (solution[nitro_groups])* 14.0067 + (solution[oxy])* 15.999"
   ]
  },
  {
   "cell_type": "markdown",
   "id": "144f8d9c",
   "metadata": {},
   "source": [
    "### See if you have an excess of oxygen\n"
   ]
  },
  {
   "cell_type": "code",
   "execution_count": 48,
   "id": "4ccaf4de",
   "metadata": {},
   "outputs": [
    {
     "name": "stdout",
     "output_type": "stream",
     "text": [
      "Oxygen needed: 826\n",
      "Error: 0.038\n"
     ]
    }
   ],
   "source": [
    "def calculate_Err_O(j):\n",
    "    mw = (solution[c]-Internal_C_to_remove)* 12.011 + newhydro * 1.00784 + ((solution[aniline] +solution[pyridin] +solution[quaternaryN])* 14.0067) + j * 15.999\n",
    "    OxygenMoles = (j * 15.999) / mw\n",
    "    Err_O = (abs(OxygenMoles - Oxygen) / Oxygen)*100\n",
    "    return Err_O\n",
    "\n",
    "# Iterate over possible values of i and find the minimum Err_H_C\n",
    "min_error = np.inf\n",
    "best_j = None\n",
    "for j in range(5000):  # Adjust the range as needed based on how many carbons do you have in the simulation\n",
    "    error = calculate_Err_O(j)\n",
    "    if error < min_error:\n",
    "        min_error = error\n",
    "        best_j = j\n",
    "\n",
    "print(\"Oxygen needed:\", best_j)\n",
    "print(\"Error:\", round(min_error,3))"
   ]
  },
  {
   "cell_type": "markdown",
   "id": "9aa1c9cb",
   "metadata": {},
   "source": [
    "### Before modifying check: CNMR data"
   ]
  },
  {
   "cell_type": "code",
   "execution_count": 49,
   "id": "1062c60d",
   "metadata": {},
   "outputs": [
    {
     "name": "stdout",
     "output_type": "stream",
     "text": [
      "Error: 2.439\n"
     ]
    }
   ],
   "source": [
    "# Aromatic Carbon\n",
    "Err_C=(abs((solution[aro]/(solution[c]-Internal_C_to_remove))-Aromatic)/Aromatic)*100\n",
    "print(\"Error:\",round(Err_C,3))"
   ]
  },
  {
   "cell_type": "code",
   "execution_count": 50,
   "id": "42a29d84",
   "metadata": {},
   "outputs": [
    {
     "name": "stdout",
     "output_type": "stream",
     "text": [
      "Error: 7.345\n"
     ]
    }
   ],
   "source": [
    "# Carbonyl\n",
    "Err_Car=(abs((solution[carb]/(solution[c]-Internal_C_to_remove))-Carbonyl)/Carbonyl)*100\n",
    "print(\"Error:\",round(Err_Car,3))"
   ]
  },
  {
   "cell_type": "code",
   "execution_count": 51,
   "id": "1aa7365e",
   "metadata": {},
   "outputs": [
    {
     "name": "stdout",
     "output_type": "stream",
     "text": [
      "Error: 7.345\n"
     ]
    }
   ],
   "source": [
    "# Carboxyl Lactone\n",
    "Err_Carb=(abs((solution[carbox]/(solution[c]-Internal_C_to_remove))-Carboxyl)/Carboxyl)*100\n",
    "print(\"Error:\",round(Err_Carb,3))"
   ]
  },
  {
   "cell_type": "code",
   "execution_count": 52,
   "id": "2fb21e11",
   "metadata": {},
   "outputs": [
    {
     "name": "stdout",
     "output_type": "stream",
     "text": [
      "Error: 7.345\n"
     ]
    }
   ],
   "source": [
    "# Ether\n",
    "Err_ethh=(abs(((solution[eth]*2)/(solution[c]-Internal_C_to_remove))-Ether)/Ether)*100\n",
    "print(\"Error:\",round(Err_ethh,3))"
   ]
  },
  {
   "cell_type": "code",
   "execution_count": 53,
   "id": "20deef15",
   "metadata": {},
   "outputs": [
    {
     "name": "stdout",
     "output_type": "stream",
     "text": [
      "Error: 0.712\n"
     ]
    }
   ],
   "source": [
    "# Aliphatic\n",
    "Err_ali=(abs((solution[alip]/(solution[c]-Internal_C_to_remove))-Aliphatic)/Aliphatic)*100\n",
    "print(\"Error:\",round(Err_ali,3))"
   ]
  },
  {
   "cell_type": "code",
   "execution_count": 54,
   "id": "85b6ec7a",
   "metadata": {},
   "outputs": [
    {
     "name": "stdout",
     "output_type": "stream",
     "text": [
      "Error: 0.712\n"
     ]
    }
   ],
   "source": [
    "# Defect\n",
    "Err_defe=(abs((c_defect-Internal_C_to_remove)/(solution[c]-Internal_C_to_remove)-Defect))/Defect*100\n",
    "print(\"Error:\",round(Err_defe,3))"
   ]
  },
  {
   "cell_type": "markdown",
   "id": "cac59c13",
   "metadata": {},
   "source": [
    "### Before modifying check: elemental composition "
   ]
  },
  {
   "cell_type": "code",
   "execution_count": 55,
   "id": "73e4fd36",
   "metadata": {},
   "outputs": [
    {
     "name": "stdout",
     "output_type": "stream",
     "text": [
      "Carbon: 0.812\n",
      "Error: 0.239\n"
     ]
    }
   ],
   "source": [
    "# Carbon\n",
    "Elem_c=((solution[c]-Internal_C_to_remove)*12.011)/newMW\n",
    "print(\"Carbon:\",round(Elem_c,3))\n",
    "Err_elemc=(abs(Elem_c-Carbon)/Carbon)*100\n",
    "print(\"Error:\",round(Err_elemc,3))"
   ]
  },
  {
   "cell_type": "code",
   "execution_count": 56,
   "id": "8db7c8ba",
   "metadata": {},
   "outputs": [
    {
     "name": "stdout",
     "output_type": "stream",
     "text": [
      "Nitrogen: 0.001\n",
      "Error: 0.471\n"
     ]
    }
   ],
   "source": [
    "# Nitrogen\n",
    "Elem_n=(solution[nitro_groups]*14.0067)/newMW\n",
    "print(\"Nitrogen:\",round(Elem_n,3))\n",
    "Err_elemn=(abs(Elem_n-Nitrogen)/Nitrogen)*100\n",
    "print(\"Error:\",round(Err_elemn,3))"
   ]
  },
  {
   "cell_type": "code",
   "execution_count": 57,
   "id": "026b10c9",
   "metadata": {},
   "outputs": [
    {
     "name": "stdout",
     "output_type": "stream",
     "text": [
      "Oxygen: 0.152\n",
      "Error: 1.206\n"
     ]
    }
   ],
   "source": [
    "# Oxygen\n",
    "Elem_o=((solution[oxy])*15.999)/newMW\n",
    "print(\"Oxygen:\",round(Elem_o,3))\n",
    "Err_elemo=(abs(Elem_o-Oxygen)/Oxygen)*100\n",
    "print(\"Error:\",round(Err_elemo,3))"
   ]
  },
  {
   "cell_type": "code",
   "execution_count": 58,
   "id": "67a92ee5",
   "metadata": {},
   "outputs": [
    {
     "name": "stdout",
     "output_type": "stream",
     "text": [
      "Hydrogen: 0.035\n",
      "Error: 0.392\n"
     ]
    }
   ],
   "source": [
    "# Hydrogen\n",
    "Elem_h=newhydro*1.00784/newMW\n",
    "print(\"Hydrogen:\",round(Elem_h,3))\n",
    "Err_elemh=(abs(Elem_h-Hydrogen)/Hydrogen)*100\n",
    "print(\"Error:\",round(Err_elemh,3))"
   ]
  },
  {
   "cell_type": "markdown",
   "id": "1aa048e9",
   "metadata": {},
   "source": [
    "## Step 3: Modify aromatic structures and include functional groups"
   ]
  },
  {
   "cell_type": "code",
   "execution_count": 59,
   "id": "653cfec0",
   "metadata": {},
   "outputs": [],
   "source": [
    "# Obtain molecules names\n",
    "object_masses= builder.Get_Object_Masses()\n",
    "object_names = list(object_masses.keys())\n",
    "# Check if object_names is empty\n",
    "while not object_names:\n",
    "    object_masses = builder.Get_Object_Masses()\n",
    "    object_names = list(object_masses.keys())"
   ]
  },
  {
   "cell_type": "markdown",
   "id": "d095b482",
   "metadata": {},
   "source": [
    "### Include Ether groups"
   ]
  },
  {
   "cell_type": "code",
   "execution_count": 60,
   "id": "fb53919c",
   "metadata": {},
   "outputs": [
    {
     "name": "stdout",
     "output_type": "stream",
     "text": [
      "Element C: 5709\n",
      "Element H: 2942\n",
      "Element N: 0\n",
      "Element O: 0\n",
      "Element S: 0\n",
      "Element Cl: 0\n",
      "Element Si: 0\n"
     ]
    }
   ],
   "source": [
    "# Count the number of atoms for each element\n",
    "atom_counts = {}\n",
    "elements = [\"C\", \"H\", \"N\", \"O\", \"S\", \"Cl\", \"Si\"]\n",
    "\n",
    "for element in elements:\n",
    "    count = cmd.select(f\"elem {element}\")\n",
    "    atom_counts[element] = count\n",
    "c_totali= atom_counts[\"C\"]\n",
    "h_totali= atom_counts[\"H\"]\n",
    "# Print the atom counts\n",
    "for element, count in atom_counts.items():\n",
    "    print(f\"Element {element}: {count}\")"
   ]
  },
  {
   "cell_type": "code",
   "execution_count": 61,
   "id": "ab8b98e5",
   "metadata": {},
   "outputs": [],
   "source": [
    "#List of object names (example data)\n",
    "object_names = list(object_masses.keys())\n",
    "\n",
    "# List to store the modified object \n",
    "modified_ether = []\n",
    "\n",
    "# Number of molecules to modify\n",
    "num_molecules = round(solution[eth])\n",
    "\n",
    "# Exclude object names that start with specific prefixes\n",
    "excluded_prefixes = [\"dibenzofuran\",\"defect\",\"benzo_a_fluorene\", \"benzo_b_fluorene\",\"benzene\",\"naphthalene\",\"dibenzofuran\",\"phenalene\", \"phenanthrene\",\"anthracene\",\"pyrene\",\"perylene\",\"chrysene\", \"coronene\"]\n",
    "filtered_object_names = [name for name in object_names if not any(name.startswith(prefix) for prefix in excluded_prefixes)]\n",
    "\n",
    "# Select a specific number of molecules from the filtered list\n",
    "if num_molecules > len(filtered_object_names):\n",
    "    molecules_to_edit = random.choices(filtered_object_names, k=num_molecules)\n",
    "else:\n",
    "    molecules_to_edit = random.sample(filtered_object_names, num_molecules)\n",
    "\n",
    "# Loop over each selected molecule\n",
    "for mol_to_edit in molecules_to_edit:\n",
    "    \n",
    "    while True:\n",
    "        \n",
    "        # Get available carbon types\n",
    "        c_aro_types = builder.examine_main(mol_to_edit)\n",
    "\n",
    "        if len(c_aro_types['O_2n'])<=round(O_C*30):\n",
    "            break  # Condition met, proceed to modify the molecule\n",
    "        \n",
    "        # Select a new molecule from the list\n",
    "        mol_to_edit = random.choice(filtered_object_names)\n",
    "    \n",
    "    cmd.select(\"carbon_not_bonded_to_oxygen\", f\"({mol_to_edit} and elem C and neighbor (elem H) and not neighbor (elem O))\")\n",
    "\n",
    "    # Get the selection of carbon atoms not bonded to oxygen\n",
    "    selection_dict = cmd.get_model(\"carbon_not_bonded_to_oxygen\")\n",
    "        \n",
    "    c_choices = [atom[\"index\"] for atom in selection_dict[\"atom\"] if atom[\"name\"].startswith(\"C\")]\n",
    "    \n",
    "    while True:\n",
    "        value=random.choice(c_aro_types['C_2n'])\n",
    "        if value in c_choices:\n",
    "            break\n",
    "\n",
    "    # Attach Ether group to the selected carbon atom\n",
    "    object_ether = cmd.alter(f'{mol_to_edit} and index {value}', 'elem=\"O\"')\n",
    "    object_ether = cmd.alter(f'{mol_to_edit} and index {value}', 'text_type=\"O.3\"')\n",
    "    object_ether = cmd.alter(f'{mol_to_edit} and index {value}', 'name=\"O\"')\n",
    "\n",
    "    # Store the modified ether\n",
    "    modified_ether.append(object_ether)\n",
    "    h_types = builder.examine_h(mol_to_edit)\n",
    "    h_choice = random.choice(h_types['Aliphatic_O_inRing'])\n",
    "    object_ether = cmd.remove(f'{mol_to_edit} and index {h_choice}')\n",
    "    modified_ether.append(object_ether)\n"
   ]
  },
  {
   "cell_type": "code",
   "execution_count": 62,
   "id": "b90c6ae6",
   "metadata": {},
   "outputs": [
    {
     "name": "stdout",
     "output_type": "stream",
     "text": [
      "Element C: 5367\n",
      "Element H: 2600\n",
      "Element N: 0\n",
      "Element O: 342\n",
      "Element S: 0\n",
      "Element Cl: 0\n",
      "Element Si: 0\n"
     ]
    }
   ],
   "source": [
    "# Count the number of atoms for each element\n",
    "atom_counts = {}\n",
    "elements = [\"C\", \"H\", \"N\", \"O\", \"S\", \"Cl\", \"Si\"]\n",
    "\n",
    "for element in elements:\n",
    "    count = cmd.select(f\"elem {element}\")\n",
    "    atom_counts[element] = count\n",
    "c_total= atom_counts[\"C\"]\n",
    "h_total= atom_counts[\"H\"]\n",
    "o_total= atom_counts[\"O\"]\n",
    "# Print the atom counts\n",
    "for element, count in atom_counts.items():\n",
    "    print(f\"Element {element}: {count}\")"
   ]
  },
  {
   "cell_type": "markdown",
   "id": "2104cc82",
   "metadata": {},
   "source": [
    "#### Check this values: Should be zero\n"
   ]
  },
  {
   "cell_type": "code",
   "execution_count": 63,
   "id": "9fc70fe6",
   "metadata": {},
   "outputs": [
    {
     "data": {
      "text/plain": [
       "0"
      ]
     },
     "execution_count": 63,
     "metadata": {},
     "output_type": "execute_result"
    }
   ],
   "source": [
    "cmd.select(\"carbon_bonded_to_oxygen\", \"elem O and neighbor elem O\")"
   ]
  },
  {
   "cell_type": "code",
   "execution_count": 64,
   "id": "2494875b",
   "metadata": {
    "scrolled": true
   },
   "outputs": [
    {
     "name": "stdout",
     "output_type": "stream",
     "text": [
      "0\n",
      "0\n",
      "0\n"
     ]
    }
   ],
   "source": [
    "check_ether_o=o_total-round(solution[eth])\n",
    "print(check_ether_o)\n",
    "check_ether_h=h_totali-h_total-round(solution[eth])\n",
    "print(check_ether_h)\n",
    "check_ether_c=c_totali-c_total-round(solution[eth])\n",
    "print(check_ether_c)"
   ]
  },
  {
   "cell_type": "markdown",
   "id": "efe28f49",
   "metadata": {},
   "source": [
    "### Create holes in the structure to fix carbon defects"
   ]
  },
  {
   "cell_type": "code",
   "execution_count": 65,
   "id": "a5c371ac",
   "metadata": {},
   "outputs": [],
   "source": [
    "# List of object names (example data)\n",
    "object_names = list(object_masses.keys())\n",
    "\n",
    "# List to store the modified object \n",
    "modified_hole = []\n",
    "\n",
    "# Number of molecules to modify\n",
    "num_molecules = round(Internal_C_to_remove)\n",
    "\n",
    "excluded_prefixes = [\"circumcoronene\",\"circumpyrene\",\"pentatriacotaene\", \"circumcircumpyrene\",\"C84\"]\n",
    "filtered_object_names = [name for name in object_names if any(name.startswith(prefix) for prefix in excluded_prefixes)]\n",
    "\n",
    "# Select a specific number of molecules from the filtered list\n",
    "if num_molecules > len(filtered_object_names):\n",
    "    molecules_to_edit = random.choices(filtered_object_names, k=num_molecules)\n",
    "else:\n",
    "    molecules_to_edit = random.sample(filtered_object_names, num_molecules)\n",
    "\n",
    "# Loop over each selected molecule\n",
    "for mol_to_edit in molecules_to_edit:\n",
    "    \n",
    "    c_types = builder.examine_main(mol_to_edit)\n",
    "    c_choice = random.choice(c_types['C_3n'])\n",
    "\n",
    "    # Remove the internal carbon atom to create a hole in the structure\n",
    "    object_hole = cmd.remove(f'{mol_to_edit} and index {c_choice}')\n",
    "\n",
    "    # Store the modified molecules  \n",
    "    modified_hole.append(object_hole)"
   ]
  },
  {
   "cell_type": "code",
   "execution_count": 66,
   "id": "ddfb02c9",
   "metadata": {},
   "outputs": [
    {
     "name": "stdout",
     "output_type": "stream",
     "text": [
      "Element C: 5324\n",
      "Element H: 2600\n",
      "Element N: 0\n",
      "Element O: 342\n",
      "Element S: 0\n",
      "Element Cl: 0\n",
      "Element Si: 0\n"
     ]
    }
   ],
   "source": [
    "# Count the number of atoms for each element\n",
    "atom_counts = {}\n",
    "elements = [\"C\", \"H\", \"N\", \"O\", \"S\", \"Cl\", \"Si\"]\n",
    "\n",
    "for element in elements:\n",
    "    count = cmd.select(f\"elem {element}\")\n",
    "    atom_counts[element] = count\n",
    "c_total2= atom_counts[\"C\"]\n",
    "# Print the atom counts\n",
    "for element, count in atom_counts.items():\n",
    "    print(f\"Element {element}: {count}\")"
   ]
  },
  {
   "cell_type": "markdown",
   "id": "ddbb9cc1",
   "metadata": {},
   "source": [
    "#### Check this values: Should be zero"
   ]
  },
  {
   "cell_type": "code",
   "execution_count": 67,
   "id": "30cefc8c",
   "metadata": {},
   "outputs": [
    {
     "name": "stdout",
     "output_type": "stream",
     "text": [
      "0\n"
     ]
    }
   ],
   "source": [
    "check_c=c_total-(c_total2+round(Internal_C_to_remove))\n",
    "print(check_c)"
   ]
  },
  {
   "cell_type": "markdown",
   "id": "5e963289",
   "metadata": {},
   "source": [
    "###  Include Pyridinic group "
   ]
  },
  {
   "cell_type": "code",
   "execution_count": 68,
   "id": "e5afcdbe",
   "metadata": {},
   "outputs": [],
   "source": [
    "#List of object names (example data)\n",
    "object_names = list(object_masses.keys())\n",
    "\n",
    "# List to store the modified object \n",
    "modified_pyridin = []\n",
    "\n",
    "# Number of molecules to modify\n",
    "num_molecules = round(solution[pyridin])\n",
    "\n",
    "# Exclude object names that start with specific prefixes\n",
    "excluded_prefixes = [\"dibenzofuran\",\"defect\",\"benzo_a_fluorene\", \"benzo_b_fluorene\",\"benzene\",\"naphthalene\",\"dibenzofuran\",\"phenalene\", \"phenanthrene\",\"anthracene\",\"pyrene\",\"benzo_g_h_i_perylene\",\"benzo_a_pyrene\",\"perylene\",\"chrysene\"]\n",
    "filtered_object_names = [name for name in object_names if not any(name.startswith(prefix) for prefix in excluded_prefixes)]\n",
    "\n",
    "# Select a specific number of molecules from the filtered list\n",
    "if num_molecules > len(filtered_object_names):\n",
    "    molecules_to_edit = random.choices(filtered_object_names, k=num_molecules)\n",
    "else:\n",
    "    molecules_to_edit = random.sample(filtered_object_names, num_molecules)\n",
    "\n",
    "\n",
    "# Loop over each selected molecule\n",
    "for mol_to_edit in molecules_to_edit:\n",
    "    \n",
    "    while True:\n",
    "        \n",
    "        # Get available carbon types\n",
    "        n_types = builder.examine_main(mol_to_edit)\n",
    "\n",
    "        if len(n_types['N_2n'])<1:\n",
    "            break  # Condition met, proceed to modify the molecule\n",
    "        \n",
    "        # Select a new molecule from the list\n",
    "        mol_to_edit = random.choice(filtered_object_names)\n",
    "    \n",
    "    cmd.select(\"nitrogen_not_bonded_to_nitrogen\", f\"({mol_to_edit} and elem C and neighbor (elem H) and not neighbor (elem O))\")\n",
    "\n",
    "    # Get the selection of carbon atoms not bonded to oxygen\n",
    "    selection_dict = cmd.get_model(\"nitrogen_not_bonded_to_nitrogen\")\n",
    "        \n",
    "    n_choices = [atom[\"index\"] for atom in selection_dict[\"atom\"] if atom[\"name\"].startswith(\"C\")]\n",
    "    \n",
    "    while True:\n",
    "        value_n=random.choice(n_types['C_2n'])\n",
    "        if value_n in n_choices:\n",
    "            break\n",
    "\n",
    "    # Attach Ether group to the selected carbon atom\n",
    "    object_pyridin = cmd.alter(f'{mol_to_edit} and index {value_n}', 'elem=\"N\"')\n",
    "    object_pyridin = cmd.alter(f'{mol_to_edit} and index {value_n}', 'text_type=\"N.2\"')\n",
    "    object_pyridin = cmd.alter(f'{mol_to_edit} and index {value_n}', 'name=\"N\"')\n",
    "\n",
    "    # Store the modified pyrridin\n",
    "    modified_pyridin.append(object_pyridin)\n",
    "    h_types = builder.examine_h(mol_to_edit)\n",
    "    h_choice = random.choice(h_types['Aliphatic_N_inRing'])\n",
    "    object_pyridin = cmd.remove(f'{mol_to_edit} and index {h_choice}')\n",
    "\n",
    "    # Store the modified pyrridin\n",
    "    modified_pyridin.append(object_pyridin)"
   ]
  },
  {
   "cell_type": "code",
   "execution_count": 69,
   "id": "aa8cea55",
   "metadata": {},
   "outputs": [
    {
     "name": "stdout",
     "output_type": "stream",
     "text": [
      "Element C: 5322\n",
      "Element H: 2598\n",
      "Element N: 2\n",
      "Element O: 342\n",
      "Element S: 0\n",
      "Element Cl: 0\n",
      "Element Si: 0\n"
     ]
    }
   ],
   "source": [
    "# Count the number of atoms for each element\n",
    "atom_counts = {}\n",
    "elements = [\"C\", \"H\", \"N\", \"O\", \"S\", \"Cl\", \"Si\"]\n",
    "\n",
    "for element in elements:\n",
    "    count = cmd.select(f\"elem {element}\")\n",
    "    atom_counts[element] = count\n",
    "n_total= atom_counts[\"N\"]\n",
    "h_totali= atom_counts[\"H\"]\n",
    "# Print the atom counts\n",
    "for element, count in atom_counts.items():\n",
    "    print(f\"Element {element}: {count}\")"
   ]
  },
  {
   "cell_type": "markdown",
   "id": "41f56d52",
   "metadata": {},
   "source": [
    "#### Check this values: Should be zero\n"
   ]
  },
  {
   "cell_type": "code",
   "execution_count": 70,
   "id": "366689e8",
   "metadata": {},
   "outputs": [
    {
     "name": "stdout",
     "output_type": "stream",
     "text": [
      "0\n"
     ]
    }
   ],
   "source": [
    "check_n=n_total-round(solution[pyridin])\n",
    "print(check_n)"
   ]
  },
  {
   "cell_type": "code",
   "execution_count": 71,
   "id": "9d8984ce",
   "metadata": {},
   "outputs": [
    {
     "data": {
      "text/plain": [
       "0"
      ]
     },
     "execution_count": 71,
     "metadata": {},
     "output_type": "execute_result"
    }
   ],
   "source": [
    "cmd.select(\"nitrogen_bonded_to_oxygen_nitrogen\", \"elem N and neighbor elem O\")"
   ]
  },
  {
   "cell_type": "code",
   "execution_count": 72,
   "id": "11a3c9e7",
   "metadata": {},
   "outputs": [
    {
     "data": {
      "text/plain": [
       "0"
      ]
     },
     "execution_count": 72,
     "metadata": {},
     "output_type": "execute_result"
    }
   ],
   "source": [
    "cmd.select(\"nitrogen_bonded_nitrogen\", \"elem N and neighbor elem N\")"
   ]
  },
  {
   "cell_type": "markdown",
   "id": "c5a29e07",
   "metadata": {},
   "source": [
    "### Include Hydroxyl groups"
   ]
  },
  {
   "cell_type": "code",
   "execution_count": 73,
   "id": "31b10e79",
   "metadata": {},
   "outputs": [],
   "source": [
    "# List of object names (example data)\n",
    "object_names = list(object_masses.keys())\n",
    "\n",
    "# List to store the modified object \n",
    "modified_hydroxyls = []\n",
    "\n",
    "# Number of molecules to modify\n",
    "num_molecules = round(solution[hydroxyl])\n",
    "\n",
    "# Select a specific number of molecules from the list\n",
    "if num_molecules > len(object_names):\n",
    "    molecules_to_edit = random.choices(object_names, k=num_molecules)\n",
    "else:\n",
    "    molecules_to_edit = random.sample(object_names, num_molecules)\n",
    "\n",
    "# Loop over each selected molecule\n",
    "for mol_to_edit in molecules_to_edit:\n",
    "    \n",
    "    # Get available hydrogen types\n",
    "    while True:\n",
    "        \n",
    "        # Get available carbon types\n",
    "        o_types = builder.examine_main(mol_to_edit)\n",
    "\n",
    "        if len(o_types['O_2n'])<2 and len(o_types['O_1n'])==0:\n",
    "            break  # Condition met, proceed to modify the molecule\n",
    "        \n",
    "        mol_to_edit = random.choice(object_names)\n",
    "    \n",
    "    h_types = builder.examine_h(mol_to_edit)\n",
    "    \n",
    "    # Check if the molecule has 'Aliphatic_C_inRing' oxygen type\n",
    "    if len(h_types['Aliphatic_C_inRing']) == 0:\n",
    "        h_choice = random.choice(h_types['Aliphatic_C'])\n",
    "    else: \n",
    "        h_choice = random.choice(h_types['Aliphatic_C_inRing'])\n",
    "\n",
    "        # Attach hydroxyl group\n",
    "        object_hydroxyl = builder.Attach_OH(mol_to_edit, h_choice)\n",
    "    \n",
    "    # Store the modified hydroxyl\n",
    "    modified_hydroxyls.append(object_hydroxyl)"
   ]
  },
  {
   "cell_type": "code",
   "execution_count": 74,
   "id": "395aca98",
   "metadata": {},
   "outputs": [
    {
     "name": "stdout",
     "output_type": "stream",
     "text": [
      "Element C: 5322\n",
      "Element H: 2598\n",
      "Element N: 2\n",
      "Element O: 344\n",
      "Element S: 0\n",
      "Element Cl: 0\n",
      "Element Si: 0\n"
     ]
    }
   ],
   "source": [
    "# Count the number of atoms for each element\n",
    "atom_counts = {}\n",
    "elements = [\"C\", \"H\", \"N\", \"O\", \"S\", \"Cl\", \"Si\"]\n",
    "\n",
    "for element in elements:\n",
    "    count = cmd.select(f\"elem {element}\")\n",
    "    atom_counts[element] = count\n",
    "o_total= atom_counts[\"O\"]\n",
    "c_total= atom_counts[\"C\"]\n",
    "h_total= atom_counts[\"H\"]\n",
    "# Print the atom counts\n",
    "for element, count in atom_counts.items():\n",
    "    print(f\"Element {element}: {count}\")"
   ]
  },
  {
   "cell_type": "markdown",
   "id": "ccc503ee",
   "metadata": {},
   "source": [
    "#### Check this values: Should be zero"
   ]
  },
  {
   "cell_type": "code",
   "execution_count": 75,
   "id": "85e10259",
   "metadata": {},
   "outputs": [
    {
     "name": "stdout",
     "output_type": "stream",
     "text": [
      "0\n",
      "0\n"
     ]
    }
   ],
   "source": [
    "check_ox=o_total-round(solution[eth])-round(solution[hydroxyl])\n",
    "print(check_ox)\n",
    "check_hy=h_totali-h_total\n",
    "print(check_hy)"
   ]
  },
  {
   "cell_type": "markdown",
   "id": "eb75fa3d",
   "metadata": {},
   "source": [
    "### Include Carbonyl groups"
   ]
  },
  {
   "cell_type": "code",
   "execution_count": 76,
   "id": "c394f62d",
   "metadata": {},
   "outputs": [],
   "source": [
    "# List of object names (example data)\n",
    "object_names = list(object_masses.keys())\n",
    "\n",
    "# List to store the modified object\n",
    "modified_carbonyl = []\n",
    "\n",
    "# Number of molecules to modify\n",
    "num_molecules = round(solution[carb])\n",
    "\n",
    "\n",
    "# Exclude object names that start with specific prefixes\n",
    "excluded_prefixes = [\"benzo_a_fluorene\", \"benzo_b_fluorene\",\"benzene\",\"naphthalene\",\"dibenzofuran\",\"phenalene\", \"phenanthrene\",\"anthracene\",\"pyrene\",\"benzo_a_pyrene\",\"perylene\",\"chrysene\",\"benzo_b_fluoranthene\"]\n",
    "filtered_object_names = [name for name in object_names if not any(name.startswith(prefix) for prefix in excluded_prefixes)]\n",
    "\n",
    "# Select a specific number of molecules from the filtered list\n",
    "if num_molecules > len(filtered_object_names):\n",
    "    molecules_to_edit = random.choices(filtered_object_names, k=num_molecules)\n",
    "else:\n",
    "    molecules_to_edit = random.sample(filtered_object_names, num_molecules)\n",
    "\n",
    "# Loop over each selected molecule\n",
    "for mol_to_edit in molecules_to_edit:\n",
    "    while True:\n",
    "\n",
    "        # Get available carbon types\n",
    "        o_types = builder.examine_main(mol_to_edit)\n",
    "        cmd.select(\"hydro_not_bonded_to_CO\", f\"({mol_to_edit} and elem H and neighbor (elem C) and (not neighbor (elem O)))\")\n",
    "            \n",
    "        # Get the selection of carbon atoms not bonded to oxygen\n",
    "        selection_dict = cmd.get_model(\"hydro_not_bonded_to_CO\")\n",
    "        h_choices = [atom[\"index\"] for atom in selection_dict[\"atom\"] if atom[\"name\"].startswith(\"H\")]\n",
    "        \n",
    "        if len(h_choices)>3 and len(o_types['O_2n'])<round(O_C*40) and len(o_types['O_1n'])<round(O_C*40):\n",
    "            break  # Condition met, proceed to modify the molecule\n",
    "            \n",
    "        # Select a new molecule from the list\n",
    "        mol_to_edit = random.choice(object_names)\n",
    "\n",
    "    h_types = builder.examine_h(mol_to_edit) \n",
    "\n",
    "    while True:\n",
    "        if len(h_types['Aliphatic_C_inRing'])==0:\n",
    "            h_choice = random.choice(h_types['Aliphatic_C'])\n",
    "        else:\n",
    "            h_choice = random.choice(h_types['Aliphatic_C_inRing'])\n",
    "        if h_choice in h_choices:\n",
    "            break\n",
    "\n",
    "    # Attach carbonyl group\n",
    "    object_carbonyl = builder.Attach_Carbonyl(mol_to_edit, h_choice)\n",
    "\n",
    "    # Store the modified carbonyl\n",
    "    modified_carbonyl.append(object_carbonyl)"
   ]
  },
  {
   "cell_type": "code",
   "execution_count": 77,
   "id": "0b317e28",
   "metadata": {},
   "outputs": [
    {
     "name": "stdout",
     "output_type": "stream",
     "text": [
      "Element C: 5451\n",
      "Element H: 2598\n",
      "Element N: 2\n",
      "Element O: 473\n",
      "Element S: 0\n",
      "Element Cl: 0\n",
      "Element Si: 0\n"
     ]
    }
   ],
   "source": [
    "# Count the number of atoms for each element\n",
    "atom_counts = {}\n",
    "elements = [\"C\", \"H\", \"N\", \"O\", \"S\", \"Cl\", \"Si\"]\n",
    "\n",
    "for element in elements:\n",
    "    count = cmd.select(f\"elem {element}\")\n",
    "    atom_counts[element] = count\n",
    "o_total_new= atom_counts[\"O\"]\n",
    "c_total_new= atom_counts[\"C\"]\n",
    "# Print the atom counts\n",
    "for element, count in atom_counts.items():\n",
    "    print(f\"Element {element}: {count}\")"
   ]
  },
  {
   "cell_type": "markdown",
   "id": "9f614072",
   "metadata": {},
   "source": [
    "#### Check this values: Should be zero"
   ]
  },
  {
   "cell_type": "code",
   "execution_count": 78,
   "id": "74b3cb9c",
   "metadata": {},
   "outputs": [
    {
     "name": "stdout",
     "output_type": "stream",
     "text": [
      "0\n",
      "0\n"
     ]
    }
   ],
   "source": [
    "check_c=c_total_new-(c_total+round(solution[carb]))\n",
    "print(check_c)\n",
    "check_o=o_total_new-(o_total+round(solution[carb]))\n",
    "print(check_o)"
   ]
  },
  {
   "cell_type": "markdown",
   "id": "fa537269",
   "metadata": {},
   "source": [
    "### Include Carboxyl groups"
   ]
  },
  {
   "cell_type": "code",
   "execution_count": 79,
   "id": "c2c10839",
   "metadata": {},
   "outputs": [],
   "source": [
    "# List of object names (example data)\n",
    "object_names = list(object_masses.keys())\n",
    "\n",
    "# List to store the modified object \n",
    "modified_carboxyl = []\n",
    "\n",
    "# Number of molecules to modify\n",
    "num_molecules = round(solution[carbox])\n",
    "\n",
    "# Exclude object names that start with specific prefixes\n",
    "excluded_prefixes = [\"dibenzofuran\",\"benzo_a_fluorene\", \"benzo_b_fluorene\",\"benzene\",\"naphthalene\",\"dibenzofuran\",\"phenalene\", \"phenanthrene\",\"anthracene\",\"pyrene\",\"benzo_g_h_i_perylene\",\"benzo_a_pyrene\",\"perylene\",\"chrysene\",\"benzo_b_fluoranthene\"]\n",
    "filtered_object_names = [name for name in object_names if not any(name.startswith(prefix) for prefix in excluded_prefixes)]\n",
    "\n",
    "# Select a specific number of molecules from the filtered list\n",
    "if num_molecules > len(filtered_object_names):\n",
    "    molecules_to_edit = random.choices(filtered_object_names, k=num_molecules)\n",
    "else:\n",
    "    molecules_to_edit = random.sample(filtered_object_names, num_molecules)\n",
    "\n",
    "\n",
    "# Loop over each selected molecule\n",
    "for mol_to_edit in molecules_to_edit:\n",
    "    while True:\n",
    "            \n",
    "        # Get available carbon types\n",
    "        o_types = builder.examine_main(mol_to_edit)\n",
    "        cmd.select(\"hydro_not_bonded_to_CO\", f\"({mol_to_edit} and elem H and neighbor (elem C) and (not neighbor (elem O)))\")\n",
    "\n",
    "        # Get the selection of carbon atoms not bonded to oxygen\n",
    "        selection_dict = cmd.get_model(\"hydro_not_bonded_to_CO\")\n",
    "        h_choices = [atom[\"index\"] for atom in selection_dict[\"atom\"] if atom[\"name\"].startswith(\"H\")]\n",
    "\n",
    "        if len(h_choices)>3 and len(o_types['O_2n'])<round(O_C*55) and len(o_types['O_1n'])<round(O_C*55):\n",
    "            break  # Condition met, proceed to modify the molecule\n",
    "        \n",
    "        # Select a new molecule from the list\n",
    "        mol_to_edit = random.choice(object_names)\n",
    "\n",
    "    h_types = builder.examine_h(mol_to_edit)\n",
    "\n",
    "    while True:\n",
    "        if len(h_types['Aliphatic_C_inRing']) == 0:\n",
    "            h_choice = random.choice(h_types['Aliphatic_C'])\n",
    "        else:\n",
    "            h_choice = random.choice(h_types['Aliphatic_C_inRing'])\n",
    "        if h_choice in h_choices:\n",
    "            break\n",
    "\n",
    "    # Attach carboxyl group\n",
    "    object_carboxyl = builder.Attach_Carboxyl(mol_to_edit, h_choice)\n",
    "\n",
    "    # Store the modified carboxyl\n",
    "    modified_carboxyl.append(object_carboxyl)"
   ]
  },
  {
   "cell_type": "code",
   "execution_count": 80,
   "id": "799d7c6c",
   "metadata": {},
   "outputs": [
    {
     "name": "stdout",
     "output_type": "stream",
     "text": [
      "Element C: 5634\n",
      "Element H: 2598\n",
      "Element N: 2\n",
      "Element O: 839\n",
      "Element S: 0\n",
      "Element Cl: 0\n",
      "Element Si: 0\n"
     ]
    }
   ],
   "source": [
    "# Count the number of atoms for each element\n",
    "atom_counts = {}\n",
    "elements = [\"C\", \"H\", \"N\", \"O\", \"S\", \"Cl\", \"Si\"]\n",
    "\n",
    "for element in elements:\n",
    "    count = cmd.select(f\"elem {element}\")\n",
    "    atom_counts[element] = count\n",
    "o_total_new2= atom_counts[\"O\"]\n",
    "c_total_new2= atom_counts[\"C\"]\n",
    "h_total_new2= atom_counts[\"H\"]\n",
    "# Print the atom counts\n",
    "for element, count in atom_counts.items():\n",
    "    print(f\"Element {element}: {count}\")"
   ]
  },
  {
   "cell_type": "markdown",
   "id": "0d52851d",
   "metadata": {},
   "source": [
    "#### Check this values: Should be zero"
   ]
  },
  {
   "cell_type": "code",
   "execution_count": 81,
   "id": "692e940e",
   "metadata": {},
   "outputs": [
    {
     "name": "stdout",
     "output_type": "stream",
     "text": [
      "0\n",
      "0\n"
     ]
    }
   ],
   "source": [
    "check_c=c_total_new2-(c_total_new+round(solution[carbox]))\n",
    "print(check_c)\n",
    "check_o=o_total_new2-(o_total_new+round(solution[carbox])*2)\n",
    "print(check_o)"
   ]
  },
  {
   "cell_type": "markdown",
   "id": "a6da003d",
   "metadata": {},
   "source": [
    "### Include Methyl groups"
   ]
  },
  {
   "cell_type": "code",
   "execution_count": 82,
   "id": "a30f0c81",
   "metadata": {},
   "outputs": [],
   "source": [
    "# List of object names (example data)\n",
    "object_names = list(object_masses.keys())\n",
    "\n",
    "# List to store the modified object\n",
    "modified_methyl = []\n",
    "\n",
    "# Number of molecules to modify\n",
    "num_molecules = round(solution[methyl])\n",
    "\n",
    "# Select a specific number of molecules from the list\n",
    "if num_molecules > len(object_names):\n",
    "    molecules_to_edit = random.choices(object_names, k=num_molecules)\n",
    "else:\n",
    "    molecules_to_edit = random.sample(object_names, num_molecules)\n",
    "\n",
    "# Loop over each selected molecule\n",
    "for mol_to_edit in molecules_to_edit:\n",
    "    while True:  \n",
    "\n",
    "        # Get available hydrogen types\n",
    "        cmd.select(\"hydro_not_bonded_to_CO\", f\"({mol_to_edit} and elem H and neighbor (elem C) and (not neighbor (elem O)))\")\n",
    "\n",
    "        # Get the selection of carbon atoms not bonded to oxygen\n",
    "        selection_dict = cmd.get_model(\"hydro_not_bonded_to_CO\")\n",
    "        h_choices = [atom[\"index\"] for atom in selection_dict[\"atom\"] if atom[\"name\"].startswith(\"H\")]\n",
    "\n",
    "        if len(h_choices)>3:\n",
    "            break  # Condition met, proceed to modify the molecule\n",
    "        \n",
    "        # Select a new molecule from the list\n",
    "        mol_to_edit = random.choice(object_names)\n",
    "\n",
    "    h_types = builder.examine_h(mol_to_edit)\n",
    "\n",
    "    while True:\n",
    "        if len(h_types['Aliphatic_C_inRing'])==0:\n",
    "            h_choice = random.choice(h_types['Aliphatic_C'])\n",
    "        else:\n",
    "            h_choice = random.choice(h_types['Aliphatic_C_inRing'])\n",
    "        if h_choice in h_choices:\n",
    "            break\n",
    "\n",
    "    # Attach Methyl group \n",
    "    object_methyl = builder.Attach_CH3(mol_to_edit, h_choice)\n",
    "\n",
    "    # Store the modified methyl\n",
    "    modified_methyl.append(object_methyl)"
   ]
  },
  {
   "cell_type": "code",
   "execution_count": 83,
   "id": "f5956e45",
   "metadata": {},
   "outputs": [
    {
     "name": "stdout",
     "output_type": "stream",
     "text": [
      "Element C: 5700\n",
      "Element H: 2730\n",
      "Element N: 2\n",
      "Element O: 839\n",
      "Element S: 0\n",
      "Element Cl: 0\n",
      "Element Si: 0\n"
     ]
    }
   ],
   "source": [
    "# Count the number of atoms for each element\n",
    "atom_counts = {}\n",
    "elements = [\"C\", \"H\", \"N\", \"O\", \"S\", \"Cl\", \"Si\"]\n",
    "\n",
    "for element in elements:\n",
    "    count = cmd.select(f\"elem {element}\")\n",
    "    atom_counts[element] = count\n",
    "c_total_new= atom_counts[\"C\"]\n",
    "h_total_new= atom_counts[\"H\"]\n",
    "# Print the atom counts\n",
    "for element, count in atom_counts.items():\n",
    "    print(f\"Element {element}: {count}\")"
   ]
  },
  {
   "cell_type": "markdown",
   "id": "6450594b",
   "metadata": {},
   "source": [
    "#### Check this values: Should be zero"
   ]
  },
  {
   "cell_type": "code",
   "execution_count": 84,
   "id": "394643a5",
   "metadata": {},
   "outputs": [
    {
     "name": "stdout",
     "output_type": "stream",
     "text": [
      "0\n",
      "0\n"
     ]
    }
   ],
   "source": [
    "check_c=c_total_new-(c_total_new2+round(solution[methyl]))\n",
    "print(check_c)\n",
    "check_hy=h_total_new-(h_total_new2+round(solution[methyl])*2)\n",
    "print(check_hy)"
   ]
  },
  {
   "cell_type": "markdown",
   "id": "da27879a",
   "metadata": {},
   "source": [
    "### Include Aliphatic Chain groups"
   ]
  },
  {
   "cell_type": "code",
   "execution_count": 85,
   "id": "8bd27580",
   "metadata": {},
   "outputs": [],
   "source": [
    "# List of object names (example data)\n",
    "object_names = list(object_masses.keys())\n",
    "\n",
    "# List to store the modified object\n",
    "modified_ali_chain = []\n",
    "\n",
    "# Number of molecules to modify\n",
    "num_molecules = round(solution[ali_chain])\n",
    "\n",
    "# Select a specific number of molecules from the filtered list\n",
    "if num_molecules > len(object_names):\n",
    "    molecules_to_edit = random.choices(object_names, k=num_molecules)\n",
    "else:\n",
    "    molecules_to_edit = random.sample(object_names, num_molecules)\n",
    "\n",
    "# Loop over each selected molecule\n",
    "for mol_to_edit in molecules_to_edit:     \n",
    "    while True:\n",
    "\n",
    "        # Get available hydrogen types\n",
    "        cmd.select(\"hydro_not_bonded_to_CO\", f\"({mol_to_edit} and elem H and neighbor (elem C) and (not neighbor (elem O)))\")\n",
    "\n",
    "        # Get the selection of carbon atoms not bonded to oxygen\n",
    "        selection_dict = cmd.get_model(\"hydro_not_bonded_to_CO\")\n",
    "        h_choices = [atom[\"index\"] for atom in selection_dict[\"atom\"] if atom[\"name\"].startswith(\"H\")]\n",
    "\n",
    "        if len(h_choices)>8:\n",
    "            break  # Condition met, proceed to modify the molecule\n",
    "        \n",
    "        # Select a new molecule from the list\n",
    "        mol_to_edit = random.choice(object_names)\n",
    "        \n",
    "    h_types = builder.examine_h(mol_to_edit)\n",
    "\n",
    "    while True:\n",
    "        if len(h_types['Aliphatic_C_inRing'])==0:\n",
    "            h_choice = random.choice(h_types['Aliphatic_C'])\n",
    "        else:\n",
    "            h_choice = random.choice(h_types['Aliphatic_C_inRing'])\n",
    "        if h_choice in h_choices:\n",
    "            break\n",
    "\n",
    "    # Attach Aliphatic chain group           \n",
    "    object_ali_chain = builder.Attach_CH2CH3(mol_to_edit, h_choice)\n",
    "\n",
    "    # Store the modified ali chain\n",
    "    modified_ali_chain.append(object_ali_chain)"
   ]
  },
  {
   "cell_type": "code",
   "execution_count": 86,
   "id": "3633eea1",
   "metadata": {},
   "outputs": [
    {
     "name": "stdout",
     "output_type": "stream",
     "text": [
      "Element C: 5966\n",
      "Element H: 3262\n",
      "Element N: 2\n",
      "Element O: 839\n",
      "Element S: 0\n",
      "Element Cl: 0\n",
      "Element Si: 0\n"
     ]
    }
   ],
   "source": [
    "# Count the number of atoms for each element\n",
    "atom_counts = {}\n",
    "elements = [\"C\", \"H\", \"N\", \"O\", \"S\", \"Cl\", \"Si\"]\n",
    "\n",
    "for element in elements:\n",
    "    count = cmd.select(f\"elem {element}\")\n",
    "    atom_counts[element] = count\n",
    "c_total= atom_counts[\"C\"]\n",
    "h_total= atom_counts[\"H\"]\n",
    "# Print the atom counts\n",
    "for element, count in atom_counts.items():\n",
    "    print(f\"Element {element}: {count}\")"
   ]
  },
  {
   "cell_type": "markdown",
   "id": "3481f1c7",
   "metadata": {},
   "source": [
    "#### Check this values: Should be zero"
   ]
  },
  {
   "cell_type": "code",
   "execution_count": 87,
   "id": "3aca1f11",
   "metadata": {},
   "outputs": [
    {
     "name": "stdout",
     "output_type": "stream",
     "text": [
      "0\n",
      "0\n"
     ]
    }
   ],
   "source": [
    "check_c=c_total-(c_total_new+round(solution[ali_chain])*2)\n",
    "print(check_c)\n",
    "check_hy=h_total-(h_total_new+round(solution[ali_chain])*4)\n",
    "print(check_hy)"
   ]
  },
  {
   "cell_type": "markdown",
   "id": "e5e4be40",
   "metadata": {},
   "source": [
    "### Include NH3 groups"
   ]
  },
  {
   "cell_type": "code",
   "execution_count": 88,
   "id": "bc2ec6ac",
   "metadata": {},
   "outputs": [],
   "source": [
    "# List of object names (example data)\n",
    "object_names = list(object_masses.keys())\n",
    "\n",
    "# List to store the modified object\n",
    "modified_Aniline = []\n",
    "\n",
    "# Number of molecules to modify\n",
    "num_molecules = round(solution[aniline])\n",
    "\n",
    "# Select a specific number of molecules from the list\n",
    "if num_molecules > len(object_names):\n",
    "    molecules_to_edit = random.choices(object_names, k=num_molecules)\n",
    "else:\n",
    "    molecules_to_edit = random.sample(object_names, num_molecules)\n",
    "\n",
    "# Loop over each selected molecule\n",
    "for mol_to_edit in molecules_to_edit:           \n",
    "    while True:\n",
    "\n",
    "        # Get available carbon types\n",
    "        n_types = builder.examine_main(mol_to_edit)\n",
    "        cmd.select(\"hydro_not_bonded_to_CO\", f\"({mol_to_edit} and elem H and neighbor (elem C) and (not neighbor (elem O)))\")\n",
    "\n",
    "        # Get the selection of carbon atoms not bonded to oxygen\n",
    "        selection_dict = cmd.get_model(\"hydro_not_bonded_to_CO\")\n",
    "        h_choices = [atom[\"index\"] for atom in selection_dict[\"atom\"] if atom[\"name\"].startswith(\"H\")]\n",
    "\n",
    "        if len(n_types['N_2n'])==0 and len(h_choices)>7 and len(n_types['N_3n']) == 0 and len(n_types['N_1n']) == 0:\n",
    "            break  # Condition met, proceed to modify the molecule\n",
    "        \n",
    "        # Select a new molecule from the list\n",
    "        mol_to_edit = random.choice(object_names)\n",
    "\n",
    "    h_types = builder.examine_h(mol_to_edit)\n",
    "\n",
    "    while True:\n",
    "        if len(h_types['Aliphatic_C_inRing'])==0:\n",
    "            h_choice = random.choice(h_types['Aliphatic_C'])\n",
    "        else:\n",
    "            h_choice = random.choice(h_types['Aliphatic_C_inRing'])\n",
    "        if h_choice in h_choices:\n",
    "            break\n",
    "\n",
    "    # Attach aniline group\n",
    "    object_Aniline = builder.Attach_Aniline(mol_to_edit, h_choice)\n",
    "\n",
    "    # Store the modified aniline\n",
    "    modified_Aniline.append(object_Aniline)"
   ]
  },
  {
   "cell_type": "code",
   "execution_count": 89,
   "id": "3b05d4b3",
   "metadata": {},
   "outputs": [
    {
     "name": "stdout",
     "output_type": "stream",
     "text": [
      "Element C: 5966\n",
      "Element H: 3265\n",
      "Element N: 5\n",
      "Element O: 839\n",
      "Element S: 0\n",
      "Element Cl: 0\n",
      "Element Si: 0\n"
     ]
    }
   ],
   "source": [
    "# Count the number of atoms for each element\n",
    "atom_counts = {}\n",
    "elements = [\"C\", \"H\", \"N\", \"O\", \"S\", \"Cl\", \"Si\"]\n",
    "\n",
    "for element in elements:\n",
    "    count = cmd.select(f\"elem {element}\")\n",
    "    atom_counts[element] = count\n",
    "n_total= atom_counts[\"N\"]\n",
    "h_total_new= atom_counts[\"H\"]\n",
    "\n",
    "# Print the atom counts\n",
    "for element, count in atom_counts.items():\n",
    "    print(f\"Element {element}: {count}\")"
   ]
  },
  {
   "cell_type": "markdown",
   "id": "685fba3f",
   "metadata": {},
   "source": [
    "#### Check this values: Should be zero"
   ]
  },
  {
   "cell_type": "code",
   "execution_count": 90,
   "id": "8c0ef82b",
   "metadata": {},
   "outputs": [
    {
     "name": "stdout",
     "output_type": "stream",
     "text": [
      "1\n",
      "0\n"
     ]
    }
   ],
   "source": [
    "check_n=n_total-(round(solution[aniline])+math.floor(solution[pyridin]))\n",
    "print(check_n)\n",
    "check_h=h_total_new-(h_total+round(solution[aniline]))\n",
    "print(check_h)"
   ]
  },
  {
   "cell_type": "markdown",
   "id": "4f23854d",
   "metadata": {},
   "source": [
    "### Include Thiol groups"
   ]
  },
  {
   "cell_type": "code",
   "execution_count": 91,
   "id": "952fa83a",
   "metadata": {},
   "outputs": [],
   "source": [
    "# List of object names (example data)\n",
    "object_names = list(object_masses.keys())\n",
    "\n",
    "# List to store the modified object \n",
    "modified_thiol = []\n",
    "\n",
    "# Number of molecules to modify\n",
    "num_molecules = round(solution[thiol])\n",
    "\n",
    "# Select a specific number of molecules from the list\n",
    "if num_molecules > len(object_names):\n",
    "    molecules_to_edit = random.choices(object_names, k=num_molecules)\n",
    "else:\n",
    "    molecules_to_edit = random.sample(object_names, num_molecules)\n",
    "\n",
    "# Loop over each selected molecule\n",
    "for mol_to_edit in molecules_to_edit:\n",
    "    # Get available hydrogen types\n",
    "    h_types = builder.examine_h(mol_to_edit)\n",
    "    \n",
    "    # Check if the molecule has 'Aliphatic_C_inRing' oxygen type\n",
    "    if len(h_types['Aliphatic_C_inRing']) == 0:\n",
    "        h_choice = random.choice(h_types['Aliphatic_C'])\n",
    "    else: \n",
    "        h_choice = random.choice(h_types['Aliphatic_C_inRing'])\n",
    "\n",
    "        # Attach thiol group\n",
    "        object_thiol  = builder.Attach_SH(mol_to_edit, h_choice)\n",
    "    \n",
    "    # Store the modified thiol\n",
    "    modified_thiol.append(object_thiol)"
   ]
  },
  {
   "cell_type": "markdown",
   "id": "cc9e94a4",
   "metadata": {},
   "source": [
    "### Include quaternary nitrogen"
   ]
  },
  {
   "cell_type": "code",
   "execution_count": 92,
   "id": "b0fda68a",
   "metadata": {},
   "outputs": [],
   "source": [
    "#List of object names (example data)\n",
    "object_names = list(object_masses.keys())\n",
    "\n",
    "# List to store the modified object \n",
    "modified_quater = []\n",
    "\n",
    "# Number of molecules to modify\n",
    "num_molecules = math.ceil(solution[quaternaryN])\n",
    "\n",
    "excluded_prefixes = [\"circumcoronene\",\"circumpyrene\"]\n",
    "filtered_object_names = [name for name in object_names if any(name.startswith(prefix) for prefix in excluded_prefixes)]\n",
    "\n",
    "# Select a specific number of molecules from the filtered list\n",
    "if num_molecules > len(filtered_object_names):\n",
    "    molecules_to_edit = random.choices(filtered_object_names, k=num_molecules)\n",
    "else:\n",
    "    molecules_to_edit = random.sample(filtered_object_names, num_molecules)\n",
    "\n",
    "    # Loop over each selected molecule\n",
    "for mol_to_edit in molecules_to_edit:\n",
    "    \n",
    "    while True:\n",
    "        # Get available carbon types\n",
    "        n_types = builder.examine_main(mol_to_edit)\n",
    "\n",
    "        if len(n_types['N_2n']) == 0 and len(n_types['N_3n']) == 0 and len(n_types['N_1n']) == 0:\n",
    "            break  # Condition met, proceed to modify the molecule\n",
    "        \n",
    "        # Select a new molecule from the list\n",
    "        mol_to_edit = random.choice(filtered_object_names)\n",
    "            \n",
    "    cmd.select(\"nitrogen_not_bonded_to_nitrogen\", f\"({mol_to_edit} and elem C and not neighbor (elem O))\")\n",
    "\n",
    "    # Get the selection of carbon atoms not bonded to oxygen\n",
    "    selection_dict = cmd.get_model(\"nitrogen_not_bonded_to_nitrogen\")\n",
    "        \n",
    "    n_choices = [atom[\"index\"] for atom in selection_dict[\"atom\"] if atom[\"name\"].startswith(\"C\")]\n",
    "    \n",
    "    while True:\n",
    "        value_n=random.choice(n_types['C_3n'])\n",
    "        if value_n in n_choices:\n",
    "            break\n",
    "    \n",
    "    #value_n=random.choice(n_types['C_3n'])\n",
    "    \n",
    "    # Attach Ether group to the selected carbon atom\n",
    "    object_quater = cmd.alter(f'{mol_to_edit} and index {value_n}', 'elem=\"N\"')\n",
    "    object_quater = cmd.alter(f'{mol_to_edit} and index {value_n}', 'text_type=\"NN\"')\n",
    "    object_quater = cmd.alter(f'{mol_to_edit} and index {value_n}', 'name=\"N\"')\n",
    "    \n",
    "    modified_quater.append(object_quater)\n",
    "    h_types = builder.examine_h(mol_to_edit)"
   ]
  },
  {
   "cell_type": "code",
   "execution_count": 93,
   "id": "e75b14f0",
   "metadata": {},
   "outputs": [
    {
     "name": "stdout",
     "output_type": "stream",
     "text": [
      "Element C: 5964\n",
      "Element H: 3265\n",
      "Element N: 7\n",
      "Element O: 839\n",
      "Element S: 0\n",
      "Element Cl: 0\n",
      "Element Si: 0\n"
     ]
    }
   ],
   "source": [
    "# Count the number of atoms for each element\n",
    "atom_counts = {}\n",
    "elements = [\"C\", \"H\", \"N\", \"O\", \"S\", \"Cl\", \"Si\"]\n",
    "\n",
    "for element in elements:\n",
    "    count = cmd.select(f\"elem {element}\")\n",
    "    atom_counts[element] = count\n",
    "n_total_neww= atom_counts[\"N\"]\n",
    "c_total_neww= atom_counts[\"C\"]\n",
    "# Print the atom counts\n",
    "for element, count in atom_counts.items():\n",
    "    print(f\"Element {element}: {count}\")"
   ]
  },
  {
   "cell_type": "markdown",
   "id": "df0bdeda",
   "metadata": {},
   "source": [
    "#### Check this values: Should be zero\n"
   ]
  },
  {
   "cell_type": "code",
   "execution_count": 94,
   "id": "f8766532",
   "metadata": {},
   "outputs": [
    {
     "name": "stdout",
     "output_type": "stream",
     "text": [
      "0\n",
      "0\n"
     ]
    }
   ],
   "source": [
    "check_cc=c_total-(c_total_neww+math.ceil(solution[quaternaryN]))\n",
    "print(check_cc)\n",
    "check_n=n_total_neww-(n_total+math.ceil(solution[quaternaryN]))\n",
    "print(check_n)"
   ]
  },
  {
   "cell_type": "code",
   "execution_count": 95,
   "id": "3e7ddbe1",
   "metadata": {},
   "outputs": [],
   "source": [
    "cmd.do('clean %s' % object_names)"
   ]
  },
  {
   "cell_type": "code",
   "execution_count": 96,
   "id": "db86e57d",
   "metadata": {},
   "outputs": [],
   "source": [
    "builder.clear_label()"
   ]
  },
  {
   "cell_type": "markdown",
   "id": "f4f8f724",
   "metadata": {},
   "source": [
    "## Step 4: add Cross-linking to fix H/C ratio"
   ]
  },
  {
   "cell_type": "code",
   "execution_count": 97,
   "id": "99b5ba3a",
   "metadata": {},
   "outputs": [
    {
     "name": "stdout",
     "output_type": "stream",
     "text": [
      "Element C: 5964\n",
      "Element H: 3265\n",
      "Element N: 7\n",
      "Element O: 839\n",
      "Element S: 0\n",
      "Element Cl: 0\n",
      "Element Si: 0\n"
     ]
    }
   ],
   "source": [
    "# Count the number of atoms for each element\n",
    "atom_counts = {}\n",
    "elements = [\"C\", \"H\", \"N\", \"O\", \"S\", \"Cl\", \"Si\"]\n",
    "\n",
    "for element in elements:\n",
    "    count = cmd.select(f\"elem {element}\")\n",
    "    atom_counts[element] = count\n",
    "FinalN= atom_counts[\"N\"]\n",
    "FinalC1= atom_counts[\"C\"]\n",
    "FinalO= atom_counts[\"O\"]\n",
    "FinalH= atom_counts[\"H\"]\n",
    "# Print the atom counts\n",
    "for element, count in atom_counts.items():\n",
    "    print(f\"Element {element}: {count}\")"
   ]
  },
  {
   "cell_type": "markdown",
   "id": "f7d7efdf",
   "metadata": {},
   "source": [
    "### Check againg cross-links by fixing H/C ratio"
   ]
  },
  {
   "cell_type": "code",
   "execution_count": 98,
   "id": "dfcaf024",
   "metadata": {},
   "outputs": [
    {
     "name": "stdout",
     "output_type": "stream",
     "text": [
      "Best i value: 3054\n",
      "Minimum Err_H_C: 0.014\n"
     ]
    }
   ],
   "source": [
    "def calculate_Err_H_C(i):\n",
    "    mw = FinalC1* 12.011 + i * 1.00784 + FinalN* 14.0067 + FinalO * 15.999\n",
    "    CarbonMoles = (FinalC1 * 12.011)/mw\n",
    "    HydrogenMoles = (i * 1.00784)/mw\n",
    "    H_C_mod = (HydrogenMoles * 12.011) / (CarbonMoles * 1.00784)\n",
    "    Err_H_C = (abs(H_C_mod - H_C) / H_C) * 100\n",
    "    return Err_H_C\n",
    "\n",
    "# Iterate over possible values of i and find the minimum Err_H_C\n",
    "min_error = np.inf\n",
    "best_i = None\n",
    "for i in range(6000):  # Adjust the range as needed based on how many carbons do you have in the simulation\n",
    "    error = calculate_Err_H_C(i)\n",
    "    if error < min_error:\n",
    "        min_error = error\n",
    "        best_i = i\n",
    "\n",
    "print(\"Best i value:\", best_i)\n",
    "print(\"Minimum Err_H_C:\", round(min_error,3))"
   ]
  },
  {
   "cell_type": "markdown",
   "id": "afe76825",
   "metadata": {},
   "source": [
    "#### The number of cross-links needs to be an even number"
   ]
  },
  {
   "cell_type": "code",
   "execution_count": 99,
   "id": "244fcd50",
   "metadata": {},
   "outputs": [],
   "source": [
    "def round_to_lowest_even(number):\n",
    "    divided_number = number / 2\n",
    "    rounded_number = math.floor(divided_number)\n",
    "    lowest_even_number = rounded_number * 2\n",
    "    return lowest_even_number"
   ]
  },
  {
   "cell_type": "code",
   "execution_count": 100,
   "id": "31208f6c",
   "metadata": {},
   "outputs": [
    {
     "name": "stdout",
     "output_type": "stream",
     "text": [
      "Hydrogen to be removed: 210\n",
      "Cross-links needed: 104\n"
     ]
    }
   ],
   "source": [
    "Hydrogen_to_remove=round_to_lowest_even(FinalH-best_i)\n",
    "print(\"Hydrogen to be removed:\",Hydrogen_to_remove)\n",
    "crosslinks=round_to_lowest_even(Hydrogen_to_remove/2)\n",
    "print(\"Cross-links needed:\",crosslinks)\n",
    "newhydro=FinalH-Hydrogen_to_remove\n",
    "newMW=FinalC1* 12.011 + newhydro * 1.00784 + FinalN* 14.0067 + FinalO * 15.999"
   ]
  },
  {
   "cell_type": "code",
   "execution_count": 101,
   "id": "1e8f1f6a",
   "metadata": {},
   "outputs": [
    {
     "name": "stdout",
     "output_type": "stream",
     "text": [
      "H/C ratio: 0.512\n",
      "Bridgehead Carbon: 0.488\n"
     ]
    }
   ],
   "source": [
    "HydrogenMoles = (newhydro * 1.00784) / newMW\n",
    "CarbonMoles = (FinalC1 * 12.011) / newMW\n",
    "H_C_mod = (HydrogenMoles * 12.011) / (CarbonMoles * 1.00784)\n",
    "print(\"H/C ratio:\",round(H_C_mod,3))\n",
    "Bridgehead_mod =1- (HydrogenMoles * 12.011) / (CarbonMoles * 1.00784)\n",
    "print(\"Bridgehead Carbon:\",round(Bridgehead_mod,3))"
   ]
  },
  {
   "cell_type": "markdown",
   "id": "4e627100",
   "metadata": {},
   "source": [
    "### If the number of hydrogen to be removed is larger than the number of molecules, divide this step in 4:"
   ]
  },
  {
   "cell_type": "code",
   "execution_count": 102,
   "id": "6b01eca5",
   "metadata": {},
   "outputs": [
    {
     "name": "stdout",
     "output_type": "stream",
     "text": [
      "Number of objects: 127\n"
     ]
    }
   ],
   "source": [
    "# Print the count\n",
    "print(\"Number of objects:\", num_objects)"
   ]
  },
  {
   "cell_type": "code",
   "execution_count": 103,
   "id": "a86f96c3",
   "metadata": {},
   "outputs": [],
   "source": [
    "# Obtain molecules names\n",
    "object_masses= builder.Get_Object_Masses()\n",
    "object_names_new = list(object_masses.keys())\n",
    "# Check if object_names is empty\n",
    "while not object_names_new:\n",
    "    object_masses = builder.Get_Object_Masses()\n",
    "    object_names_new = list(object_masses.keys())"
   ]
  },
  {
   "cell_type": "markdown",
   "id": "26b64fc6",
   "metadata": {},
   "source": [
    "### Step one: 50% of the total cross-links"
   ]
  },
  {
   "cell_type": "code",
   "execution_count": 104,
   "id": "b779591d",
   "metadata": {
    "scrolled": true
   },
   "outputs": [
    {
     "name": "stdout",
     "output_type": "stream",
     "text": [
      "['pentatriacotaene18', 'circumpyrene26', 'circumpyrene61', 'circumpyrene20', 'circumpyrene25', 'pentatriacotaene6', 'chrysene1', 'circumpyrene32', 'circumpyrene21', 'circumpyrene35', 'circumpyrene9', 'c841', 'circumpyrene46', 'circumpyrene39', 'benzo_b_fluoranthene1', 'benzo_a_pyrene1', 'coronene8', 'anthracene1', 'coronene10', 'circumpyrene44', 'coronene14', 'circumpyrene38', 'pentatriacotaene2', 'circumpyrene47', 'circumpyrene52', 'pentatriacotaene10', 'coronene3', 'circumpyrene36', 'coronene20', 'benzo_a_fluorene1', 'pentatriacotaene11', 'phenanthrene1', 'pentatriacotaene4', 'circumpyrene6', 'pentatriacotaene17', 'circumpyrene23', 'circumpyrene15', 'circumpyrene7', 'coronene18', 'circumpyrene16', 'circumpyrene30', 'circumpyrene41', 'coronene19', 'coronene1', 'pentatriacotaene15', 'naphthalene1', 'circumpyrene13', 'circumpyrene60', 'pentatriacotaene9', 'circumpyrene54', 'coronene16', 'pentatriacotaene14', 'coronene7', 'circumpyrene4', 'circumpyrene50', 'coronene13', 'circumpyrene56', 'circumpyrene33', 'circumpyrene24', 'circumpyrene14', 'circumpyrene51', 'circumpyrene58', 'circumovalene1', 'phenalene1', 'pentatriacotaene5', 'circumpyrene31', 'pentatriacotaene12', 'circumpyrene12', 'pentatriacotaene7', 'coronene6', 'circumpyrene57', 'circumpyrene37', 'circumpyrene19', 'circumpyrene1', 'circumcircumpyrene1', 'dibenzofuran1', 'coronene21', 'circumpyrene22', 'circumpyrene59', 'circumpyrene5', 'perylene2', 'pentatriacotaene1', 'circumpyrene10', 'circumpyrene43', 'pentatriacotaene19', 'pentatriacotaene8', 'circumpyrene2', 'circumpyrene45', 'circumpyrene49', 'circumpyrene29', 'circumpyrene27', 'benzo_g_h_i_perylene1', 'coronene11', 'circumpyrene8', 'circumpyrene55', 'pentatriacotaene3', 'circumpyrene3', 'circumpyrene17', 'circumpyrene53', 'circumpyrene40', 'coronene9', 'pentatriacotaene13', 'coronene12', 'circumpyrene11']\n",
      "104\n"
     ]
    }
   ],
   "source": [
    "# List of object names\n",
    "excluded_prefixes = [\"defect\"]\n",
    "filtered_object_names = [name for name in object_names_new if not any(name.startswith(prefix) for prefix in excluded_prefixes)]\n",
    "molecules_to_edit = random.sample(filtered_object_names, crosslinks)\n",
    "\n",
    "# Create an empty list to store selected objects\n",
    "selected_objects = []\n",
    "\n",
    "# Loop over each selected molecule\n",
    "for mol_to_edit in molecules_to_edit:\n",
    "    while True:\n",
    "        # Get available carbon types\n",
    "        h_types = builder.examine_h(mol_to_edit)\n",
    "\n",
    "        if len(h_types['Aliphatic_C_inRing']) >1 and mol_to_edit not in selected_objects:\n",
    "            selected_objects.append(mol_to_edit)  # Condition met, append to selected_objects\n",
    "            break  # Condition met, proceed to modify the molecule\n",
    "        else:\n",
    "            # Select a new molecule from molecules_to_edit\n",
    "            mol_to_edit = random.choice(filtered_object_names)\n",
    "\n",
    "print(len(selected_objects))\n"
   ]
  },
  {
   "cell_type": "code",
   "execution_count": 105,
   "id": "0837f0f9",
   "metadata": {},
   "outputs": [
    {
     "name": "stdout",
     "output_type": "stream",
     "text": [
      "There are no repeated elements in the list.\n"
     ]
    }
   ],
   "source": [
    "# Check for repeated elements\n",
    "has_duplicates = len(selected_objects) != len(set(selected_objects))\n",
    "\n",
    "if has_duplicates:\n",
    "    print(\"There are repeated elements in the list.\")\n",
    "else:\n",
    "    print(\"There are no repeated elements in the list.\")"
   ]
  },
  {
   "cell_type": "code",
   "execution_count": 107,
   "id": "75dd8462",
   "metadata": {},
   "outputs": [],
   "source": [
    "modified_cross = [None] * round(crosslinks/2)\n",
    "mol_to_edit = [None] * (crosslinks)\n",
    "h_types = [None] * (crosslinks)\n",
    "h_choice = [None] * (crosslinks)\n",
    "\n",
    "for i in range(0, round(crosslinks/2)):\n",
    "    mol_to_edit[i]= selected_objects[i]\n",
    "    h_types[i] = builder.examine_h(mol_to_edit[i])\n",
    "    h_choice[i] = random.choice(h_types[i]['Aliphatic_C_inRing'])\n",
    "for j in range(round(crosslinks/2), crosslinks):\n",
    "    mol_to_edit[j] = selected_objects[j]\n",
    "    h_types[j] = builder.examine_h(mol_to_edit[j])\n",
    "    h_choice[j] = random.choice(h_types[j]['Aliphatic_C_inRing'])"
   ]
  },
  {
   "cell_type": "code",
   "execution_count": 108,
   "id": "475042c0",
   "metadata": {},
   "outputs": [],
   "source": [
    "for k in range(0, round(crosslinks/2)):\n",
    "    modified_cross = builder.Crosslink_mols1(mol_to_edit[k], h_choice[k], mol_to_edit[(k+round(crosslinks/2))], h_choice[(k+round(crosslinks/2))])"
   ]
  },
  {
   "cell_type": "code",
   "execution_count": 109,
   "id": "6cbb57e1",
   "metadata": {},
   "outputs": [
    {
     "name": "stdout",
     "output_type": "stream",
     "text": [
      "Element C: 5964\n",
      "Element H: 3161\n",
      "Element N: 7\n",
      "Element O: 839\n",
      "Element S: 0\n",
      "Element Cl: 0\n",
      "Element Si: 0\n"
     ]
    }
   ],
   "source": [
    "# Count the number of atoms for each element\n",
    "atom_counts = {}\n",
    "elements = [\"C\", \"H\", \"N\", \"O\", \"S\", \"Cl\", \"Si\"]\n",
    "\n",
    "for element in elements:\n",
    "    count = cmd.select(f\"elem {element}\")\n",
    "    atom_counts[element] = count\n",
    "FinalN= atom_counts[\"N\"]\n",
    "FinalC2= atom_counts[\"C\"]\n",
    "FinalO= atom_counts[\"O\"]\n",
    "FinalH= atom_counts[\"H\"]\n",
    "# Print the atom counts\n",
    "for element, count in atom_counts.items():\n",
    "    print(f\"Element {element}: {count}\")"
   ]
  },
  {
   "cell_type": "markdown",
   "id": "c51ef5d7",
   "metadata": {},
   "source": [
    "#### Check this values: Should be zero\n"
   ]
  },
  {
   "cell_type": "code",
   "execution_count": 110,
   "id": "848884ec",
   "metadata": {},
   "outputs": [
    {
     "name": "stdout",
     "output_type": "stream",
     "text": [
      "0\n"
     ]
    }
   ],
   "source": [
    "Totalc=FinalC2-FinalC1\n",
    "print(Totalc)"
   ]
  },
  {
   "cell_type": "markdown",
   "id": "45967e49",
   "metadata": {},
   "source": [
    "### Step two: + 25% of the total cross-links"
   ]
  },
  {
   "cell_type": "code",
   "execution_count": 111,
   "id": "4c70ff1f",
   "metadata": {},
   "outputs": [],
   "source": [
    "# Obtain molecules names\n",
    "object_masses= builder.Get_Object_Masses()\n",
    "object_names_new = list(object_masses.keys())\n",
    "# Check if object_names is empty\n",
    "while not object_names_new:\n",
    "    object_masses = builder.Get_Object_Masses()\n",
    "    object_names_new = list(object_masses.keys())"
   ]
  },
  {
   "cell_type": "code",
   "execution_count": 113,
   "id": "6aa7b2c9",
   "metadata": {},
   "outputs": [
    {
     "name": "stdout",
     "output_type": "stream",
     "text": [
      "['combined14', 'combined19', 'combined13', 'combined5', 'combined47', 'combined8', 'coronene4', 'combined38', 'combined45', 'combined34', 'combined27', 'perylene1', 'pentatriacotaene20', 'combined52', 'combined32', 'combined22', 'combined11', 'circumpyrene34', 'combined29', 'combined51', 'pentatriacotaene16', 'coronene2', 'circumpyrene28', 'combined2', 'combined37', 'combined17', 'combined12', 'combined9', 'combined31', 'combined24', 'circumpyrene42', 'combined48', 'coronene5', 'benzo_b_fluorene1', 'combined40', 'combined28', 'combined41', 'combined7', 'combined46', 'combined49', 'combined6', 'circumpyrene18', 'combined3', 'combined42', 'circumpyrene48', 'combined39', 'combined4', 'combined36', 'combined10', 'combined23', 'combined30', 'combined15']\n",
      "52\n"
     ]
    }
   ],
   "source": [
    "# List of object names\n",
    "object_names_new = list(object_masses.keys())\n",
    "excluded_prefixes = [\"defect\"]\n",
    "filtered_object_names = [name for name in object_names_new if not any(name.startswith(prefix) for prefix in excluded_prefixes)]\n",
    "molecules_to_edit = random.sample(filtered_object_names,round_to_lowest_even(crosslinks/2))\n",
    "\n",
    "# Create an empty list to store selected objects\n",
    "selected_objects = []\n",
    "\n",
    "# Loop over each selected molecule\n",
    "for mol_to_edit in molecules_to_edit:\n",
    "    while True:\n",
    "        # Get available carbon types\n",
    "        h_types = builder.examine_h(mol_to_edit)\n",
    "\n",
    "        if len(h_types['Aliphatic_C_inRing']) >2 and mol_to_edit not in selected_objects:\n",
    "            selected_objects.append(mol_to_edit)  # Condition met, append to selected_objects\n",
    "            break  # Condition met, proceed to modify the molecule\n",
    "        else:\n",
    "            # Select a new molecule from molecules_to_edit\n",
    "            mol_to_edit = random.choice(filtered_object_names)\n",
    "\n",
    "print(len(selected_objects))"
   ]
  },
  {
   "cell_type": "code",
   "execution_count": 114,
   "id": "ec24163f",
   "metadata": {},
   "outputs": [
    {
     "name": "stdout",
     "output_type": "stream",
     "text": [
      "There are no repeated elements in the list.\n"
     ]
    }
   ],
   "source": [
    "# Check for repeated elements\n",
    "has_duplicates = len(selected_objects) != len(set(selected_objects))\n",
    "\n",
    "if has_duplicates:\n",
    "    print(\"There are repeated elements in the list.\")\n",
    "else:\n",
    "    print(\"There are no repeated elements in the list.\")"
   ]
  },
  {
   "cell_type": "code",
   "execution_count": 115,
   "id": "6458a59b",
   "metadata": {},
   "outputs": [],
   "source": [
    "modified_cross = [None] * round_to_lowest_even(crosslinks/4)\n",
    "mol_to_edit = [None] * round_to_lowest_even(crosslinks/2)\n",
    "h_types = [None] * round_to_lowest_even(crosslinks/2)\n",
    "h_choice = [None] *round_to_lowest_even(crosslinks/2)\n",
    "\n",
    "for i in range(0, round_to_lowest_even(crosslinks/4)):\n",
    "    mol_to_edit[i]= selected_objects[i]\n",
    "    h_types[i] = builder.examine_h(mol_to_edit[i])\n",
    "    h_choice[i] = random.choice(h_types[i]['Aliphatic_C_inRing'])\n",
    "for j in range(round_to_lowest_even(crosslinks/4), round_to_lowest_even(crosslinks/2)):\n",
    "    mol_to_edit[j] = selected_objects[j]\n",
    "    h_types[j] = builder.examine_h(mol_to_edit[j])\n",
    "    h_choice[j] = random.choice(h_types[j]['Aliphatic_C_inRing'])"
   ]
  },
  {
   "cell_type": "code",
   "execution_count": 116,
   "id": "b80ab926",
   "metadata": {},
   "outputs": [],
   "source": [
    "for k in range(0, round_to_lowest_even(crosslinks/4)):\n",
    "    modified_cross[k]= builder.Crosslink_mols2(mol_to_edit[k], h_choice[k], mol_to_edit[k+round_to_lowest_even(crosslinks/4)], h_choice[k+round_to_lowest_even(crosslinks/4)])"
   ]
  },
  {
   "cell_type": "code",
   "execution_count": 117,
   "id": "8bb552e8",
   "metadata": {},
   "outputs": [
    {
     "name": "stdout",
     "output_type": "stream",
     "text": [
      "Element C: 5964\n",
      "Element H: 3109\n",
      "Element N: 7\n",
      "Element O: 839\n",
      "Element S: 0\n",
      "Element Cl: 0\n",
      "Element Si: 0\n"
     ]
    }
   ],
   "source": [
    "# Count the number of atoms for each element\n",
    "atom_counts = {}\n",
    "elements = [\"C\", \"H\", \"N\", \"O\", \"S\", \"Cl\", \"Si\"]\n",
    "\n",
    "for element in elements:\n",
    "    count = cmd.select(f\"elem {element}\")\n",
    "    atom_counts[element] = count\n",
    "FinalN= atom_counts[\"N\"]\n",
    "FinalC3= atom_counts[\"C\"]\n",
    "FinalO= atom_counts[\"O\"]\n",
    "FinalH= atom_counts[\"H\"]\n",
    "# Print the atom counts\n",
    "for element, count in atom_counts.items():\n",
    "    print(f\"Element {element}: {count}\")"
   ]
  },
  {
   "cell_type": "markdown",
   "id": "72793a4c",
   "metadata": {},
   "source": [
    "#### Check this values: Should be zero"
   ]
  },
  {
   "cell_type": "code",
   "execution_count": 118,
   "id": "bb89f5c3",
   "metadata": {},
   "outputs": [
    {
     "name": "stdout",
     "output_type": "stream",
     "text": [
      "0\n"
     ]
    }
   ],
   "source": [
    "Totalc2=FinalC3-FinalC1\n",
    "print(Totalc2)"
   ]
  },
  {
   "cell_type": "markdown",
   "id": "8117f8be",
   "metadata": {},
   "source": [
    "### Step three: + 12.5% of the total cross-links"
   ]
  },
  {
   "cell_type": "code",
   "execution_count": 119,
   "id": "db96953c",
   "metadata": {},
   "outputs": [],
   "source": [
    "# Obtain molecules names\n",
    "object_masses= builder.Get_Object_Masses()\n",
    "object_names_new = list(object_masses.keys())\n",
    "# Check if object_names is empty\n",
    "while not object_names_new:\n",
    "    object_masses = builder.Get_Object_Masses()\n",
    "    object_names_new = list(object_masses.keys())"
   ]
  },
  {
   "cell_type": "code",
   "execution_count": 120,
   "id": "f9ff4e4e",
   "metadata": {},
   "outputs": [
    {
     "name": "stdout",
     "output_type": "stream",
     "text": [
      "49\n"
     ]
    }
   ],
   "source": [
    "print(len(list(object_masses.keys())))"
   ]
  },
  {
   "cell_type": "code",
   "execution_count": 121,
   "id": "1057cddb",
   "metadata": {},
   "outputs": [
    {
     "name": "stdout",
     "output_type": "stream",
     "text": [
      "['combined_b25', 'combined_b14', 'combined18', 'combined16', 'combined26', 'combined_b21', 'combined_b10', 'coronene15', 'combined_b1', 'combined43', 'combined_b5', 'combined_b8', 'combined_b13', 'combined_b23', 'combined1', 'combined44', 'combined_b19', 'combined_b15', 'combined_b22', 'combined_b17', 'combined_b24', 'pyrene1', 'combined21', 'combined_b20', 'combined_b7', 'combined20']\n",
      "26\n"
     ]
    }
   ],
   "source": [
    "# List of object names\n",
    "\n",
    "object_names_new = list(object_masses.keys())\n",
    "excluded_prefixes = [\"defect\"]\n",
    "filtered_object_names = [name for name in object_names_new if not any(name.startswith(prefix) for prefix in excluded_prefixes)]\n",
    "molecules_to_edit = random.sample(filtered_object_names,round_to_lowest_even(crosslinks/4))\n",
    "\n",
    "# Create an empty list to store selected objects\n",
    "selected_objects = []\n",
    "\n",
    "# Loop over each selected molecule\n",
    "for mol_to_edit in molecules_to_edit:\n",
    "    while True:\n",
    "        # Get available carbon types\n",
    "        h_types = builder.examine_h(mol_to_edit)\n",
    "\n",
    "        if len(h_types['Aliphatic_C_inRing']) > 2 and mol_to_edit not in selected_objects:\n",
    "            selected_objects.append(mol_to_edit)  # Condition met, append to selected_objects\n",
    "            break  # Condition met, proceed to modify the molecule\n",
    "        else:\n",
    "            # Select a new molecule from molecules_to_edit\n",
    "            mol_to_edit = random.choice(filtered_object_names)\n",
    "\n",
    "print(len(selected_objects))"
   ]
  },
  {
   "cell_type": "code",
   "execution_count": 122,
   "id": "0facf90e",
   "metadata": {},
   "outputs": [
    {
     "name": "stdout",
     "output_type": "stream",
     "text": [
      "There are no repeated elements in the list.\n"
     ]
    }
   ],
   "source": [
    "# Check for repeated elements\n",
    "has_duplicates = len(selected_objects) != len(set(selected_objects))\n",
    "\n",
    "if has_duplicates:\n",
    "    print(\"There are repeated elements in the list.\")\n",
    "else:\n",
    "    print(\"There are no repeated elements in the list.\")"
   ]
  },
  {
   "cell_type": "code",
   "execution_count": 123,
   "id": "012acdb1",
   "metadata": {},
   "outputs": [],
   "source": [
    "mol_to_edit = [None] * round_to_lowest_even(crosslinks/4)\n",
    "h_types = [None] * round_to_lowest_even(crosslinks/4)\n",
    "h_choice = [None] *round_to_lowest_even(crosslinks/4)\n",
    "for i in range(0, round_to_lowest_even(crosslinks/8)):\n",
    "    mol_to_edit[i]= selected_objects[i]\n",
    "    h_types[i] = builder.examine_h(mol_to_edit[i])\n",
    "    h_choice[i] = random.choice(h_types[i]['Aliphatic_C_inRing'])\n",
    "for j in range(round_to_lowest_even(crosslinks/8), round_to_lowest_even(crosslinks/4)):\n",
    "    mol_to_edit[j] = selected_objects[j]\n",
    "    h_types[j] = builder.examine_h(mol_to_edit[j])\n",
    "    h_choice[j] = random.choice(h_types[j]['Aliphatic_C_inRing'])"
   ]
  },
  {
   "cell_type": "code",
   "execution_count": 124,
   "id": "49eca918",
   "metadata": {},
   "outputs": [],
   "source": [
    "for k in range(0, round_to_lowest_even(crosslinks/8)):\n",
    "    modified_cross[k]= builder.Crosslink_mols3(mol_to_edit[k], h_choice[k], mol_to_edit[k+round_to_lowest_even(crosslinks/8)], h_choice[k+round_to_lowest_even(crosslinks/8)])"
   ]
  },
  {
   "cell_type": "code",
   "execution_count": 125,
   "id": "a189fe34",
   "metadata": {},
   "outputs": [
    {
     "name": "stdout",
     "output_type": "stream",
     "text": [
      "Element C: 5964\n",
      "Element H: 3085\n",
      "Element N: 7\n",
      "Element O: 839\n",
      "Element S: 0\n",
      "Element Cl: 0\n",
      "Element Si: 0\n"
     ]
    }
   ],
   "source": [
    "# Count the number of atoms for each element\n",
    "atom_counts = {}\n",
    "elements = [\"C\", \"H\", \"N\", \"O\", \"S\", \"Cl\", \"Si\"]\n",
    "\n",
    "for element in elements:\n",
    "    count = cmd.select(f\"elem {element}\")\n",
    "    atom_counts[element] = count\n",
    "FinalN= atom_counts[\"N\"]\n",
    "FinalC4= atom_counts[\"C\"]\n",
    "FinalO= atom_counts[\"O\"]\n",
    "FinalH= atom_counts[\"H\"]\n",
    "# Print the atom counts\n",
    "for element, count in atom_counts.items():\n",
    "    print(f\"Element {element}: {count}\")"
   ]
  },
  {
   "cell_type": "markdown",
   "id": "56ce8abc",
   "metadata": {},
   "source": [
    "#### Check this values: Should be zero"
   ]
  },
  {
   "cell_type": "code",
   "execution_count": 126,
   "id": "8a32a5db",
   "metadata": {},
   "outputs": [
    {
     "name": "stdout",
     "output_type": "stream",
     "text": [
      "0\n"
     ]
    }
   ],
   "source": [
    "Totalc3=FinalC4-FinalC1\n",
    "print(Totalc3)"
   ]
  },
  {
   "cell_type": "markdown",
   "id": "24a4b153",
   "metadata": {},
   "source": [
    "### Step four: do the final 12.5% of the total cross-links"
   ]
  },
  {
   "cell_type": "code",
   "execution_count": 127,
   "id": "67b5e551",
   "metadata": {},
   "outputs": [],
   "source": [
    "# Obtain molecules names\n",
    "object_masses= builder.Get_Object_Masses()\n",
    "object_names_new = list(object_masses.keys())\n",
    "# Check if object_names is empty\n",
    "while not object_names_new:\n",
    "    object_masses = builder.Get_Object_Masses()\n",
    "    object_names_new = list(object_masses.keys())"
   ]
  },
  {
   "cell_type": "code",
   "execution_count": 128,
   "id": "5b69321c",
   "metadata": {},
   "outputs": [
    {
     "name": "stdout",
     "output_type": "stream",
     "text": [
      "37\n"
     ]
    }
   ],
   "source": [
    "print(len(list(object_masses.keys())))"
   ]
  },
  {
   "cell_type": "code",
   "execution_count": 129,
   "id": "b4342222",
   "metadata": {},
   "outputs": [
    {
     "name": "stdout",
     "output_type": "stream",
     "text": [
      "['combined_c12', 'combined_c10', 'combined_c6', 'combined_b9', 'combined50', 'coronene17', 'combined_b7', 'combined_c1', 'combined_b18', 'combined20', 'combined35', 'combined25', 'combined_b6', 'combined_c2', 'circumcoronene1', 'combined33', 'combined_b12', 'combined_c8', 'combined_c5', 'combined_b4', 'combined_b26', 'combined_c3', 'combined_b3', 'combined_b2', 'combined_c9', 'combined_b11']\n",
      "26\n"
     ]
    }
   ],
   "source": [
    "# List of object names\n",
    "object_names_new = list(object_masses.keys())\n",
    "excluded_prefixes = [\"defect\"]\n",
    "filtered_object_names = [name for name in object_names_new if not any(name.startswith(prefix) for prefix in excluded_prefixes)]\n",
    "molecules_to_edit = random.sample(filtered_object_names,round_to_lowest_even(crosslinks/4))\n",
    "\n",
    "# Create an empty list to store selected objects\n",
    "selected_objects = []\n",
    "\n",
    "# Loop over each selected molecule\n",
    "for mol_to_edit in molecules_to_edit:\n",
    "    while True:\n",
    "        # Get available carbon types\n",
    "        h_types = builder.examine_h(mol_to_edit)\n",
    "\n",
    "        if len(h_types['Aliphatic_C_inRing']) > 2 and mol_to_edit not in selected_objects:\n",
    "            selected_objects.append(mol_to_edit)  # Condition met, append to selected_objects\n",
    "            break  # Condition met, proceed to modify the molecule\n",
    "        else:\n",
    "            # Select a new molecule from molecules_to_edit\n",
    "            mol_to_edit = random.choice(filtered_object_names)\n",
    "\n",
    "print(len(selected_objects))"
   ]
  },
  {
   "cell_type": "code",
   "execution_count": 130,
   "id": "e042b886",
   "metadata": {},
   "outputs": [
    {
     "name": "stdout",
     "output_type": "stream",
     "text": [
      "There are no repeated elements in the list.\n"
     ]
    }
   ],
   "source": [
    "# Check for repeated elements\n",
    "has_duplicates = len(selected_objects) != len(set(selected_objects))\n",
    "\n",
    "if has_duplicates:\n",
    "    print(\"There are repeated elements in the list.\")\n",
    "else:\n",
    "    print(\"There are no repeated elements in the list.\")"
   ]
  },
  {
   "cell_type": "code",
   "execution_count": 131,
   "id": "26465201",
   "metadata": {},
   "outputs": [],
   "source": [
    "mol_to_edit = [None] * round_to_lowest_even(crosslinks/4)\n",
    "h_types = [None] * round_to_lowest_even(crosslinks/4)\n",
    "h_choice = [None] *round_to_lowest_even(crosslinks/4)\n",
    "for i in range(0, round_to_lowest_even(crosslinks/8)):\n",
    "    mol_to_edit[i]= selected_objects[i]\n",
    "    h_types[i] = builder.examine_h(mol_to_edit[i])\n",
    "    h_choice[i] = random.choice(h_types[i]['Aliphatic_C_inRing'])\n",
    "for j in range(round_to_lowest_even(crosslinks/8), round_to_lowest_even(crosslinks/4)):\n",
    "    mol_to_edit[j] = selected_objects[j]\n",
    "    h_types[j] = builder.examine_h(mol_to_edit[j])\n",
    "    h_choice[j] = random.choice(h_types[j]['Aliphatic_C_inRing'])"
   ]
  },
  {
   "cell_type": "code",
   "execution_count": 132,
   "id": "1d8ec55c",
   "metadata": {},
   "outputs": [],
   "source": [
    "for k in range(0, round_to_lowest_even(crosslinks/8)):\n",
    "    modified_cross[k]= builder.Crosslink_mols4(mol_to_edit[k], h_choice[k], mol_to_edit[k+round_to_lowest_even(crosslinks/8)], h_choice[k+round_to_lowest_even(crosslinks/8)])"
   ]
  },
  {
   "cell_type": "markdown",
   "id": "91f8701d",
   "metadata": {},
   "source": [
    "## Step 5: Check Final Ultimate Analysis "
   ]
  },
  {
   "cell_type": "code",
   "execution_count": 133,
   "id": "2b77a0a7",
   "metadata": {},
   "outputs": [],
   "source": [
    "# Obtain molecules names\n",
    "object_masses= builder.Get_Object_Masses()\n",
    "object_names_new = list(object_masses.keys())\n",
    "# Check if object_names is empty\n",
    "while not object_names_new:\n",
    "    object_masses = builder.Get_Object_Masses()\n",
    "    object_names_new = list(object_masses.keys())"
   ]
  },
  {
   "cell_type": "code",
   "execution_count": 134,
   "id": "01ed3489",
   "metadata": {},
   "outputs": [],
   "source": [
    "builder.clear_label()"
   ]
  },
  {
   "cell_type": "code",
   "execution_count": 135,
   "id": "055c0a9a",
   "metadata": {},
   "outputs": [
    {
     "name": "stdout",
     "output_type": "stream",
     "text": [
      "Element C: 5964\n",
      "Element H: 3061\n",
      "Element N: 7\n",
      "Element O: 839\n",
      "Element S: 0\n",
      "Element Cl: 0\n",
      "Element Si: 0\n"
     ]
    }
   ],
   "source": [
    "# Count the number of atoms for each element\n",
    "atom_counts = {}\n",
    "elements = [\"C\", \"H\", \"N\", \"O\", \"S\", \"Cl\", \"Si\"]\n",
    "\n",
    "for element in elements:\n",
    "    count = cmd.select(f\"elem {element}\")\n",
    "    atom_counts[element] = count\n",
    "Final_N= atom_counts[\"N\"]\n",
    "Final_C= atom_counts[\"C\"]\n",
    "Final_O= atom_counts[\"O\"]\n",
    "Final_H= atom_counts[\"H\"]\n",
    "# Print the atom counts\n",
    "for element, count in atom_counts.items():\n",
    "    print(f\"Element {element}: {count}\")"
   ]
  },
  {
   "cell_type": "markdown",
   "id": "e40c1d43",
   "metadata": {},
   "source": [
    "#### Check this values: Should be zero"
   ]
  },
  {
   "cell_type": "code",
   "execution_count": 136,
   "id": "11b4a775",
   "metadata": {},
   "outputs": [
    {
     "name": "stdout",
     "output_type": "stream",
     "text": [
      "0\n"
     ]
    }
   ],
   "source": [
    "Totalc4=Final_C-FinalC1\n",
    "print(Totalc4)"
   ]
  },
  {
   "cell_type": "code",
   "execution_count": 137,
   "id": "094bb842",
   "metadata": {},
   "outputs": [
    {
     "name": "stdout",
     "output_type": "stream",
     "text": [
      "MW: 88240\n"
     ]
    }
   ],
   "source": [
    "newMW2=Final_C* 12.011 + Final_H * 1.00784 + Final_N* 14.0067 + Final_O * 15.999\n",
    "print(\"MW:\",round(newMW2))"
   ]
  },
  {
   "cell_type": "code",
   "execution_count": 138,
   "id": "11ad761f",
   "metadata": {},
   "outputs": [
    {
     "name": "stdout",
     "output_type": "stream",
     "text": [
      "Total C: 0.812\n",
      "Final Error: 0.282\n"
     ]
    }
   ],
   "source": [
    "# Carbon\n",
    "Elem_c=(Final_C*12.011)/newMW2\n",
    "print(\"Total C:\",round(Elem_c,3))\n",
    "Err_elemc=(abs(Elem_c-Carbon)/Carbon)*100\n",
    "print(\"Final Error:\",round(Err_elemc,3))"
   ]
  },
  {
   "cell_type": "code",
   "execution_count": 139,
   "id": "e1ef9376",
   "metadata": {},
   "outputs": [
    {
     "name": "stdout",
     "output_type": "stream",
     "text": [
      "Total N: 0.001\n",
      "Final Error: 1.013\n"
     ]
    }
   ],
   "source": [
    "# Nitrogen\n",
    "Elem_n=(Final_N*14.0067)/newMW2\n",
    "print(\"Total N:\",round(Elem_n,3))\n",
    "Err_elemn=(abs(Elem_n-Nitrogen)/Nitrogen)*100\n",
    "print(\"Final Error:\",round(Err_elemn,3))"
   ]
  },
  {
   "cell_type": "code",
   "execution_count": 140,
   "id": "2bb6b039",
   "metadata": {},
   "outputs": [
    {
     "name": "stdout",
     "output_type": "stream",
     "text": [
      "Total O: 0.152\n",
      "Final Error: 1.55\n"
     ]
    }
   ],
   "source": [
    "# Oxygen\n",
    "Elem_o=(Final_O*15.999)/newMW2\n",
    "print(\"Total O:\",round(Elem_o,3))\n",
    "Err_elemo=(abs(Elem_o-Oxygen)/Oxygen)*100\n",
    "print(\"Final Error:\",round(Err_elemo,3))"
   ]
  },
  {
   "cell_type": "code",
   "execution_count": 141,
   "id": "b6b62039",
   "metadata": {},
   "outputs": [
    {
     "name": "stdout",
     "output_type": "stream",
     "text": [
      "Total H: 0.035\n",
      "Final Error: 0.11\n"
     ]
    }
   ],
   "source": [
    "# Hydrogen\n",
    "Elem_h=Final_H*1.00784/newMW2\n",
    "print(\"Total H:\",round(Elem_h,3))\n",
    "Err_elemh=(abs(Elem_h-Hydrogen)/Hydrogen)*100\n",
    "print(\"Final Error:\",round(Err_elemh,3))"
   ]
  },
  {
   "cell_type": "code",
   "execution_count": 142,
   "id": "f052fb03",
   "metadata": {},
   "outputs": [
    {
     "name": "stdout",
     "output_type": "stream",
     "text": [
      "H/C Ratio: 0.513\n",
      "Error: 0.243\n"
     ]
    }
   ],
   "source": [
    "# H/C ratio\n",
    "CarbonMoles = (Final_C * 12.011) / newMW2\n",
    "HydrogenMoles = (Final_H * 1.00784) / newMW2\n",
    "H_C_mod =(HydrogenMoles * 12.011) / (CarbonMoles * 1.00784)\n",
    "print(\"H/C Ratio:\",round(H_C_mod,3))\n",
    "Err_H_C = (abs(H_C_mod - H_C) / H_C) * 100\n",
    "print(\"Error:\",round(Err_H_C,3))"
   ]
  },
  {
   "cell_type": "code",
   "execution_count": 143,
   "id": "5e3aa559",
   "metadata": {},
   "outputs": [
    {
     "name": "stdout",
     "output_type": "stream",
     "text": [
      "O/C Ratio: 0.141\n",
      "Error: 2.684\n"
     ]
    }
   ],
   "source": [
    "# O/C ratio\n",
    "OxygenMoles = (Final_O * 15.999) / newMW2\n",
    "O_C_mod =1/((CarbonMoles * 15.999)/(OxygenMoles  * 12.011)) \n",
    "print(\"O/C Ratio:\",round(O_C_mod,3))\n",
    "Err_C_O = (abs(O_C_mod- O_C) / O_C) * 100\n",
    "print(\"Error:\",round(Err_C_O,3))"
   ]
  },
  {
   "cell_type": "code",
   "execution_count": 144,
   "id": "a493a754",
   "metadata": {},
   "outputs": [
    {
     "name": "stdout",
     "output_type": "stream",
     "text": [
      "Bridgehead Carbon: 0.487\n",
      "Error: 0.255\n"
     ]
    }
   ],
   "source": [
    "# Bridgehead carbon\n",
    "brigd =1-(HydrogenMoles * 12.011) / (CarbonMoles * 1.00784)\n",
    "print(\"Bridgehead Carbon:\",round(brigd,3))\n",
    "Err_brigd = (abs(brigd - BridgheadCarbon) / BridgheadCarbon) * 100\n",
    "print(\"Error:\",round(Err_brigd,3))"
   ]
  },
  {
   "cell_type": "code",
   "execution_count": 145,
   "id": "bbb1c49b",
   "metadata": {},
   "outputs": [],
   "source": [
    "cmd.save(\"biochar.pse\")"
   ]
  },
  {
   "cell_type": "markdown",
   "id": "7aa6c372",
   "metadata": {},
   "source": [
    "## Step 6: Check Final 13C NMR data"
   ]
  },
  {
   "cell_type": "markdown",
   "id": "0af3fe0c",
   "metadata": {},
   "source": [
    "### C-H "
   ]
  },
  {
   "cell_type": "code",
   "execution_count": 146,
   "id": "802aae5a",
   "metadata": {},
   "outputs": [],
   "source": [
    "CH=cmd.select('carbon_hydrogen', '(elem C and neighbor elem H)')"
   ]
  },
  {
   "cell_type": "code",
   "execution_count": 147,
   "id": "3ef80025",
   "metadata": {},
   "outputs": [
    {
     "name": "stdout",
     "output_type": "stream",
     "text": [
      "C-H: 0.316556692871267\n",
      "Error: 2.115\n"
     ]
    }
   ],
   "source": [
    "print(\"C-H:\",(CH-solution[alip]-solution[carb]-solution[carbox])/(Final_C-solution[alip]-solution[carb]-solution[carbox]))\n",
    "Err_CH = (abs((CH-solution[alip]-solution[carb]-solution[carbox])/(Final_C-solution[alip]-solution[carb]-solution[carbox])- C_H_)/C_H_) * 100\n",
    "print(\"Error:\",round(Err_CH,3))"
   ]
  },
  {
   "cell_type": "markdown",
   "id": "c20bb7a2",
   "metadata": {},
   "source": [
    "### C-(x)-H"
   ]
  },
  {
   "cell_type": "code",
   "execution_count": 148,
   "id": "eaa68afa",
   "metadata": {},
   "outputs": [],
   "source": [
    "CXH=cmd.select('carbon_C_hydrogen', '(elem C and neighbor (elem C or elem O and neighbor elem H))')"
   ]
  },
  {
   "cell_type": "code",
   "execution_count": 149,
   "id": "3bcadd99",
   "metadata": {},
   "outputs": [
    {
     "name": "stdout",
     "output_type": "stream",
     "text": [
      "C-x-H: 0.416742574786499\n",
      "Error: 11.331\n"
     ]
    }
   ],
   "source": [
    "print(\"C-x-H:\",(CXH)/(solution[aro]-solution[carb]-solution[carbox]-solution[alip]-solution[defe]))\n",
    "Err_CHx = (abs((CXH)/(solution[aro]-solution[carb]-solution[carbox]-solution[alip]-solution[defe])- C_x_H_)/C_x_H_) * 100\n",
    "print(\"Error:\",round(Err_CHx,3))"
   ]
  },
  {
   "cell_type": "markdown",
   "id": "29fd405b",
   "metadata": {},
   "source": [
    "### C-(2)-H"
   ]
  },
  {
   "cell_type": "code",
   "execution_count": 150,
   "id": "bbe966b4",
   "metadata": {},
   "outputs": [],
   "source": [
    "C2H=cmd.select('carbon_C2_hydrogen', '(elem C and neighbor (elem C and neighbor (elem C and neighbor elem H)))')"
   ]
  },
  {
   "cell_type": "code",
   "execution_count": 151,
   "id": "ebe897e9",
   "metadata": {},
   "outputs": [
    {
     "name": "stdout",
     "output_type": "stream",
     "text": [
      "C-(2)-H: 0.221686407814657\n",
      "Error: 3.615\n"
     ]
    }
   ],
   "source": [
    "print(\"C-(2)-H:\",(C2H-solution[alip]-solution[carb]-solution[carbox]-solution[defe])/(Final_C-solution[defe]))\n",
    "Err_CH2 = (abs((C2H-solution[alip]-solution[carb]-solution[carbox]-solution[defe])/(Final_C-solution[defe]) - C_2_H_)/C_2_H_) * 100\n",
    "print(\"Error:\",round(Err_CH2,3))"
   ]
  },
  {
   "cell_type": "markdown",
   "id": "8f27d80e",
   "metadata": {},
   "source": [
    "## Step 7: organize the grid again and proceed to fix the helium density in LAMMPS"
   ]
  },
  {
   "cell_type": "code",
   "execution_count": 152,
   "id": "2d98ab9d",
   "metadata": {},
   "outputs": [
    {
     "name": "stdout",
     "output_type": "stream",
     "text": [
      "Number of objects: 25\n"
     ]
    }
   ],
   "source": [
    "object_names_new = list(object_masses.keys())\n",
    "# Count the number of objects\n",
    "object_list = cmd.get_object_list()\n",
    "num_objects = len(object_list)\n",
    "\n",
    "# Print the count\n",
    "print(\"Number of objects:\", num_objects)\n",
    "\n",
    "# Define the range of rotation angles in degrees\n",
    "min_angle = 1\n",
    "max_angle = 359.0\n",
    "\n",
    "# Define the number of divisions in each dimension of the grid\n",
    "grid_divisions = 10\n",
    "\n",
    "# Track the positions and angles of molecules\n",
    "positions = []\n",
    "angles = []\n",
    "xmin, xmax = 0, 50\n",
    "ymin, ymax = -50, 0\n",
    "zmin, zmax = 0, 64\n",
    "\n",
    "# Shuffle the object_list to randomize the order\n",
    "random.shuffle(object_names_new)\n",
    "\n",
    "# Calculate the grid size in each dimension\n",
    "grid_size_x = (xmax - xmin) / grid_divisions\n",
    "grid_size_y = (ymax - ymin) / grid_divisions\n",
    "grid_size_z = (zmax - zmin) / grid_divisions\n",
    "\n",
    "# Rotate each molecule in all directions randomly\n",
    "for name in object_list:\n",
    "    # Generate a new position and angle until they are unique\n",
    "    unique_position = False\n",
    "    while not unique_position:\n",
    "        # Calculate the grid indices for the position\n",
    "        grid_index_x = random.randint(0, grid_divisions - 1)\n",
    "        grid_index_y = random.randint(0, grid_divisions - 1)\n",
    "        grid_index_z = random.randint(0, grid_divisions - 1)\n",
    "\n",
    "        # Calculate the position within the grid cell\n",
    "        x = xmin + (grid_index_x + random.uniform(0, 1)) * grid_size_x\n",
    "        y = ymin + (grid_index_y + random.uniform(0, 1)) * grid_size_y\n",
    "        z = zmin + (grid_index_z + random.uniform(0, 1)) * grid_size_z\n",
    "\n",
    "        new_position = (x, y, z)\n",
    "\n",
    "        # Check if the new position conflicts with any existing positions or angles\n",
    "        if all(all(abs(new_position[i] - pos[i]) > 1e-6 for i in range(3)) for pos in positions) and new_position not in positions:\n",
    "            unique_position = True\n",
    "            positions.append(new_position)\n",
    "\n",
    "            # Calculate a new random angle\n",
    "            rotation_angle = random.randint(min_angle, max_angle)\n",
    "            new_angle = (rotation_angle, name)\n",
    "\n",
    "            angles.append(new_angle)\n",
    "\n",
    "            # Perform rotation on the object\n",
    "            for axis in ['x', 'y', 'z']:\n",
    "                rotation_command = \"rotate {0}, {1}, {2}\".format(axis, rotation_angle, name)\n",
    "                cmd.do(rotation_command)\n",
    "\n",
    "# Update the display\n",
    "cmd.refresh()\n"
   ]
  },
  {
   "cell_type": "code",
   "execution_count": 153,
   "id": "c9cfa628",
   "metadata": {},
   "outputs": [],
   "source": [
    "cmd.do('clean %s' % object_names_new)"
   ]
  },
  {
   "cell_type": "markdown",
   "id": "aa233836",
   "metadata": {},
   "source": [
    "## Export the molecules as PDB file"
   ]
  },
  {
   "cell_type": "code",
   "execution_count": 154,
   "id": "2832642b",
   "metadata": {},
   "outputs": [],
   "source": [
    "# Select all atoms\n",
    "cmd.select('all_atoms', 'all')\n",
    "\n",
    "# Export the selection as a multi-file PDB\n",
    "n_states = cmd.count_states('all_atoms')\n",
    "pdb_files = []\n",
    "for state in range(1, n_states + 1):\n",
    "    cmd.frame(state)\n",
    "    pdb_file = f'exported_molecule_{state}.pdb'\n",
    "    cmd.save(pdb_file, 'all_atoms')\n",
    "    pdb_files.append(pdb_file)\n",
    "\n",
    "# Merge the multi-file PDB into a single file\n",
    "merged_file = 'merged_molecule.pdb'\n",
    "with open(merged_file, 'w') as outfile:\n",
    "    for pdb_file in pdb_files:\n",
    "        with open(pdb_file, 'r') as infile:\n",
    "            outfile.write(infile.read())\n",
    "\n",
    "# Save the merged molecule\n",
    "cmd.load(merged_file, 'merged_molecule')\n",
    "cmd.save('final_molecule.pdb', 'merged_molecule')\n",
    "\n",
    "# Clean up the intermediate files\n",
    "for pdb_file in pdb_files:\n",
    "    os.remove(pdb_file)\n",
    "os.remove(merged_file)\n"
   ]
  },
  {
   "cell_type": "code",
   "execution_count": 155,
   "id": "1f7d5db0",
   "metadata": {},
   "outputs": [],
   "source": [
    "# Call the PyMOL aliases\n",
    "cmd.do('colour')\n",
    "cmd.do('orient')\n",
    "# Change colors ans appereance\n",
    "cmd.do('set sphere_scale, 0.2, (all)')\n",
    "cmd.do('set_bond stick_radius, 0.14, (all), (all)')\n",
    "cmd.do('show sticks')\n",
    "cmd.do('show spheres')"
   ]
  },
  {
   "cell_type": "markdown",
   "id": "b16216cf",
   "metadata": {},
   "source": [
    "## Step 8: convert the PDB file to Lammps data using VMD or OVITO"
   ]
  },
  {
   "cell_type": "markdown",
   "id": "afdd3dee",
   "metadata": {},
   "source": [
    "#### To define the x, y, z values use the following code:"
   ]
  },
  {
   "cell_type": "code",
   "execution_count": 156,
   "id": "f1b2e9f9",
   "metadata": {},
   "outputs": [
    {
     "name": "stdout",
     "output_type": "stream",
     "text": [
      "Enter the value for Helium Density: 1.42\n"
     ]
    }
   ],
   "source": [
    "HeliumDensity = float(input(\"Enter the value for Helium Density: \"))  # kg/m3"
   ]
  },
  {
   "cell_type": "code",
   "execution_count": 157,
   "id": "ecc077fe",
   "metadata": {},
   "outputs": [
    {
     "name": "stdout",
     "output_type": "stream",
     "text": [
      " x, y, z: 47\n"
     ]
    }
   ],
   "source": [
    "Temperature=298                             # K\n",
    "Pressure=1                                  # atm\n",
    "Density=(HeliumDensity*1000)/(10**(27))     # g/Å3\n",
    "NA=6.022*10**(23)                           # molecules per mol\n",
    "BoxVolume=1/((Density/newMW2)*NA)           # Å3\n",
    "BoxLength=(BoxVolume)**(1/3)                # Å\n",
    "print(\" x, y, z:\",round(BoxLength))\n"
   ]
  },
  {
   "cell_type": "markdown",
   "id": "1cd4f12e",
   "metadata": {},
   "source": [
    "#### Open the PDB file in VMD, and in the console put the following commands:"
   ]
  },
  {
   "cell_type": "markdown",
   "id": "ea8149e5",
   "metadata": {},
   "source": [
    "cd Desktop"
   ]
  },
  {
   "cell_type": "markdown",
   "id": "13620bd4",
   "metadata": {},
   "source": [
    "pbc set {x y z} -all\n"
   ]
  },
  {
   "cell_type": "markdown",
   "id": "00a45660",
   "metadata": {},
   "source": [
    "pbc box -center all"
   ]
  },
  {
   "cell_type": "markdown",
   "id": "3246c2f9",
   "metadata": {},
   "source": [
    "topo writelammpsdata biochar.data charge"
   ]
  }
 ],
 "metadata": {
  "kernelspec": {
   "display_name": "Python 3 (ipykernel)",
   "language": "python",
   "name": "python3"
  },
  "language_info": {
   "codemirror_mode": {
    "name": "ipython",
    "version": 3
   },
   "file_extension": ".py",
   "mimetype": "text/x-python",
   "name": "python",
   "nbconvert_exporter": "python",
   "pygments_lexer": "ipython3",
   "version": "3.10.9"
  }
 },
 "nbformat": 4,
 "nbformat_minor": 5
}
